{
 "cells": [
  {
   "cell_type": "markdown",
   "metadata": {},
   "source": [
    "### We will first try to train and optimize some ML algorithms to predict the survival of individuals, using all available and meaningful data, and then, following the data analysis, we search for the best algorithm only for predicting the survival of males, following the schema:\n",
    "- if female:\n",
    "    - if all family died:\n",
    "        - predict die\n",
    "    - else predict survive\n",
    "- if male:\n",
    "    - if all family survives:\n",
    "        - predict survive\n",
    "    - else predict survival using ML on data: IsYoung, PClass, and Embarked"
   ]
  },
  {
   "cell_type": "code",
   "execution_count": 39,
   "metadata": {},
   "outputs": [
    {
     "name": "stderr",
     "output_type": "stream",
     "text": [
      "\u001b[32m\u001b[1m   Resolving\u001b[22m\u001b[39m package versions...\n",
      "\u001b[32m\u001b[1m  No Changes\u001b[22m\u001b[39m to `~/.julia/environments/v1.6/Project.toml`\n",
      "\u001b[32m\u001b[1m  No Changes\u001b[22m\u001b[39m to `~/.julia/environments/v1.6/Manifest.toml`\n"
     ]
    }
   ],
   "source": [
    "using Pkg\n",
    "Pkg.add([\"CSV\", \"DataFrames\", \"Statistics\", \"MLJ\"])"
   ]
  },
  {
   "cell_type": "code",
   "execution_count": 40,
   "metadata": {},
   "outputs": [],
   "source": [
    "using CSV, DataFrames, Statistics, MLJ"
   ]
  },
  {
   "cell_type": "code",
   "execution_count": 41,
   "metadata": {},
   "outputs": [],
   "source": [
    "data = CSV.File(\"data/train.csv\") |> DataFrame;"
   ]
  },
  {
   "cell_type": "code",
   "execution_count": 42,
   "metadata": {},
   "outputs": [
    {
     "data": {
      "text/plain": [
       "port_to_numerical (generic function with 2 methods)"
      ]
     },
     "execution_count": 42,
     "metadata": {},
     "output_type": "execute_result"
    }
   ],
   "source": [
    "function port_to_numerical(port)\n",
    "    if ismissing(port) || port == \"S\"\n",
    "        return 0 \n",
    "    elseif port == \"C\"\n",
    "        return 2\n",
    "    else\n",
    "        return 1\n",
    "    end\n",
    "end"
   ]
  },
  {
   "cell_type": "code",
   "execution_count": 43,
   "metadata": {},
   "outputs": [
    {
     "data": {
      "text/plain": [
       "get_family_dict (generic function with 1 method)"
      ]
     },
     "execution_count": 43,
     "metadata": {},
     "output_type": "execute_result"
    }
   ],
   "source": [
    "# regex to extract first name\n",
    "family_name_regex = r\"^([\\w\\-]+)\"\n",
    "\n",
    "function get_family_dict(data)\n",
    "    family_dict = Dict()\n",
    "    \n",
    "    # extract string\n",
    "    for value in eachrow(data)\n",
    "        name = match(family_name_regex, value.Name).match\n",
    "        if haskey(family_dict, name)\n",
    "            # push survived value to set matching the name \n",
    "            push!(get(family_dict, name, nothing), value.Survived)\n",
    "        else\n",
    "            # if dict does not contain this family, create a new set containing the \"Survived\" value of this person\n",
    "            family_dict[name] = [value.Survived]\n",
    "        end\n",
    "    end\n",
    "    \n",
    "    return family_dict\n",
    "end"
   ]
  },
  {
   "cell_type": "code",
   "execution_count": 44,
   "metadata": {},
   "outputs": [
    {
     "data": {
      "text/plain": [
       "family_survived (generic function with 1 method)"
      ]
     },
     "execution_count": 44,
     "metadata": {},
     "output_type": "execute_result"
    }
   ],
   "source": [
    "# function returns 0 if all family died\n",
    "# - 1 if the person is travelling alone or family has mixed survival\n",
    "# - 2 if all family survived\n",
    "function family_survived(example, family_dict)\n",
    "    name = match(family_name_regex, example.Name).match\n",
    "    \n",
    "    if haskey(family_dict, name) && length(get(family_dict, name, nothing)) > 1\n",
    "        value = get(family_dict, name, nothing)\n",
    "        if mean(value) == 1\n",
    "            # all family survived\n",
    "            return 2\n",
    "        elseif mean(value) == 0\n",
    "            # all family died\n",
    "            return 0\n",
    "        end\n",
    "        # mixed survival\n",
    "        return 1\n",
    "    else\n",
    "        # person is travelling alone\n",
    "        return 1\n",
    "    end\n",
    "end"
   ]
  },
  {
   "cell_type": "code",
   "execution_count": 45,
   "metadata": {},
   "outputs": [
    {
     "data": {
      "text/plain": [
       "pre_process (generic function with 2 methods)"
      ]
     },
     "execution_count": 45,
     "metadata": {},
     "output_type": "execute_result"
    }
   ],
   "source": [
    "function pre_process(data, train=true)\n",
    "    # Sex to numerical\n",
    "    data.Sex = map(x -> x == \"male\" ? 0 : 1, data.Sex)\n",
    "    \n",
    "    # IsYoung / Age\n",
    "    # TODO\n",
    "    data.Age = map(x -> !ismissing(x) && x < 14 ? 1 : 0, data.Age)\n",
    "    rename!(data, :Age => :IsYoung)\n",
    "    \n",
    "    # Embarked to numerical\n",
    "    data.Embarked = map(x -> port_to_numerical(x), data.Embarked)\n",
    "    \n",
    "    # FamilySurvived\n",
    "    family_dict = get_family_dict(data)\n",
    "    data.FamilySurvived = map(x -> family_survived(x, family_dict), eachrow(data))\n",
    "    \n",
    "    # drop cols\n",
    "    select!(data, Not([:PassengerId, :Name, :SibSp, :Parch, :Fare, :Ticket, :Cabin]))\n",
    "    \n",
    "    # scitype\n",
    "    if train\n",
    "        coerce!(data, :Survived => OrderedFactor)\n",
    "    end\n",
    "    coerce!(data, Count => Continuous)\n",
    "end"
   ]
  },
  {
   "cell_type": "code",
   "execution_count": 46,
   "metadata": {},
   "outputs": [
    {
     "data": {
      "text/html": [
       "<table class=\"data-frame\"><thead><tr><th></th><th>Survived</th><th>Pclass</th><th>Sex</th><th>IsYoung</th><th>Embarked</th><th>FamilySurvived</th></tr><tr><th></th><th>Cat…</th><th>Float64</th><th>Float64</th><th>Float64</th><th>Float64</th><th>Float64</th></tr></thead><tbody><p>891 rows × 6 columns</p><tr><th>1</th><td>0</td><td>3.0</td><td>0.0</td><td>0.0</td><td>0.0</td><td>0.0</td></tr><tr><th>2</th><td>1</td><td>1.0</td><td>1.0</td><td>0.0</td><td>2.0</td><td>1.0</td></tr><tr><th>3</th><td>1</td><td>3.0</td><td>1.0</td><td>0.0</td><td>0.0</td><td>1.0</td></tr><tr><th>4</th><td>1</td><td>1.0</td><td>1.0</td><td>0.0</td><td>0.0</td><td>1.0</td></tr><tr><th>5</th><td>0</td><td>3.0</td><td>0.0</td><td>0.0</td><td>0.0</td><td>1.0</td></tr><tr><th>6</th><td>0</td><td>3.0</td><td>0.0</td><td>0.0</td><td>1.0</td><td>1.0</td></tr><tr><th>7</th><td>0</td><td>1.0</td><td>0.0</td><td>0.0</td><td>0.0</td><td>1.0</td></tr><tr><th>8</th><td>0</td><td>3.0</td><td>0.0</td><td>1.0</td><td>0.0</td><td>0.0</td></tr><tr><th>9</th><td>1</td><td>3.0</td><td>1.0</td><td>0.0</td><td>0.0</td><td>1.0</td></tr><tr><th>10</th><td>1</td><td>2.0</td><td>1.0</td><td>0.0</td><td>2.0</td><td>1.0</td></tr><tr><th>11</th><td>1</td><td>3.0</td><td>1.0</td><td>1.0</td><td>0.0</td><td>2.0</td></tr><tr><th>12</th><td>1</td><td>1.0</td><td>1.0</td><td>0.0</td><td>0.0</td><td>1.0</td></tr><tr><th>13</th><td>0</td><td>3.0</td><td>0.0</td><td>0.0</td><td>0.0</td><td>1.0</td></tr><tr><th>14</th><td>0</td><td>3.0</td><td>0.0</td><td>0.0</td><td>0.0</td><td>1.0</td></tr><tr><th>15</th><td>0</td><td>3.0</td><td>1.0</td><td>0.0</td><td>0.0</td><td>1.0</td></tr><tr><th>16</th><td>1</td><td>2.0</td><td>1.0</td><td>0.0</td><td>0.0</td><td>1.0</td></tr><tr><th>17</th><td>0</td><td>3.0</td><td>0.0</td><td>1.0</td><td>1.0</td><td>0.0</td></tr><tr><th>18</th><td>1</td><td>2.0</td><td>0.0</td><td>0.0</td><td>0.0</td><td>1.0</td></tr><tr><th>19</th><td>0</td><td>3.0</td><td>1.0</td><td>0.0</td><td>0.0</td><td>0.0</td></tr><tr><th>20</th><td>1</td><td>3.0</td><td>1.0</td><td>0.0</td><td>2.0</td><td>1.0</td></tr><tr><th>21</th><td>0</td><td>2.0</td><td>0.0</td><td>0.0</td><td>0.0</td><td>1.0</td></tr><tr><th>22</th><td>1</td><td>2.0</td><td>0.0</td><td>0.0</td><td>0.0</td><td>1.0</td></tr><tr><th>23</th><td>1</td><td>3.0</td><td>1.0</td><td>0.0</td><td>1.0</td><td>1.0</td></tr><tr><th>24</th><td>1</td><td>1.0</td><td>0.0</td><td>0.0</td><td>0.0</td><td>1.0</td></tr><tr><th>25</th><td>0</td><td>3.0</td><td>1.0</td><td>1.0</td><td>0.0</td><td>0.0</td></tr><tr><th>26</th><td>1</td><td>3.0</td><td>1.0</td><td>0.0</td><td>0.0</td><td>1.0</td></tr><tr><th>27</th><td>0</td><td>3.0</td><td>0.0</td><td>0.0</td><td>2.0</td><td>1.0</td></tr><tr><th>28</th><td>0</td><td>1.0</td><td>0.0</td><td>0.0</td><td>0.0</td><td>1.0</td></tr><tr><th>29</th><td>1</td><td>3.0</td><td>1.0</td><td>0.0</td><td>1.0</td><td>1.0</td></tr><tr><th>30</th><td>0</td><td>3.0</td><td>0.0</td><td>0.0</td><td>0.0</td><td>1.0</td></tr><tr><th>&vellip;</th><td>&vellip;</td><td>&vellip;</td><td>&vellip;</td><td>&vellip;</td><td>&vellip;</td><td>&vellip;</td></tr></tbody></table>"
      ],
      "text/latex": [
       "\\begin{tabular}{r|cccccc}\n",
       "\t& Survived & Pclass & Sex & IsYoung & Embarked & FamilySurvived\\\\\n",
       "\t\\hline\n",
       "\t& Cat… & Float64 & Float64 & Float64 & Float64 & Float64\\\\\n",
       "\t\\hline\n",
       "\t1 & 0 & 3.0 & 0.0 & 0.0 & 0.0 & 0.0 \\\\\n",
       "\t2 & 1 & 1.0 & 1.0 & 0.0 & 2.0 & 1.0 \\\\\n",
       "\t3 & 1 & 3.0 & 1.0 & 0.0 & 0.0 & 1.0 \\\\\n",
       "\t4 & 1 & 1.0 & 1.0 & 0.0 & 0.0 & 1.0 \\\\\n",
       "\t5 & 0 & 3.0 & 0.0 & 0.0 & 0.0 & 1.0 \\\\\n",
       "\t6 & 0 & 3.0 & 0.0 & 0.0 & 1.0 & 1.0 \\\\\n",
       "\t7 & 0 & 1.0 & 0.0 & 0.0 & 0.0 & 1.0 \\\\\n",
       "\t8 & 0 & 3.0 & 0.0 & 1.0 & 0.0 & 0.0 \\\\\n",
       "\t9 & 1 & 3.0 & 1.0 & 0.0 & 0.0 & 1.0 \\\\\n",
       "\t10 & 1 & 2.0 & 1.0 & 0.0 & 2.0 & 1.0 \\\\\n",
       "\t11 & 1 & 3.0 & 1.0 & 1.0 & 0.0 & 2.0 \\\\\n",
       "\t12 & 1 & 1.0 & 1.0 & 0.0 & 0.0 & 1.0 \\\\\n",
       "\t13 & 0 & 3.0 & 0.0 & 0.0 & 0.0 & 1.0 \\\\\n",
       "\t14 & 0 & 3.0 & 0.0 & 0.0 & 0.0 & 1.0 \\\\\n",
       "\t15 & 0 & 3.0 & 1.0 & 0.0 & 0.0 & 1.0 \\\\\n",
       "\t16 & 1 & 2.0 & 1.0 & 0.0 & 0.0 & 1.0 \\\\\n",
       "\t17 & 0 & 3.0 & 0.0 & 1.0 & 1.0 & 0.0 \\\\\n",
       "\t18 & 1 & 2.0 & 0.0 & 0.0 & 0.0 & 1.0 \\\\\n",
       "\t19 & 0 & 3.0 & 1.0 & 0.0 & 0.0 & 0.0 \\\\\n",
       "\t20 & 1 & 3.0 & 1.0 & 0.0 & 2.0 & 1.0 \\\\\n",
       "\t21 & 0 & 2.0 & 0.0 & 0.0 & 0.0 & 1.0 \\\\\n",
       "\t22 & 1 & 2.0 & 0.0 & 0.0 & 0.0 & 1.0 \\\\\n",
       "\t23 & 1 & 3.0 & 1.0 & 0.0 & 1.0 & 1.0 \\\\\n",
       "\t24 & 1 & 1.0 & 0.0 & 0.0 & 0.0 & 1.0 \\\\\n",
       "\t25 & 0 & 3.0 & 1.0 & 1.0 & 0.0 & 0.0 \\\\\n",
       "\t26 & 1 & 3.0 & 1.0 & 0.0 & 0.0 & 1.0 \\\\\n",
       "\t27 & 0 & 3.0 & 0.0 & 0.0 & 2.0 & 1.0 \\\\\n",
       "\t28 & 0 & 1.0 & 0.0 & 0.0 & 0.0 & 1.0 \\\\\n",
       "\t29 & 1 & 3.0 & 1.0 & 0.0 & 1.0 & 1.0 \\\\\n",
       "\t30 & 0 & 3.0 & 0.0 & 0.0 & 0.0 & 1.0 \\\\\n",
       "\t$\\dots$ & $\\dots$ & $\\dots$ & $\\dots$ & $\\dots$ & $\\dots$ & $\\dots$ \\\\\n",
       "\\end{tabular}\n"
      ],
      "text/plain": [
       "\u001b[1m891×6 DataFrame\u001b[0m\n",
       "\u001b[1m Row \u001b[0m│\u001b[1m Survived \u001b[0m\u001b[1m Pclass  \u001b[0m\u001b[1m Sex     \u001b[0m\u001b[1m IsYoung \u001b[0m\u001b[1m Embarked \u001b[0m\u001b[1m FamilySurvived \u001b[0m\n",
       "\u001b[1m     \u001b[0m│\u001b[90m Cat…     \u001b[0m\u001b[90m Float64 \u001b[0m\u001b[90m Float64 \u001b[0m\u001b[90m Float64 \u001b[0m\u001b[90m Float64  \u001b[0m\u001b[90m Float64        \u001b[0m\n",
       "─────┼───────────────────────────────────────────────────────────────\n",
       "   1 │ 0             3.0      0.0      0.0       0.0             0.0\n",
       "   2 │ 1             1.0      1.0      0.0       2.0             1.0\n",
       "   3 │ 1             3.0      1.0      0.0       0.0             1.0\n",
       "   4 │ 1             1.0      1.0      0.0       0.0             1.0\n",
       "   5 │ 0             3.0      0.0      0.0       0.0             1.0\n",
       "   6 │ 0             3.0      0.0      0.0       1.0             1.0\n",
       "   7 │ 0             1.0      0.0      0.0       0.0             1.0\n",
       "   8 │ 0             3.0      0.0      1.0       0.0             0.0\n",
       "   9 │ 1             3.0      1.0      0.0       0.0             1.0\n",
       "  10 │ 1             2.0      1.0      0.0       2.0             1.0\n",
       "  11 │ 1             3.0      1.0      1.0       0.0             2.0\n",
       "  ⋮  │    ⋮         ⋮        ⋮        ⋮        ⋮            ⋮\n",
       " 882 │ 0             3.0      0.0      0.0       0.0             1.0\n",
       " 883 │ 0             3.0      1.0      0.0       0.0             1.0\n",
       " 884 │ 0             2.0      0.0      0.0       0.0             1.0\n",
       " 885 │ 0             3.0      0.0      0.0       0.0             1.0\n",
       " 886 │ 0             3.0      1.0      0.0       1.0             0.0\n",
       " 887 │ 0             2.0      0.0      0.0       0.0             1.0\n",
       " 888 │ 1             1.0      1.0      0.0       0.0             1.0\n",
       " 889 │ 0             3.0      1.0      0.0       0.0             0.0\n",
       " 890 │ 1             1.0      0.0      0.0       2.0             1.0\n",
       " 891 │ 0             3.0      0.0      0.0       1.0             1.0\n",
       "\u001b[36m                                                     870 rows omitted\u001b[0m"
      ]
     },
     "execution_count": 46,
     "metadata": {},
     "output_type": "execute_result"
    }
   ],
   "source": [
    "pre_process(data)"
   ]
  },
  {
   "cell_type": "code",
   "execution_count": null,
   "metadata": {},
   "outputs": [],
   "source": []
  }
 ],
 "metadata": {
  "kernelspec": {
   "display_name": "Julia 1.6.0",
   "language": "julia",
   "name": "julia-1.6"
  },
  "language_info": {
   "file_extension": ".jl",
   "mimetype": "application/julia",
   "name": "julia",
   "version": "1.6.0"
  }
 },
 "nbformat": 4,
 "nbformat_minor": 4
}
