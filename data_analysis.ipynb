{
 "cells": [
  {
   "cell_type": "code",
   "execution_count": 79,
   "metadata": {},
   "outputs": [
    {
     "name": "stderr",
     "output_type": "stream",
     "text": [
      "\u001b[32m\u001b[1m   Resolving\u001b[22m\u001b[39m package versions...\n",
      "\u001b[32m\u001b[1m  No Changes\u001b[22m\u001b[39m to `~/.julia/environments/v1.6/Project.toml`\n",
      "\u001b[32m\u001b[1m  No Changes\u001b[22m\u001b[39m to `~/.julia/environments/v1.6/Manifest.toml`\n"
     ]
    }
   ],
   "source": [
    "using Pkg\n",
    "Pkg.add([\"CSV\", \"DataFrames\", \"StatsPlots\", \"Statistics\", \"MLJ\"])"
   ]
  },
  {
   "cell_type": "code",
   "execution_count": 80,
   "metadata": {},
   "outputs": [],
   "source": [
    "using CSV, DataFrames, StatsPlots, Statistics, MLJ"
   ]
  },
  {
   "cell_type": "markdown",
   "metadata": {},
   "source": [
    "## Read data"
   ]
  },
  {
   "cell_type": "code",
   "execution_count": 7,
   "metadata": {},
   "outputs": [],
   "source": [
    "data = CSV.File(\"data/train.csv\") |> DataFrame;"
   ]
  },
  {
   "cell_type": "markdown",
   "metadata": {},
   "source": [
    "## Study data format and distribution"
   ]
  },
  {
   "cell_type": "code",
   "execution_count": 33,
   "metadata": {},
   "outputs": [
    {
     "name": "stdout",
     "output_type": "stream",
     "text": [
      "\u001b[1m3×12 DataFrame\u001b[0m\n",
      "\u001b[1m Row \u001b[0m│\u001b[1m PassengerId \u001b[0m\u001b[1m Survived \u001b[0m\u001b[1m Pclass \u001b[0m\u001b[1m Name                              \u001b[0m\u001b[1m Sex    \u001b[0m\u001b[1m Age      \u001b[0m\u001b[1m SibSp \u001b[0m\u001b[1m Parch \u001b[0m\u001b[1m Ticket           \u001b[0m\u001b[1m Fare    \u001b[0m\u001b[1m Cabin   \u001b[0m\u001b[1m Embarked \u001b[0m\n",
      "\u001b[1m     \u001b[0m│\u001b[90m Int64       \u001b[0m\u001b[90m Int64    \u001b[0m\u001b[90m Int64  \u001b[0m\u001b[90m String                            \u001b[0m\u001b[90m String \u001b[0m\u001b[90m Float64? \u001b[0m\u001b[90m Int64 \u001b[0m\u001b[90m Int64 \u001b[0m\u001b[90m String           \u001b[0m\u001b[90m Float64 \u001b[0m\u001b[90m String? \u001b[0m\u001b[90m String?  \u001b[0m\n",
      "─────┼────────────────────────────────────────────────────────────────────────────────────────────────────────────────────────────────────────────────\n",
      "   1 │           1         0       3  Braund, Mr. Owen Harris            male        22.0      1      0  A/5 21171          7.25   \u001b[90m missing \u001b[0m S\n",
      "   2 │           2         1       1  Cumings, Mrs. John Bradley (Flor…  female      38.0      1      0  PC 17599          71.2833  C85      C\n",
      "   3 │           3         1       3  Heikkinen, Miss. Laina             female      26.0      0      0  STON/O2. 3101282   7.925  \u001b[90m missing \u001b[0m S"
     ]
    }
   ],
   "source": [
    "print(data[1:3, :])"
   ]
  },
  {
   "cell_type": "code",
   "execution_count": 9,
   "metadata": {},
   "outputs": [
    {
     "data": {
      "text/html": [
       "<table class=\"data-frame\"><thead><tr><th></th><th>variable</th><th>mean</th><th>min</th><th>median</th><th>max</th></tr><tr><th></th><th>Symbol</th><th>Union…</th><th>Any</th><th>Union…</th><th>Any</th></tr></thead><tbody><p>12 rows × 7 columns (omitted printing of 2 columns)</p><tr><th>1</th><td>PassengerId</td><td>446.0</td><td>1</td><td>446.0</td><td>891</td></tr><tr><th>2</th><td>Survived</td><td>0.383838</td><td>0</td><td>0.0</td><td>1</td></tr><tr><th>3</th><td>Pclass</td><td>2.30864</td><td>1</td><td>3.0</td><td>3</td></tr><tr><th>4</th><td>Name</td><td></td><td>Abbing, Mr. Anthony</td><td></td><td>van Melkebeke, Mr. Philemon</td></tr><tr><th>5</th><td>Sex</td><td></td><td>female</td><td></td><td>male</td></tr><tr><th>6</th><td>Age</td><td>29.6991</td><td>0.42</td><td>28.0</td><td>80.0</td></tr><tr><th>7</th><td>SibSp</td><td>0.523008</td><td>0</td><td>0.0</td><td>8</td></tr><tr><th>8</th><td>Parch</td><td>0.381594</td><td>0</td><td>0.0</td><td>6</td></tr><tr><th>9</th><td>Ticket</td><td></td><td>110152</td><td></td><td>WE/P 5735</td></tr><tr><th>10</th><td>Fare</td><td>32.2042</td><td>0.0</td><td>14.4542</td><td>512.329</td></tr><tr><th>11</th><td>Cabin</td><td></td><td>A10</td><td></td><td>T</td></tr><tr><th>12</th><td>Embarked</td><td></td><td>C</td><td></td><td>S</td></tr></tbody></table>"
      ],
      "text/latex": [
       "\\begin{tabular}{r|cccccc}\n",
       "\t& variable & mean & min & median & max & \\\\\n",
       "\t\\hline\n",
       "\t& Symbol & Union… & Any & Union… & Any & \\\\\n",
       "\t\\hline\n",
       "\t1 & PassengerId & 446.0 & 1 & 446.0 & 891 & $\\dots$ \\\\\n",
       "\t2 & Survived & 0.383838 & 0 & 0.0 & 1 & $\\dots$ \\\\\n",
       "\t3 & Pclass & 2.30864 & 1 & 3.0 & 3 & $\\dots$ \\\\\n",
       "\t4 & Name &  & Abbing, Mr. Anthony &  & van Melkebeke, Mr. Philemon & $\\dots$ \\\\\n",
       "\t5 & Sex &  & female &  & male & $\\dots$ \\\\\n",
       "\t6 & Age & 29.6991 & 0.42 & 28.0 & 80.0 & $\\dots$ \\\\\n",
       "\t7 & SibSp & 0.523008 & 0 & 0.0 & 8 & $\\dots$ \\\\\n",
       "\t8 & Parch & 0.381594 & 0 & 0.0 & 6 & $\\dots$ \\\\\n",
       "\t9 & Ticket &  & 110152 &  & WE/P 5735 & $\\dots$ \\\\\n",
       "\t10 & Fare & 32.2042 & 0.0 & 14.4542 & 512.329 & $\\dots$ \\\\\n",
       "\t11 & Cabin &  & A10 &  & T & $\\dots$ \\\\\n",
       "\t12 & Embarked &  & C &  & S & $\\dots$ \\\\\n",
       "\\end{tabular}\n"
      ],
      "text/plain": [
       "\u001b[1m12×7 DataFrame\u001b[0m\n",
       "\u001b[1m Row \u001b[0m│\u001b[1m variable    \u001b[0m\u001b[1m mean     \u001b[0m\u001b[1m min                 \u001b[0m\u001b[1m median  \u001b[0m\u001b[1m max               \u001b[0m ⋯\n",
       "\u001b[1m     \u001b[0m│\u001b[90m Symbol      \u001b[0m\u001b[90m Union…   \u001b[0m\u001b[90m Any                 \u001b[0m\u001b[90m Union…  \u001b[0m\u001b[90m Any               \u001b[0m ⋯\n",
       "─────┼──────────────────────────────────────────────────────────────────────────\n",
       "   1 │ PassengerId  446.0     1                    446.0    891                ⋯\n",
       "   2 │ Survived     0.383838  0                    0.0      1\n",
       "   3 │ Pclass       2.30864   1                    3.0      3\n",
       "   4 │ Name        \u001b[90m          \u001b[0m Abbing, Mr. Anthony \u001b[90m         \u001b[0m van Melkebeke, Mr.\n",
       "   5 │ Sex         \u001b[90m          \u001b[0m female              \u001b[90m         \u001b[0m male               ⋯\n",
       "   6 │ Age          29.6991   0.42                 28.0     80.0\n",
       "   7 │ SibSp        0.523008  0                    0.0      8\n",
       "   8 │ Parch        0.381594  0                    0.0      6\n",
       "   9 │ Ticket      \u001b[90m          \u001b[0m 110152              \u001b[90m         \u001b[0m WE/P 5735          ⋯\n",
       "  10 │ Fare         32.2042   0.0                  14.4542  512.329\n",
       "  11 │ Cabin       \u001b[90m          \u001b[0m A10                 \u001b[90m         \u001b[0m T\n",
       "  12 │ Embarked    \u001b[90m          \u001b[0m C                   \u001b[90m         \u001b[0m S\n",
       "\u001b[36m                                                               3 columns omitted\u001b[0m"
      ]
     },
     "execution_count": 9,
     "metadata": {},
     "output_type": "execute_result"
    }
   ],
   "source": [
    "describe(data)"
   ]
  },
  {
   "cell_type": "code",
   "execution_count": 17,
   "metadata": {},
   "outputs": [
    {
     "data": {
      "text/plain": [
       "┌─────────────┬─────────────────────────┬────────────────────────────┐\n",
       "│\u001b[22m _.names     \u001b[0m│\u001b[22m _.types                 \u001b[0m│\u001b[22m _.scitypes                 \u001b[0m│\n",
       "├─────────────┼─────────────────────────┼────────────────────────────┤\n",
       "│ PassengerId │ Int64                   │ Count                      │\n",
       "│ Survived    │ Int64                   │ Count                      │\n",
       "│ Pclass      │ Int64                   │ Count                      │\n",
       "│ Name        │ String                  │ Textual                    │\n",
       "│ Sex         │ String                  │ Textual                    │\n",
       "│ Age         │ Union{Missing, Float64} │ Union{Missing, Continuous} │\n",
       "│ SibSp       │ Int64                   │ Count                      │\n",
       "│ Parch       │ Int64                   │ Count                      │\n",
       "│ Ticket      │ String                  │ Textual                    │\n",
       "│ Fare        │ Float64                 │ Continuous                 │\n",
       "│ Cabin       │ Union{Missing, String}  │ Union{Missing, Textual}    │\n",
       "│ Embarked    │ Union{Missing, String}  │ Union{Missing, Textual}    │\n",
       "└─────────────┴─────────────────────────┴────────────────────────────┘\n",
       "_.nrows = 891\n"
      ]
     },
     "execution_count": 17,
     "metadata": {},
     "output_type": "execute_result"
    }
   ],
   "source": [
    "schema(data)"
   ]
  },
  {
   "cell_type": "markdown",
   "metadata": {},
   "source": [
    "## Study of missing values\n",
    "As we can see from the above table, our data has missing values for the \"Age\", \"Cabin\", and \"Embarked\" fields.\n",
    "\n",
    "We must assess the proportion of the missing data in the train set to help us decide how to deal with them."
   ]
  },
  {
   "cell_type": "code",
   "execution_count": 30,
   "metadata": {},
   "outputs": [
    {
     "name": "stdout",
     "output_type": "stream",
     "text": [
      "177"
     ]
    }
   ],
   "source": [
    "nmissing_age = 0\n",
    "missing_age_index = []\n",
    "# iterate through each row\n",
    "for index in 1:size(data)[1]\n",
    "    # check if age is missing\n",
    "    if ismissing(data[index, :Age])\n",
    "        nmissing_age += 1\n",
    "        push!(missing_age_index, index)\n",
    "    end\n",
    "end\n",
    "print(nmissing_age)"
   ]
  },
  {
   "cell_type": "code",
   "execution_count": 35,
   "metadata": {},
   "outputs": [
    {
     "name": "stdout",
     "output_type": "stream",
     "text": [
      "52"
     ]
    }
   ],
   "source": [
    "nsurvived_missing_age = 0\n",
    "for value in eachrow(data[missing_age_index, :])\n",
    "    if value.Survived == 1\n",
    "        nsurvived_missing_age += 1\n",
    "    end\n",
    "end\n",
    "print(nsurvived_missing_age)"
   ]
  },
  {
   "cell_type": "markdown",
   "metadata": {},
   "source": [
    "### A large part of the data has missing values for Age, this can turn out to be problematic for the ML algorithms...\n",
    "A possible solution would be to drop the \"Age\" column if there is not a big correlation with target labels.\n",
    "\n",
    "Another would be to replace missing values with random integers sampled according to the mean and variance of the available data."
   ]
  },
  {
   "cell_type": "code",
   "execution_count": 36,
   "metadata": {},
   "outputs": [
    {
     "name": "stdout",
     "output_type": "stream",
     "text": [
      "687"
     ]
    }
   ],
   "source": [
    "nmissing_cabin = 0\n",
    "for index in 1:size(data)[1]\n",
    "    # check if cabin is missing\n",
    "    if ismissing(data[index, :Cabin])\n",
    "        nmissing_cabin += 1\n",
    "    end\n",
    "end\n",
    "print(nmissing_cabin)"
   ]
  },
  {
   "cell_type": "markdown",
   "metadata": {},
   "source": [
    "### The majority of our data does not have a value for the \"Cabin\" field.\n",
    "This doesn't leave much to choose from..\n",
    "\n",
    "Again, we can simply drop the field.\n",
    "\n",
    "Or map it to a new \"HasCabin\" property."
   ]
  },
  {
   "cell_type": "code",
   "execution_count": 37,
   "metadata": {},
   "outputs": [
    {
     "data": {
      "text/html": [
       "<table class=\"data-frame\"><thead><tr><th></th><th>Cabin</th><th>Pclass</th></tr><tr><th></th><th>String?</th><th>Int64</th></tr></thead><tbody><p>891 rows × 2 columns</p><tr><th>1</th><td><em>missing</em></td><td>3</td></tr><tr><th>2</th><td>C85</td><td>1</td></tr><tr><th>3</th><td><em>missing</em></td><td>3</td></tr><tr><th>4</th><td>C123</td><td>1</td></tr><tr><th>5</th><td><em>missing</em></td><td>3</td></tr><tr><th>6</th><td><em>missing</em></td><td>3</td></tr><tr><th>7</th><td>E46</td><td>1</td></tr><tr><th>8</th><td><em>missing</em></td><td>3</td></tr><tr><th>9</th><td><em>missing</em></td><td>3</td></tr><tr><th>10</th><td><em>missing</em></td><td>2</td></tr><tr><th>11</th><td>G6</td><td>3</td></tr><tr><th>12</th><td>C103</td><td>1</td></tr><tr><th>13</th><td><em>missing</em></td><td>3</td></tr><tr><th>14</th><td><em>missing</em></td><td>3</td></tr><tr><th>15</th><td><em>missing</em></td><td>3</td></tr><tr><th>16</th><td><em>missing</em></td><td>2</td></tr><tr><th>17</th><td><em>missing</em></td><td>3</td></tr><tr><th>18</th><td><em>missing</em></td><td>2</td></tr><tr><th>19</th><td><em>missing</em></td><td>3</td></tr><tr><th>20</th><td><em>missing</em></td><td>3</td></tr><tr><th>21</th><td><em>missing</em></td><td>2</td></tr><tr><th>22</th><td>D56</td><td>2</td></tr><tr><th>23</th><td><em>missing</em></td><td>3</td></tr><tr><th>24</th><td>A6</td><td>1</td></tr><tr><th>25</th><td><em>missing</em></td><td>3</td></tr><tr><th>26</th><td><em>missing</em></td><td>3</td></tr><tr><th>27</th><td><em>missing</em></td><td>3</td></tr><tr><th>28</th><td>C23 C25 C27</td><td>1</td></tr><tr><th>29</th><td><em>missing</em></td><td>3</td></tr><tr><th>30</th><td><em>missing</em></td><td>3</td></tr><tr><th>&vellip;</th><td>&vellip;</td><td>&vellip;</td></tr></tbody></table>"
      ],
      "text/latex": [
       "\\begin{tabular}{r|cc}\n",
       "\t& Cabin & Pclass\\\\\n",
       "\t\\hline\n",
       "\t& String? & Int64\\\\\n",
       "\t\\hline\n",
       "\t1 & \\emph{missing} & 3 \\\\\n",
       "\t2 & C85 & 1 \\\\\n",
       "\t3 & \\emph{missing} & 3 \\\\\n",
       "\t4 & C123 & 1 \\\\\n",
       "\t5 & \\emph{missing} & 3 \\\\\n",
       "\t6 & \\emph{missing} & 3 \\\\\n",
       "\t7 & E46 & 1 \\\\\n",
       "\t8 & \\emph{missing} & 3 \\\\\n",
       "\t9 & \\emph{missing} & 3 \\\\\n",
       "\t10 & \\emph{missing} & 2 \\\\\n",
       "\t11 & G6 & 3 \\\\\n",
       "\t12 & C103 & 1 \\\\\n",
       "\t13 & \\emph{missing} & 3 \\\\\n",
       "\t14 & \\emph{missing} & 3 \\\\\n",
       "\t15 & \\emph{missing} & 3 \\\\\n",
       "\t16 & \\emph{missing} & 2 \\\\\n",
       "\t17 & \\emph{missing} & 3 \\\\\n",
       "\t18 & \\emph{missing} & 2 \\\\\n",
       "\t19 & \\emph{missing} & 3 \\\\\n",
       "\t20 & \\emph{missing} & 3 \\\\\n",
       "\t21 & \\emph{missing} & 2 \\\\\n",
       "\t22 & D56 & 2 \\\\\n",
       "\t23 & \\emph{missing} & 3 \\\\\n",
       "\t24 & A6 & 1 \\\\\n",
       "\t25 & \\emph{missing} & 3 \\\\\n",
       "\t26 & \\emph{missing} & 3 \\\\\n",
       "\t27 & \\emph{missing} & 3 \\\\\n",
       "\t28 & C23 C25 C27 & 1 \\\\\n",
       "\t29 & \\emph{missing} & 3 \\\\\n",
       "\t30 & \\emph{missing} & 3 \\\\\n",
       "\t$\\dots$ & $\\dots$ & $\\dots$ \\\\\n",
       "\\end{tabular}\n"
      ],
      "text/plain": [
       "\u001b[1m891×2 DataFrame\u001b[0m\n",
       "\u001b[1m Row \u001b[0m│\u001b[1m Cabin   \u001b[0m\u001b[1m Pclass \u001b[0m\n",
       "\u001b[1m     \u001b[0m│\u001b[90m String? \u001b[0m\u001b[90m Int64  \u001b[0m\n",
       "─────┼─────────────────\n",
       "   1 │\u001b[90m missing \u001b[0m      3\n",
       "   2 │ C85           1\n",
       "   3 │\u001b[90m missing \u001b[0m      3\n",
       "   4 │ C123          1\n",
       "   5 │\u001b[90m missing \u001b[0m      3\n",
       "   6 │\u001b[90m missing \u001b[0m      3\n",
       "   7 │ E46           1\n",
       "   8 │\u001b[90m missing \u001b[0m      3\n",
       "   9 │\u001b[90m missing \u001b[0m      3\n",
       "  10 │\u001b[90m missing \u001b[0m      2\n",
       "  11 │ G6            3\n",
       "  ⋮  │    ⋮       ⋮\n",
       " 882 │\u001b[90m missing \u001b[0m      3\n",
       " 883 │\u001b[90m missing \u001b[0m      3\n",
       " 884 │\u001b[90m missing \u001b[0m      2\n",
       " 885 │\u001b[90m missing \u001b[0m      3\n",
       " 886 │\u001b[90m missing \u001b[0m      3\n",
       " 887 │\u001b[90m missing \u001b[0m      2\n",
       " 888 │ B42           1\n",
       " 889 │\u001b[90m missing \u001b[0m      3\n",
       " 890 │ C148          1\n",
       " 891 │\u001b[90m missing \u001b[0m      3\n",
       "\u001b[36m       870 rows omitted\u001b[0m"
      ]
     },
     "execution_count": 37,
     "metadata": {},
     "output_type": "execute_result"
    }
   ],
   "source": [
    "data[:, [:Cabin, :Pclass]]"
   ]
  },
  {
   "cell_type": "markdown",
   "metadata": {},
   "source": [
    "### We can notice that it is more common for people in second or third class to have a missing cabin.\n",
    "Let's study the relation between these two properties"
   ]
  },
  {
   "cell_type": "code",
   "execution_count": 59,
   "metadata": {},
   "outputs": [],
   "source": [
    "m = zeros(Int64, 3, 2)\n",
    "\n",
    "for value in eachrow(data)\n",
    "    if value.Pclass == 1\n",
    "        if ismissing(value.Cabin)\n",
    "            m[1, 2] = m[1, 2] + 1\n",
    "        else\n",
    "            m[1, 1] = m[1, 1] + 1\n",
    "        end\n",
    "    elseif value.Pclass == 2\n",
    "        if ismissing(value.Cabin)\n",
    "            m[2, 2] = m[2, 2] + 1\n",
    "        else\n",
    "            m[2, 1] = m[2, 1] + 1\n",
    "        end\n",
    "    else\n",
    "        if ismissing(value.Cabin)\n",
    "            m[3, 2] = m[3, 2] + 1\n",
    "        else\n",
    "            m[3, 1] = m[3, 1] + 1\n",
    "        end\n",
    "    end\n",
    "end"
   ]
  },
  {
   "cell_type": "code",
   "execution_count": 71,
   "metadata": {},
   "outputs": [
    {
     "data": {
      "image/svg+xml": [
       "<?xml version=\"1.0\" encoding=\"utf-8\"?>\n",
       "<svg xmlns=\"http://www.w3.org/2000/svg\" xmlns:xlink=\"http://www.w3.org/1999/xlink\" width=\"600\" height=\"400\" viewBox=\"0 0 2400 1600\">\n",
       "<defs>\n",
       "  <clipPath id=\"clip050\">\n",
       "    <rect x=\"0\" y=\"0\" width=\"2400\" height=\"1600\"/>\n",
       "  </clipPath>\n",
       "</defs>\n",
       "<path clip-path=\"url(#clip050)\" d=\"\n",
       "M0 1600 L2400 1600 L2400 0 L0 0  Z\n",
       "  \" fill=\"#ffffff\" fill-rule=\"evenodd\" fill-opacity=\"1\"/>\n",
       "<defs>\n",
       "  <clipPath id=\"clip051\">\n",
       "    <rect x=\"480\" y=\"0\" width=\"1681\" height=\"1600\"/>\n",
       "  </clipPath>\n",
       "</defs>\n",
       "<path clip-path=\"url(#clip050)\" d=\"\n",
       "M235.283 1423.18 L2352.76 1423.18 L2352.76 183.952 L235.283 183.952  Z\n",
       "  \" fill=\"#ffffff\" fill-rule=\"evenodd\" fill-opacity=\"1\"/>\n",
       "<defs>\n",
       "  <clipPath id=\"clip052\">\n",
       "    <rect x=\"235\" y=\"183\" width=\"2118\" height=\"1240\"/>\n",
       "  </clipPath>\n",
       "</defs>\n",
       "<polyline clip-path=\"url(#clip052)\" style=\"stroke:#000000; stroke-width:2; stroke-opacity:0.1; fill:none\" points=\"\n",
       "  284.443,1423.18 284.443,183.952 \n",
       "  \"/>\n",
       "<polyline clip-path=\"url(#clip052)\" style=\"stroke:#000000; stroke-width:2; stroke-opacity:0.1; fill:none\" points=\"\n",
       "  620.968,1423.18 620.968,183.952 \n",
       "  \"/>\n",
       "<polyline clip-path=\"url(#clip052)\" style=\"stroke:#000000; stroke-width:2; stroke-opacity:0.1; fill:none\" points=\"\n",
       "  957.494,1423.18 957.494,183.952 \n",
       "  \"/>\n",
       "<polyline clip-path=\"url(#clip052)\" style=\"stroke:#000000; stroke-width:2; stroke-opacity:0.1; fill:none\" points=\"\n",
       "  1294.02,1423.18 1294.02,183.952 \n",
       "  \"/>\n",
       "<polyline clip-path=\"url(#clip052)\" style=\"stroke:#000000; stroke-width:2; stroke-opacity:0.1; fill:none\" points=\"\n",
       "  1630.54,1423.18 1630.54,183.952 \n",
       "  \"/>\n",
       "<polyline clip-path=\"url(#clip052)\" style=\"stroke:#000000; stroke-width:2; stroke-opacity:0.1; fill:none\" points=\"\n",
       "  1967.07,1423.18 1967.07,183.952 \n",
       "  \"/>\n",
       "<polyline clip-path=\"url(#clip052)\" style=\"stroke:#000000; stroke-width:2; stroke-opacity:0.1; fill:none\" points=\"\n",
       "  2303.6,1423.18 2303.6,183.952 \n",
       "  \"/>\n",
       "<polyline clip-path=\"url(#clip050)\" style=\"stroke:#000000; stroke-width:4; stroke-opacity:1; fill:none\" points=\"\n",
       "  235.283,1423.18 2352.76,1423.18 \n",
       "  \"/>\n",
       "<polyline clip-path=\"url(#clip050)\" style=\"stroke:#000000; stroke-width:4; stroke-opacity:1; fill:none\" points=\"\n",
       "  284.443,1423.18 284.443,1408.31 \n",
       "  \"/>\n",
       "<polyline clip-path=\"url(#clip050)\" style=\"stroke:#000000; stroke-width:4; stroke-opacity:1; fill:none\" points=\"\n",
       "  620.968,1423.18 620.968,1408.31 \n",
       "  \"/>\n",
       "<polyline clip-path=\"url(#clip050)\" style=\"stroke:#000000; stroke-width:4; stroke-opacity:1; fill:none\" points=\"\n",
       "  957.494,1423.18 957.494,1408.31 \n",
       "  \"/>\n",
       "<polyline clip-path=\"url(#clip050)\" style=\"stroke:#000000; stroke-width:4; stroke-opacity:1; fill:none\" points=\"\n",
       "  1294.02,1423.18 1294.02,1408.31 \n",
       "  \"/>\n",
       "<polyline clip-path=\"url(#clip050)\" style=\"stroke:#000000; stroke-width:4; stroke-opacity:1; fill:none\" points=\"\n",
       "  1630.54,1423.18 1630.54,1408.31 \n",
       "  \"/>\n",
       "<polyline clip-path=\"url(#clip050)\" style=\"stroke:#000000; stroke-width:4; stroke-opacity:1; fill:none\" points=\"\n",
       "  1967.07,1423.18 1967.07,1408.31 \n",
       "  \"/>\n",
       "<polyline clip-path=\"url(#clip050)\" style=\"stroke:#000000; stroke-width:4; stroke-opacity:1; fill:none\" points=\"\n",
       "  2303.6,1423.18 2303.6,1408.31 \n",
       "  \"/>\n",
       "<path clip-path=\"url(#clip050)\" d=\"M 0 0 M262.325 1452.37 Q258.713 1452.37 256.885 1455.94 Q255.079 1459.48 255.079 1466.61 Q255.079 1473.71 256.885 1477.28 Q258.713 1480.82 262.325 1480.82 Q265.959 1480.82 267.764 1477.28 Q269.593 1473.71 269.593 1466.61 Q269.593 1459.48 267.764 1455.94 Q265.959 1452.37 262.325 1452.37 M262.325 1448.67 Q268.135 1448.67 271.19 1453.27 Q274.269 1457.86 274.269 1466.61 Q274.269 1475.33 271.19 1479.94 Q268.135 1484.52 262.325 1484.52 Q256.514 1484.52 253.436 1479.94 Q250.38 1475.33 250.38 1466.61 Q250.38 1457.86 253.436 1453.27 Q256.514 1448.67 262.325 1448.67 Z\" fill=\"#000000\" fill-rule=\"evenodd\" fill-opacity=\"1\" /><path clip-path=\"url(#clip050)\" d=\"M 0 0 M282.487 1477.97 L287.371 1477.97 L287.371 1483.85 L282.487 1483.85 L282.487 1477.97 Z\" fill=\"#000000\" fill-rule=\"evenodd\" fill-opacity=\"1\" /><path clip-path=\"url(#clip050)\" d=\"M 0 0 M297.602 1449.29 L315.959 1449.29 L315.959 1453.23 L301.885 1453.23 L301.885 1461.7 Q302.903 1461.35 303.922 1461.19 Q304.94 1461 305.959 1461 Q311.746 1461 315.125 1464.18 Q318.505 1467.35 318.505 1472.76 Q318.505 1478.34 315.033 1481.44 Q311.56 1484.52 305.241 1484.52 Q303.065 1484.52 300.797 1484.15 Q298.551 1483.78 296.144 1483.04 L296.144 1478.34 Q298.227 1479.48 300.449 1480.03 Q302.672 1480.59 305.148 1480.59 Q309.153 1480.59 311.491 1478.48 Q313.829 1476.38 313.829 1472.76 Q313.829 1469.15 311.491 1467.05 Q309.153 1464.94 305.148 1464.94 Q303.273 1464.94 301.398 1465.36 Q299.547 1465.77 297.602 1466.65 L297.602 1449.29 Z\" fill=\"#000000\" fill-rule=\"evenodd\" fill-opacity=\"1\" /><path clip-path=\"url(#clip050)\" d=\"M 0 0 M588.121 1479.92 L595.76 1479.92 L595.76 1453.55 L587.45 1455.22 L587.45 1450.96 L595.714 1449.29 L600.39 1449.29 L600.39 1479.92 L608.028 1479.92 L608.028 1483.85 L588.121 1483.85 L588.121 1479.92 Z\" fill=\"#000000\" fill-rule=\"evenodd\" fill-opacity=\"1\" /><path clip-path=\"url(#clip050)\" d=\"M 0 0 M617.473 1477.97 L622.357 1477.97 L622.357 1483.85 L617.473 1483.85 L617.473 1477.97 Z\" fill=\"#000000\" fill-rule=\"evenodd\" fill-opacity=\"1\" /><path clip-path=\"url(#clip050)\" d=\"M 0 0 M642.542 1452.37 Q638.931 1452.37 637.102 1455.94 Q635.297 1459.48 635.297 1466.61 Q635.297 1473.71 637.102 1477.28 Q638.931 1480.82 642.542 1480.82 Q646.176 1480.82 647.982 1477.28 Q649.811 1473.71 649.811 1466.61 Q649.811 1459.48 647.982 1455.94 Q646.176 1452.37 642.542 1452.37 M642.542 1448.67 Q648.352 1448.67 651.408 1453.27 Q654.486 1457.86 654.486 1466.61 Q654.486 1475.33 651.408 1479.94 Q648.352 1484.52 642.542 1484.52 Q636.732 1484.52 633.653 1479.94 Q630.598 1475.33 630.598 1466.61 Q630.598 1457.86 633.653 1453.27 Q636.732 1448.67 642.542 1448.67 Z\" fill=\"#000000\" fill-rule=\"evenodd\" fill-opacity=\"1\" /><path clip-path=\"url(#clip050)\" d=\"M 0 0 M925.144 1479.92 L932.783 1479.92 L932.783 1453.55 L924.473 1455.22 L924.473 1450.96 L932.737 1449.29 L937.413 1449.29 L937.413 1479.92 L945.052 1479.92 L945.052 1483.85 L925.144 1483.85 L925.144 1479.92 Z\" fill=\"#000000\" fill-rule=\"evenodd\" fill-opacity=\"1\" /><path clip-path=\"url(#clip050)\" d=\"M 0 0 M954.496 1477.97 L959.38 1477.97 L959.38 1483.85 L954.496 1483.85 L954.496 1477.97 Z\" fill=\"#000000\" fill-rule=\"evenodd\" fill-opacity=\"1\" /><path clip-path=\"url(#clip050)\" d=\"M 0 0 M969.612 1449.29 L987.968 1449.29 L987.968 1453.23 L973.894 1453.23 L973.894 1461.7 Q974.913 1461.35 975.931 1461.19 Q976.95 1461 977.968 1461 Q983.755 1461 987.135 1464.18 Q990.514 1467.35 990.514 1472.76 Q990.514 1478.34 987.042 1481.44 Q983.57 1484.52 977.251 1484.52 Q975.075 1484.52 972.806 1484.15 Q970.561 1483.78 968.153 1483.04 L968.153 1478.34 Q970.237 1479.48 972.459 1480.03 Q974.681 1480.59 977.158 1480.59 Q981.163 1480.59 983.501 1478.48 Q985.839 1476.38 985.839 1472.76 Q985.839 1469.15 983.501 1467.05 Q981.163 1464.94 977.158 1464.94 Q975.283 1464.94 973.408 1465.36 Q971.556 1465.77 969.612 1466.65 L969.612 1449.29 Z\" fill=\"#000000\" fill-rule=\"evenodd\" fill-opacity=\"1\" /><path clip-path=\"url(#clip050)\" d=\"M 0 0 M1265.26 1479.92 L1281.58 1479.92 L1281.58 1483.85 L1259.63 1483.85 L1259.63 1479.92 Q1262.3 1477.16 1266.88 1472.53 Q1271.48 1467.88 1272.67 1466.54 Q1274.91 1464.01 1275.79 1462.28 Q1276.69 1460.52 1276.69 1458.83 Q1276.69 1456.07 1274.75 1454.34 Q1272.83 1452.6 1269.73 1452.6 Q1267.53 1452.6 1265.07 1453.37 Q1262.64 1454.13 1259.86 1455.68 L1259.86 1450.96 Q1262.69 1449.82 1265.14 1449.25 Q1267.6 1448.67 1269.63 1448.67 Q1275 1448.67 1278.2 1451.35 Q1281.39 1454.04 1281.39 1458.53 Q1281.39 1460.66 1280.58 1462.58 Q1279.79 1464.48 1277.69 1467.07 Q1277.11 1467.74 1274.01 1470.96 Q1270.91 1474.15 1265.26 1479.92 Z\" fill=\"#000000\" fill-rule=\"evenodd\" fill-opacity=\"1\" /><path clip-path=\"url(#clip050)\" d=\"M 0 0 M1291.39 1477.97 L1296.28 1477.97 L1296.28 1483.85 L1291.39 1483.85 L1291.39 1477.97 Z\" fill=\"#000000\" fill-rule=\"evenodd\" fill-opacity=\"1\" /><path clip-path=\"url(#clip050)\" d=\"M 0 0 M1316.46 1452.37 Q1312.85 1452.37 1311.02 1455.94 Q1309.22 1459.48 1309.22 1466.61 Q1309.22 1473.71 1311.02 1477.28 Q1312.85 1480.82 1316.46 1480.82 Q1320.1 1480.82 1321.9 1477.28 Q1323.73 1473.71 1323.73 1466.61 Q1323.73 1459.48 1321.9 1455.94 Q1320.1 1452.37 1316.46 1452.37 M1316.46 1448.67 Q1322.27 1448.67 1325.33 1453.27 Q1328.41 1457.86 1328.41 1466.61 Q1328.41 1475.33 1325.33 1479.94 Q1322.27 1484.52 1316.46 1484.52 Q1310.65 1484.52 1307.57 1479.94 Q1304.52 1475.33 1304.52 1466.61 Q1304.52 1457.86 1307.57 1453.27 Q1310.65 1448.67 1316.46 1448.67 Z\" fill=\"#000000\" fill-rule=\"evenodd\" fill-opacity=\"1\" /><path clip-path=\"url(#clip050)\" d=\"M 0 0 M1602.28 1479.92 L1618.6 1479.92 L1618.6 1483.85 L1596.66 1483.85 L1596.66 1479.92 Q1599.32 1477.16 1603.9 1472.53 Q1608.51 1467.88 1609.69 1466.54 Q1611.93 1464.01 1612.81 1462.28 Q1613.72 1460.52 1613.72 1458.83 Q1613.72 1456.07 1611.77 1454.34 Q1609.85 1452.6 1606.75 1452.6 Q1604.55 1452.6 1602.1 1453.37 Q1599.67 1454.13 1596.89 1455.68 L1596.89 1450.96 Q1599.71 1449.82 1602.17 1449.25 Q1604.62 1448.67 1606.66 1448.67 Q1612.03 1448.67 1615.22 1451.35 Q1618.42 1454.04 1618.42 1458.53 Q1618.42 1460.66 1617.61 1462.58 Q1616.82 1464.48 1614.71 1467.07 Q1614.13 1467.74 1611.03 1470.96 Q1607.93 1474.15 1602.28 1479.92 Z\" fill=\"#000000\" fill-rule=\"evenodd\" fill-opacity=\"1\" /><path clip-path=\"url(#clip050)\" d=\"M 0 0 M1628.42 1477.97 L1633.3 1477.97 L1633.3 1483.85 L1628.42 1483.85 L1628.42 1477.97 Z\" fill=\"#000000\" fill-rule=\"evenodd\" fill-opacity=\"1\" /><path clip-path=\"url(#clip050)\" d=\"M 0 0 M1643.53 1449.29 L1661.89 1449.29 L1661.89 1453.23 L1647.81 1453.23 L1647.81 1461.7 Q1648.83 1461.35 1649.85 1461.19 Q1650.87 1461 1651.89 1461 Q1657.67 1461 1661.05 1464.18 Q1664.43 1467.35 1664.43 1472.76 Q1664.43 1478.34 1660.96 1481.44 Q1657.49 1484.52 1651.17 1484.52 Q1648.99 1484.52 1646.73 1484.15 Q1644.48 1483.78 1642.07 1483.04 L1642.07 1478.34 Q1644.16 1479.48 1646.38 1480.03 Q1648.6 1480.59 1651.08 1480.59 Q1655.08 1480.59 1657.42 1478.48 Q1659.76 1476.38 1659.76 1472.76 Q1659.76 1469.15 1657.42 1467.05 Q1655.08 1464.94 1651.08 1464.94 Q1649.2 1464.94 1647.33 1465.36 Q1645.48 1465.77 1643.53 1466.65 L1643.53 1449.29 Z\" fill=\"#000000\" fill-rule=\"evenodd\" fill-opacity=\"1\" /><path clip-path=\"url(#clip050)\" d=\"M 0 0 M1948.38 1465.22 Q1951.74 1465.94 1953.61 1468.2 Q1955.51 1470.47 1955.51 1473.81 Q1955.51 1478.92 1951.99 1481.72 Q1948.47 1484.52 1941.99 1484.52 Q1939.81 1484.52 1937.5 1484.08 Q1935.21 1483.67 1932.75 1482.81 L1932.75 1478.3 Q1934.7 1479.43 1937.01 1480.01 Q1939.33 1480.59 1941.85 1480.59 Q1946.25 1480.59 1948.54 1478.85 Q1950.86 1477.12 1950.86 1473.81 Q1950.86 1470.75 1948.7 1469.04 Q1946.57 1467.3 1942.75 1467.3 L1938.73 1467.3 L1938.73 1463.46 L1942.94 1463.46 Q1946.39 1463.46 1948.22 1462.09 Q1950.05 1460.7 1950.05 1458.11 Q1950.05 1455.45 1948.15 1454.04 Q1946.27 1452.6 1942.75 1452.6 Q1940.83 1452.6 1938.63 1453.02 Q1936.43 1453.44 1933.8 1454.31 L1933.8 1450.15 Q1936.46 1449.41 1938.77 1449.04 Q1941.11 1448.67 1943.17 1448.67 Q1948.49 1448.67 1951.6 1451.1 Q1954.7 1453.5 1954.7 1457.63 Q1954.7 1460.5 1953.05 1462.49 Q1951.41 1464.45 1948.38 1465.22 Z\" fill=\"#000000\" fill-rule=\"evenodd\" fill-opacity=\"1\" /><path clip-path=\"url(#clip050)\" d=\"M 0 0 M1964.37 1477.97 L1969.26 1477.97 L1969.26 1483.85 L1964.37 1483.85 L1964.37 1477.97 Z\" fill=\"#000000\" fill-rule=\"evenodd\" fill-opacity=\"1\" /><path clip-path=\"url(#clip050)\" d=\"M 0 0 M1989.44 1452.37 Q1985.83 1452.37 1984 1455.94 Q1982.2 1459.48 1982.2 1466.61 Q1982.2 1473.71 1984 1477.28 Q1985.83 1480.82 1989.44 1480.82 Q1993.08 1480.82 1994.88 1477.28 Q1996.71 1473.71 1996.71 1466.61 Q1996.71 1459.48 1994.88 1455.94 Q1993.08 1452.37 1989.44 1452.37 M1989.44 1448.67 Q1995.25 1448.67 1998.31 1453.27 Q2001.39 1457.86 2001.39 1466.61 Q2001.39 1475.33 1998.31 1479.94 Q1995.25 1484.52 1989.44 1484.52 Q1983.63 1484.52 1980.55 1479.94 Q1977.5 1475.33 1977.5 1466.61 Q1977.5 1457.86 1980.55 1453.27 Q1983.63 1448.67 1989.44 1448.67 Z\" fill=\"#000000\" fill-rule=\"evenodd\" fill-opacity=\"1\" /><path clip-path=\"url(#clip050)\" d=\"M 0 0 M2285.4 1465.22 Q2288.76 1465.94 2290.63 1468.2 Q2292.53 1470.47 2292.53 1473.81 Q2292.53 1478.92 2289.01 1481.72 Q2285.49 1484.52 2279.01 1484.52 Q2276.84 1484.52 2274.52 1484.08 Q2272.23 1483.67 2269.78 1482.81 L2269.78 1478.3 Q2271.72 1479.43 2274.04 1480.01 Q2276.35 1480.59 2278.87 1480.59 Q2283.27 1480.59 2285.56 1478.85 Q2287.88 1477.12 2287.88 1473.81 Q2287.88 1470.75 2285.73 1469.04 Q2283.6 1467.3 2279.78 1467.3 L2275.75 1467.3 L2275.75 1463.46 L2279.96 1463.46 Q2283.41 1463.46 2285.24 1462.09 Q2287.07 1460.7 2287.07 1458.11 Q2287.07 1455.45 2285.17 1454.04 Q2283.3 1452.6 2279.78 1452.6 Q2277.86 1452.6 2275.66 1453.02 Q2273.46 1453.44 2270.82 1454.31 L2270.82 1450.15 Q2273.48 1449.41 2275.8 1449.04 Q2278.13 1448.67 2280.19 1448.67 Q2285.52 1448.67 2288.62 1451.1 Q2291.72 1453.5 2291.72 1457.63 Q2291.72 1460.5 2290.08 1462.49 Q2288.43 1464.45 2285.4 1465.22 Z\" fill=\"#000000\" fill-rule=\"evenodd\" fill-opacity=\"1\" /><path clip-path=\"url(#clip050)\" d=\"M 0 0 M2301.4 1477.97 L2306.28 1477.97 L2306.28 1483.85 L2301.4 1483.85 L2301.4 1477.97 Z\" fill=\"#000000\" fill-rule=\"evenodd\" fill-opacity=\"1\" /><path clip-path=\"url(#clip050)\" d=\"M 0 0 M2316.51 1449.29 L2334.87 1449.29 L2334.87 1453.23 L2320.8 1453.23 L2320.8 1461.7 Q2321.81 1461.35 2322.83 1461.19 Q2323.85 1461 2324.87 1461 Q2330.66 1461 2334.04 1464.18 Q2337.42 1467.35 2337.42 1472.76 Q2337.42 1478.34 2333.94 1481.44 Q2330.47 1484.52 2324.15 1484.52 Q2321.98 1484.52 2319.71 1484.15 Q2317.46 1483.78 2315.05 1483.04 L2315.05 1478.34 Q2317.14 1479.48 2319.36 1480.03 Q2321.58 1480.59 2324.06 1480.59 Q2328.06 1480.59 2330.4 1478.48 Q2332.74 1476.38 2332.74 1472.76 Q2332.74 1469.15 2330.4 1467.05 Q2328.06 1464.94 2324.06 1464.94 Q2322.18 1464.94 2320.31 1465.36 Q2318.46 1465.77 2316.51 1466.65 L2316.51 1449.29 Z\" fill=\"#000000\" fill-rule=\"evenodd\" fill-opacity=\"1\" /><path clip-path=\"url(#clip050)\" d=\"M 0 0 M1250.02 1524.18 L1250.02 1530.96 Q1246.77 1527.94 1243.08 1526.44 Q1239.42 1524.95 1235.28 1524.95 Q1227.13 1524.95 1222.8 1529.95 Q1218.47 1534.91 1218.47 1544.33 Q1218.47 1553.72 1222.8 1558.72 Q1227.13 1563.68 1235.28 1563.68 Q1239.42 1563.68 1243.08 1562.19 Q1246.77 1560.69 1250.02 1557.67 L1250.02 1564.38 Q1246.64 1566.68 1242.86 1567.82 Q1239.1 1568.97 1234.9 1568.97 Q1224.11 1568.97 1217.9 1562.38 Q1211.69 1555.76 1211.69 1544.33 Q1211.69 1532.87 1217.9 1526.28 Q1224.11 1519.66 1234.9 1519.66 Q1239.16 1519.66 1242.92 1520.81 Q1246.71 1521.92 1250.02 1524.18 Z\" fill=\"#000000\" fill-rule=\"evenodd\" fill-opacity=\"1\" /><path clip-path=\"url(#clip050)\" d=\"M 0 0 M1259.69 1518.52 L1265.55 1518.52 L1265.55 1568.04 L1259.69 1568.04 L1259.69 1518.52 Z\" fill=\"#000000\" fill-rule=\"evenodd\" fill-opacity=\"1\" /><path clip-path=\"url(#clip050)\" d=\"M 0 0 M1294 1550.12 Q1286.91 1550.12 1284.17 1551.75 Q1281.43 1553.37 1281.43 1557.29 Q1281.43 1560.4 1283.47 1562.25 Q1285.54 1564.07 1289.07 1564.07 Q1293.94 1564.07 1296.87 1560.63 Q1299.83 1557.16 1299.83 1551.43 L1299.83 1550.12 L1294 1550.12 M1305.68 1547.71 L1305.68 1568.04 L1299.83 1568.04 L1299.83 1562.63 Q1297.82 1565.88 1294.83 1567.44 Q1291.84 1568.97 1287.51 1568.97 Q1282.04 1568.97 1278.79 1565.91 Q1275.57 1562.82 1275.57 1557.67 Q1275.57 1551.65 1279.59 1548.6 Q1283.63 1545.54 1291.62 1545.54 L1299.83 1545.54 L1299.83 1544.97 Q1299.83 1540.93 1297.15 1538.73 Q1294.51 1536.5 1289.71 1536.5 Q1286.65 1536.5 1283.75 1537.23 Q1280.86 1537.97 1278.18 1539.43 L1278.18 1534.02 Q1281.4 1532.78 1284.42 1532.17 Q1287.45 1531.54 1290.31 1531.54 Q1298.05 1531.54 1301.87 1535.55 Q1305.68 1539.56 1305.68 1547.71 Z\" fill=\"#000000\" fill-rule=\"evenodd\" fill-opacity=\"1\" /><path clip-path=\"url(#clip050)\" d=\"M 0 0 M1340.47 1533.45 L1340.47 1538.98 Q1337.99 1537.71 1335.32 1537.07 Q1332.64 1536.44 1329.78 1536.44 Q1325.42 1536.44 1323.22 1537.77 Q1321.06 1539.11 1321.06 1541.79 Q1321.06 1543.82 1322.62 1545 Q1324.18 1546.15 1328.89 1547.2 L1330.89 1547.64 Q1337.13 1548.98 1339.74 1551.43 Q1342.38 1553.85 1342.38 1558.21 Q1342.38 1563.17 1338.44 1566.07 Q1334.52 1568.97 1327.65 1568.97 Q1324.78 1568.97 1321.66 1568.39 Q1318.58 1567.85 1315.14 1566.74 L1315.14 1560.69 Q1318.38 1562.38 1321.54 1563.24 Q1324.69 1564.07 1327.77 1564.07 Q1331.91 1564.07 1334.14 1562.66 Q1336.37 1561.23 1336.37 1558.65 Q1336.37 1556.27 1334.74 1554.99 Q1333.15 1553.72 1327.71 1552.54 L1325.67 1552.07 Q1320.23 1550.92 1317.81 1548.56 Q1315.39 1546.18 1315.39 1542.04 Q1315.39 1537.01 1318.96 1534.27 Q1322.52 1531.54 1329.08 1531.54 Q1332.33 1531.54 1335.19 1532.01 Q1338.05 1532.49 1340.47 1533.45 Z\" fill=\"#000000\" fill-rule=\"evenodd\" fill-opacity=\"1\" /><path clip-path=\"url(#clip050)\" d=\"M 0 0 M1374.43 1533.45 L1374.43 1538.98 Q1371.95 1537.71 1369.28 1537.07 Q1366.6 1536.44 1363.74 1536.44 Q1359.38 1536.44 1357.18 1537.77 Q1355.02 1539.11 1355.02 1541.79 Q1355.02 1543.82 1356.58 1545 Q1358.14 1546.15 1362.85 1547.2 L1364.85 1547.64 Q1371.09 1548.98 1373.7 1551.43 Q1376.34 1553.85 1376.34 1558.21 Q1376.34 1563.17 1372.4 1566.07 Q1368.48 1568.97 1361.61 1568.97 Q1358.74 1568.97 1355.62 1568.39 Q1352.54 1567.85 1349.1 1566.74 L1349.1 1560.69 Q1352.35 1562.38 1355.5 1563.24 Q1358.65 1564.07 1361.73 1564.07 Q1365.87 1564.07 1368.1 1562.66 Q1370.33 1561.23 1370.33 1558.65 Q1370.33 1556.27 1368.71 1554.99 Q1367.11 1553.72 1361.67 1552.54 L1359.63 1552.07 Q1354.19 1550.92 1351.77 1548.56 Q1349.35 1546.18 1349.35 1542.04 Q1349.35 1537.01 1352.92 1534.27 Q1356.48 1531.54 1363.04 1531.54 Q1366.29 1531.54 1369.15 1532.01 Q1372.02 1532.49 1374.43 1533.45 Z\" fill=\"#000000\" fill-rule=\"evenodd\" fill-opacity=\"1\" /><polyline clip-path=\"url(#clip052)\" style=\"stroke:#000000; stroke-width:2; stroke-opacity:0.1; fill:none\" points=\"\n",
       "  235.283,1388.11 2352.76,1388.11 \n",
       "  \"/>\n",
       "<polyline clip-path=\"url(#clip052)\" style=\"stroke:#000000; stroke-width:2; stroke-opacity:0.1; fill:none\" points=\"\n",
       "  235.283,1150 2352.76,1150 \n",
       "  \"/>\n",
       "<polyline clip-path=\"url(#clip052)\" style=\"stroke:#000000; stroke-width:2; stroke-opacity:0.1; fill:none\" points=\"\n",
       "  235.283,911.903 2352.76,911.903 \n",
       "  \"/>\n",
       "<polyline clip-path=\"url(#clip052)\" style=\"stroke:#000000; stroke-width:2; stroke-opacity:0.1; fill:none\" points=\"\n",
       "  235.283,673.8 2352.76,673.8 \n",
       "  \"/>\n",
       "<polyline clip-path=\"url(#clip052)\" style=\"stroke:#000000; stroke-width:2; stroke-opacity:0.1; fill:none\" points=\"\n",
       "  235.283,435.698 2352.76,435.698 \n",
       "  \"/>\n",
       "<polyline clip-path=\"url(#clip052)\" style=\"stroke:#000000; stroke-width:2; stroke-opacity:0.1; fill:none\" points=\"\n",
       "  235.283,197.595 2352.76,197.595 \n",
       "  \"/>\n",
       "<polyline clip-path=\"url(#clip050)\" style=\"stroke:#000000; stroke-width:4; stroke-opacity:1; fill:none\" points=\"\n",
       "  235.283,1423.18 235.283,183.952 \n",
       "  \"/>\n",
       "<polyline clip-path=\"url(#clip050)\" style=\"stroke:#000000; stroke-width:4; stroke-opacity:1; fill:none\" points=\"\n",
       "  235.283,1388.11 260.693,1388.11 \n",
       "  \"/>\n",
       "<polyline clip-path=\"url(#clip050)\" style=\"stroke:#000000; stroke-width:4; stroke-opacity:1; fill:none\" points=\"\n",
       "  235.283,1150 260.693,1150 \n",
       "  \"/>\n",
       "<polyline clip-path=\"url(#clip050)\" style=\"stroke:#000000; stroke-width:4; stroke-opacity:1; fill:none\" points=\"\n",
       "  235.283,911.903 260.693,911.903 \n",
       "  \"/>\n",
       "<polyline clip-path=\"url(#clip050)\" style=\"stroke:#000000; stroke-width:4; stroke-opacity:1; fill:none\" points=\"\n",
       "  235.283,673.8 260.693,673.8 \n",
       "  \"/>\n",
       "<polyline clip-path=\"url(#clip050)\" style=\"stroke:#000000; stroke-width:4; stroke-opacity:1; fill:none\" points=\"\n",
       "  235.283,435.698 260.693,435.698 \n",
       "  \"/>\n",
       "<polyline clip-path=\"url(#clip050)\" style=\"stroke:#000000; stroke-width:4; stroke-opacity:1; fill:none\" points=\"\n",
       "  235.283,197.595 260.693,197.595 \n",
       "  \"/>\n",
       "<path clip-path=\"url(#clip050)\" d=\"M 0 0 M187.338 1373.91 Q183.727 1373.91 181.899 1377.47 Q180.093 1381.01 180.093 1388.14 Q180.093 1395.25 181.899 1398.81 Q183.727 1402.35 187.338 1402.35 Q190.973 1402.35 192.778 1398.81 Q194.607 1395.25 194.607 1388.14 Q194.607 1381.01 192.778 1377.47 Q190.973 1373.91 187.338 1373.91 M187.338 1370.2 Q193.149 1370.2 196.204 1374.81 Q199.283 1379.39 199.283 1388.14 Q199.283 1396.87 196.204 1401.48 Q193.149 1406.06 187.338 1406.06 Q181.528 1406.06 178.45 1401.48 Q175.394 1396.87 175.394 1388.14 Q175.394 1379.39 178.45 1374.81 Q181.528 1370.2 187.338 1370.2 Z\" fill=\"#000000\" fill-rule=\"evenodd\" fill-opacity=\"1\" /><path clip-path=\"url(#clip050)\" d=\"M 0 0 M117.825 1163.35 L125.464 1163.35 L125.464 1136.98 L117.154 1138.65 L117.154 1134.39 L125.418 1132.72 L130.093 1132.72 L130.093 1163.35 L137.732 1163.35 L137.732 1167.28 L117.825 1167.28 L117.825 1163.35 Z\" fill=\"#000000\" fill-rule=\"evenodd\" fill-opacity=\"1\" /><path clip-path=\"url(#clip050)\" d=\"M 0 0 M157.177 1135.8 Q153.566 1135.8 151.737 1139.37 Q149.931 1142.91 149.931 1150.04 Q149.931 1157.15 151.737 1160.71 Q153.566 1164.25 157.177 1164.25 Q160.811 1164.25 162.616 1160.71 Q164.445 1157.15 164.445 1150.04 Q164.445 1142.91 162.616 1139.37 Q160.811 1135.8 157.177 1135.8 M157.177 1132.1 Q162.987 1132.1 166.042 1136.71 Q169.121 1141.29 169.121 1150.04 Q169.121 1158.77 166.042 1163.37 Q162.987 1167.96 157.177 1167.96 Q151.366 1167.96 148.288 1163.37 Q145.232 1158.77 145.232 1150.04 Q145.232 1141.29 148.288 1136.71 Q151.366 1132.1 157.177 1132.1 Z\" fill=\"#000000\" fill-rule=\"evenodd\" fill-opacity=\"1\" /><path clip-path=\"url(#clip050)\" d=\"M 0 0 M187.338 1135.8 Q183.727 1135.8 181.899 1139.37 Q180.093 1142.91 180.093 1150.04 Q180.093 1157.15 181.899 1160.71 Q183.727 1164.25 187.338 1164.25 Q190.973 1164.25 192.778 1160.71 Q194.607 1157.15 194.607 1150.04 Q194.607 1142.91 192.778 1139.37 Q190.973 1135.8 187.338 1135.8 M187.338 1132.1 Q193.149 1132.1 196.204 1136.71 Q199.283 1141.29 199.283 1150.04 Q199.283 1158.77 196.204 1163.37 Q193.149 1167.96 187.338 1167.96 Q181.528 1167.96 178.45 1163.37 Q175.394 1158.77 175.394 1150.04 Q175.394 1141.29 178.45 1136.71 Q181.528 1132.1 187.338 1132.1 Z\" fill=\"#000000\" fill-rule=\"evenodd\" fill-opacity=\"1\" /><path clip-path=\"url(#clip050)\" d=\"M 0 0 M121.043 925.247 L137.362 925.247 L137.362 929.183 L115.418 929.183 L115.418 925.247 Q118.08 922.493 122.663 917.863 Q127.269 913.21 128.45 911.868 Q130.695 909.345 131.575 907.609 Q132.478 905.849 132.478 904.16 Q132.478 901.405 130.533 899.669 Q128.612 897.933 125.51 897.933 Q123.311 897.933 120.857 898.697 Q118.427 899.461 115.649 901.011 L115.649 896.289 Q118.473 895.155 120.927 894.576 Q123.38 893.998 125.418 893.998 Q130.788 893.998 133.982 896.683 Q137.177 899.368 137.177 903.859 Q137.177 905.988 136.367 907.91 Q135.579 909.808 133.473 912.4 Q132.894 913.072 129.792 916.289 Q126.691 919.484 121.043 925.247 Z\" fill=\"#000000\" fill-rule=\"evenodd\" fill-opacity=\"1\" /><path clip-path=\"url(#clip050)\" d=\"M 0 0 M157.177 897.701 Q153.566 897.701 151.737 901.266 Q149.931 904.808 149.931 911.937 Q149.931 919.044 151.737 922.609 Q153.566 926.15 157.177 926.15 Q160.811 926.15 162.616 922.609 Q164.445 919.044 164.445 911.937 Q164.445 904.808 162.616 901.266 Q160.811 897.701 157.177 897.701 M157.177 893.998 Q162.987 893.998 166.042 898.604 Q169.121 903.187 169.121 911.937 Q169.121 920.664 166.042 925.271 Q162.987 929.854 157.177 929.854 Q151.366 929.854 148.288 925.271 Q145.232 920.664 145.232 911.937 Q145.232 903.187 148.288 898.604 Q151.366 893.998 157.177 893.998 Z\" fill=\"#000000\" fill-rule=\"evenodd\" fill-opacity=\"1\" /><path clip-path=\"url(#clip050)\" d=\"M 0 0 M187.338 897.701 Q183.727 897.701 181.899 901.266 Q180.093 904.808 180.093 911.937 Q180.093 919.044 181.899 922.609 Q183.727 926.15 187.338 926.15 Q190.973 926.15 192.778 922.609 Q194.607 919.044 194.607 911.937 Q194.607 904.808 192.778 901.266 Q190.973 897.701 187.338 897.701 M187.338 893.998 Q193.149 893.998 196.204 898.604 Q199.283 903.187 199.283 911.937 Q199.283 920.664 196.204 925.271 Q193.149 929.854 187.338 929.854 Q181.528 929.854 178.45 925.271 Q175.394 920.664 175.394 911.937 Q175.394 903.187 178.45 898.604 Q181.528 893.998 187.338 893.998 Z\" fill=\"#000000\" fill-rule=\"evenodd\" fill-opacity=\"1\" /><path clip-path=\"url(#clip050)\" d=\"M 0 0 M131.181 672.446 Q134.538 673.164 136.413 675.432 Q138.311 677.701 138.311 681.034 Q138.311 686.15 134.792 688.951 Q131.274 691.751 124.793 691.751 Q122.617 691.751 120.302 691.312 Q118.01 690.895 115.556 690.039 L115.556 685.525 Q117.501 686.659 119.816 687.238 Q122.13 687.816 124.654 687.816 Q129.052 687.816 131.343 686.08 Q133.658 684.344 133.658 681.034 Q133.658 677.978 131.505 676.265 Q129.376 674.529 125.556 674.529 L121.529 674.529 L121.529 670.687 L125.742 670.687 Q129.191 670.687 131.019 669.321 Q132.848 667.932 132.848 665.34 Q132.848 662.678 130.95 661.266 Q129.075 659.83 125.556 659.83 Q123.635 659.83 121.436 660.247 Q119.237 660.664 116.598 661.543 L116.598 657.377 Q119.26 656.636 121.575 656.266 Q123.913 655.895 125.973 655.895 Q131.297 655.895 134.399 658.326 Q137.501 660.733 137.501 664.853 Q137.501 667.724 135.857 669.715 Q134.214 671.682 131.181 672.446 Z\" fill=\"#000000\" fill-rule=\"evenodd\" fill-opacity=\"1\" /><path clip-path=\"url(#clip050)\" d=\"M 0 0 M157.177 659.599 Q153.566 659.599 151.737 663.164 Q149.931 666.705 149.931 673.835 Q149.931 680.941 151.737 684.506 Q153.566 688.048 157.177 688.048 Q160.811 688.048 162.616 684.506 Q164.445 680.941 164.445 673.835 Q164.445 666.705 162.616 663.164 Q160.811 659.599 157.177 659.599 M157.177 655.895 Q162.987 655.895 166.042 660.502 Q169.121 665.085 169.121 673.835 Q169.121 682.562 166.042 687.168 Q162.987 691.751 157.177 691.751 Q151.366 691.751 148.288 687.168 Q145.232 682.562 145.232 673.835 Q145.232 665.085 148.288 660.502 Q151.366 655.895 157.177 655.895 Z\" fill=\"#000000\" fill-rule=\"evenodd\" fill-opacity=\"1\" /><path clip-path=\"url(#clip050)\" d=\"M 0 0 M187.338 659.599 Q183.727 659.599 181.899 663.164 Q180.093 666.705 180.093 673.835 Q180.093 680.941 181.899 684.506 Q183.727 688.048 187.338 688.048 Q190.973 688.048 192.778 684.506 Q194.607 680.941 194.607 673.835 Q194.607 666.705 192.778 663.164 Q190.973 659.599 187.338 659.599 M187.338 655.895 Q193.149 655.895 196.204 660.502 Q199.283 665.085 199.283 673.835 Q199.283 682.562 196.204 687.168 Q193.149 691.751 187.338 691.751 Q181.528 691.751 178.45 687.168 Q175.394 682.562 175.394 673.835 Q175.394 665.085 178.45 660.502 Q181.528 655.895 187.338 655.895 Z\" fill=\"#000000\" fill-rule=\"evenodd\" fill-opacity=\"1\" /><path clip-path=\"url(#clip050)\" d=\"M 0 0 M129.862 422.492 L118.056 440.941 L129.862 440.941 L129.862 422.492 M128.635 418.418 L134.515 418.418 L134.515 440.941 L139.445 440.941 L139.445 444.83 L134.515 444.83 L134.515 452.978 L129.862 452.978 L129.862 444.83 L114.26 444.83 L114.26 440.316 L128.635 418.418 Z\" fill=\"#000000\" fill-rule=\"evenodd\" fill-opacity=\"1\" /><path clip-path=\"url(#clip050)\" d=\"M 0 0 M157.177 421.496 Q153.566 421.496 151.737 425.061 Q149.931 428.603 149.931 435.733 Q149.931 442.839 151.737 446.404 Q153.566 449.945 157.177 449.945 Q160.811 449.945 162.616 446.404 Q164.445 442.839 164.445 435.733 Q164.445 428.603 162.616 425.061 Q160.811 421.496 157.177 421.496 M157.177 417.793 Q162.987 417.793 166.042 422.399 Q169.121 426.983 169.121 435.733 Q169.121 444.459 166.042 449.066 Q162.987 453.649 157.177 453.649 Q151.366 453.649 148.288 449.066 Q145.232 444.459 145.232 435.733 Q145.232 426.983 148.288 422.399 Q151.366 417.793 157.177 417.793 Z\" fill=\"#000000\" fill-rule=\"evenodd\" fill-opacity=\"1\" /><path clip-path=\"url(#clip050)\" d=\"M 0 0 M187.338 421.496 Q183.727 421.496 181.899 425.061 Q180.093 428.603 180.093 435.733 Q180.093 442.839 181.899 446.404 Q183.727 449.945 187.338 449.945 Q190.973 449.945 192.778 446.404 Q194.607 442.839 194.607 435.733 Q194.607 428.603 192.778 425.061 Q190.973 421.496 187.338 421.496 M187.338 417.793 Q193.149 417.793 196.204 422.399 Q199.283 426.983 199.283 435.733 Q199.283 444.459 196.204 449.066 Q193.149 453.649 187.338 453.649 Q181.528 453.649 178.45 449.066 Q175.394 444.459 175.394 435.733 Q175.394 426.983 178.45 422.399 Q181.528 417.793 187.338 417.793 Z\" fill=\"#000000\" fill-rule=\"evenodd\" fill-opacity=\"1\" /><path clip-path=\"url(#clip050)\" d=\"M 0 0 M117.061 180.315 L135.417 180.315 L135.417 184.251 L121.343 184.251 L121.343 192.723 Q122.362 192.376 123.38 192.213 Q124.399 192.028 125.418 192.028 Q131.205 192.028 134.584 195.2 Q137.964 198.371 137.964 203.787 Q137.964 209.366 134.492 212.468 Q131.019 215.547 124.7 215.547 Q122.524 215.547 120.255 215.176 Q118.01 214.806 115.603 214.065 L115.603 209.366 Q117.686 210.5 119.908 211.056 Q122.13 211.612 124.607 211.612 Q128.612 211.612 130.95 209.505 Q133.288 207.399 133.288 203.787 Q133.288 200.176 130.95 198.07 Q128.612 195.963 124.607 195.963 Q122.732 195.963 120.857 196.38 Q119.006 196.797 117.061 197.676 L117.061 180.315 Z\" fill=\"#000000\" fill-rule=\"evenodd\" fill-opacity=\"1\" /><path clip-path=\"url(#clip050)\" d=\"M 0 0 M157.177 183.394 Q153.566 183.394 151.737 186.959 Q149.931 190.501 149.931 197.63 Q149.931 204.737 151.737 208.301 Q153.566 211.843 157.177 211.843 Q160.811 211.843 162.616 208.301 Q164.445 204.737 164.445 197.63 Q164.445 190.501 162.616 186.959 Q160.811 183.394 157.177 183.394 M157.177 179.69 Q162.987 179.69 166.042 184.297 Q169.121 188.88 169.121 197.63 Q169.121 206.357 166.042 210.963 Q162.987 215.547 157.177 215.547 Q151.366 215.547 148.288 210.963 Q145.232 206.357 145.232 197.63 Q145.232 188.88 148.288 184.297 Q151.366 179.69 157.177 179.69 Z\" fill=\"#000000\" fill-rule=\"evenodd\" fill-opacity=\"1\" /><path clip-path=\"url(#clip050)\" d=\"M 0 0 M187.338 183.394 Q183.727 183.394 181.899 186.959 Q180.093 190.501 180.093 197.63 Q180.093 204.737 181.899 208.301 Q183.727 211.843 187.338 211.843 Q190.973 211.843 192.778 208.301 Q194.607 204.737 194.607 197.63 Q194.607 190.501 192.778 186.959 Q190.973 183.394 187.338 183.394 M187.338 179.69 Q193.149 179.69 196.204 184.297 Q199.283 188.88 199.283 197.63 Q199.283 206.357 196.204 210.963 Q193.149 215.547 187.338 215.547 Q181.528 215.547 178.45 210.963 Q175.394 206.357 175.394 197.63 Q175.394 188.88 178.45 184.297 Q181.528 179.69 187.338 179.69 Z\" fill=\"#000000\" fill-rule=\"evenodd\" fill-opacity=\"1\" /><path clip-path=\"url(#clip050)\" d=\"M 0 0 M16.4842 1156.99 L16.4842 1148.33 L56.238 1127.26 L16.4842 1127.26 L16.4842 1121.02 L64.0042 1121.02 L64.0042 1129.68 L24.2503 1150.75 L64.0042 1150.75 L64.0042 1156.99 L16.4842 1156.99 Z\" fill=\"#000000\" fill-rule=\"evenodd\" fill-opacity=\"1\" /><path clip-path=\"url(#clip050)\" d=\"M 0 0 M49.9359 1109.09 L28.3562 1109.09 L28.3562 1103.23 L49.7131 1103.23 Q54.7739 1103.23 57.3202 1101.26 Q59.8346 1099.28 59.8346 1095.34 Q59.8346 1090.6 56.8109 1087.86 Q53.7872 1085.09 48.5673 1085.09 L28.3562 1085.09 L28.3562 1079.23 L64.0042 1079.23 L64.0042 1085.09 L58.5296 1085.09 Q61.7762 1087.22 63.3676 1090.05 Q64.9272 1092.86 64.9272 1096.58 Q64.9272 1102.72 61.1078 1105.91 Q57.2883 1109.09 49.9359 1109.09 M27.4968 1094.35 L27.4968 1094.35 Z\" fill=\"#000000\" fill-rule=\"evenodd\" fill-opacity=\"1\" /><path clip-path=\"url(#clip050)\" d=\"M 0 0 M35.1993 1039.42 Q31.2526 1037.22 29.3747 1034.16 Q27.4968 1031.11 27.4968 1026.97 Q27.4968 1021.4 31.4117 1018.38 Q35.2948 1015.35 42.4881 1015.35 L64.0042 1015.35 L64.0042 1021.24 L42.679 1021.24 Q37.5546 1021.24 35.072 1023.06 Q32.5894 1024.87 32.5894 1028.59 Q32.5894 1033.15 35.6131 1035.79 Q38.6368 1038.43 43.8567 1038.43 L64.0042 1038.43 L64.0042 1044.32 L42.679 1044.32 Q37.5228 1044.32 35.072 1046.13 Q32.5894 1047.95 32.5894 1051.73 Q32.5894 1056.22 35.6449 1058.86 Q38.6686 1061.5 43.8567 1061.5 L64.0042 1061.5 L64.0042 1067.39 L28.3562 1067.39 L28.3562 1061.5 L33.8944 1061.5 Q30.616 1059.5 29.0564 1056.7 Q27.4968 1053.9 27.4968 1050.05 Q27.4968 1046.16 29.4702 1043.46 Q31.4436 1040.72 35.1993 1039.42 Z\" fill=\"#000000\" fill-rule=\"evenodd\" fill-opacity=\"1\" /><path clip-path=\"url(#clip050)\" d=\"M 0 0 M46.212 978.082 Q39.7508 978.082 36.0905 980.755 Q32.3984 983.397 32.3984 988.044 Q32.3984 992.691 36.0905 995.365 Q39.7508 998.006 46.212 998.006 Q52.6732 998.006 56.3653 995.365 Q60.0256 992.691 60.0256 988.044 Q60.0256 983.397 56.3653 980.755 Q52.6732 978.082 46.212 978.082 M33.7671 998.006 Q30.5842 996.16 29.0564 993.36 Q27.4968 990.527 27.4968 986.612 Q27.4968 980.119 32.6531 976.077 Q37.8093 972.003 46.212 972.003 Q54.6147 972.003 59.771 976.077 Q64.9272 980.119 64.9272 986.612 Q64.9272 990.527 63.3994 993.36 Q61.8398 996.16 58.657 998.006 L64.0042 998.006 L64.0042 1003.89 L14.479 1003.89 L14.479 998.006 L33.7671 998.006 Z\" fill=\"#000000\" fill-rule=\"evenodd\" fill-opacity=\"1\" /><path clip-path=\"url(#clip050)\" d=\"M 0 0 M44.7161 931.803 L47.5806 931.803 L47.5806 958.73 Q53.6281 958.348 56.8109 955.102 Q59.9619 951.823 59.9619 945.999 Q59.9619 942.625 59.1344 939.474 Q58.3069 936.291 56.6518 933.172 L62.1899 933.172 Q63.5267 936.323 64.227 939.633 Q64.9272 942.943 64.9272 946.349 Q64.9272 954.879 59.9619 959.876 Q54.9967 964.841 46.5303 964.841 Q37.7774 964.841 32.6531 960.131 Q27.4968 955.388 27.4968 947.367 Q27.4968 940.174 32.1438 936.005 Q36.7589 931.803 44.7161 931.803 M42.9973 937.66 Q38.1912 937.723 35.3266 940.365 Q32.4621 942.975 32.4621 947.304 Q32.4621 952.205 35.2312 955.165 Q38.0002 958.094 43.0292 958.539 L42.9973 937.66 Z\" fill=\"#000000\" fill-rule=\"evenodd\" fill-opacity=\"1\" /><path clip-path=\"url(#clip050)\" d=\"M 0 0 M33.8307 901.534 Q33.2578 902.521 33.0032 903.699 Q32.7167 904.844 32.7167 906.245 Q32.7167 911.21 35.9632 913.884 Q39.1779 916.525 45.2253 916.525 L64.0042 916.525 L64.0042 922.414 L28.3562 922.414 L28.3562 916.525 L33.8944 916.525 Q30.6479 914.679 29.0883 911.719 Q27.4968 908.759 27.4968 904.526 Q27.4968 903.921 27.5923 903.189 Q27.656 902.457 27.8151 901.566 L33.8307 901.534 Z\" fill=\"#000000\" fill-rule=\"evenodd\" fill-opacity=\"1\" /><path clip-path=\"url(#clip050)\" d=\"M 0 0 M32.4621 860.857 Q32.4621 865.568 36.1542 868.305 Q39.8145 871.042 46.212 871.042 Q52.6095 871.042 56.3017 868.337 Q59.9619 865.6 59.9619 860.857 Q59.9619 856.179 56.2698 853.441 Q52.5777 850.704 46.212 850.704 Q39.8781 850.704 36.186 853.441 Q32.4621 856.179 32.4621 860.857 M27.4968 860.857 Q27.4968 853.218 32.4621 848.858 Q37.4273 844.497 46.212 844.497 Q54.9649 844.497 59.9619 848.858 Q64.9272 853.218 64.9272 860.857 Q64.9272 868.528 59.9619 872.889 Q54.9649 877.217 46.212 877.217 Q37.4273 877.217 32.4621 872.889 Q27.4968 868.528 27.4968 860.857 Z\" fill=\"#000000\" fill-rule=\"evenodd\" fill-opacity=\"1\" /><path clip-path=\"url(#clip050)\" d=\"M 0 0 M14.479 816.743 L19.3487 816.743 L19.3487 822.345 Q19.3487 825.496 20.6219 826.737 Q21.895 827.947 25.2052 827.947 L28.3562 827.947 L28.3562 818.303 L32.9077 818.303 L32.9077 827.947 L64.0042 827.947 L64.0042 833.835 L32.9077 833.835 L32.9077 839.437 L28.3562 839.437 L28.3562 833.835 L25.8736 833.835 Q19.9216 833.835 17.2162 831.066 Q14.479 828.297 14.479 822.281 L14.479 816.743 Z\" fill=\"#000000\" fill-rule=\"evenodd\" fill-opacity=\"1\" /><path clip-path=\"url(#clip050)\" d=\"M 0 0 M28.3562 791.121 L28.3562 785.265 L64.0042 785.265 L64.0042 791.121 L28.3562 791.121 M14.479 791.121 L14.479 785.265 L21.895 785.265 L21.895 791.121 L14.479 791.121 Z\" fill=\"#000000\" fill-rule=\"evenodd\" fill-opacity=\"1\" /><path clip-path=\"url(#clip050)\" d=\"M 0 0 M42.4881 743.378 L64.0042 743.378 L64.0042 749.235 L42.679 749.235 Q37.6183 749.235 35.1038 751.208 Q32.5894 753.181 32.5894 757.128 Q32.5894 761.871 35.6131 764.608 Q38.6368 767.345 43.8567 767.345 L64.0042 767.345 L64.0042 773.233 L28.3562 773.233 L28.3562 767.345 L33.8944 767.345 Q30.6797 765.244 29.0883 762.412 Q27.4968 759.547 27.4968 755.823 Q27.4968 749.68 31.3163 746.529 Q35.1038 743.378 42.4881 743.378 Z\" fill=\"#000000\" fill-rule=\"evenodd\" fill-opacity=\"1\" /><path clip-path=\"url(#clip050)\" d=\"M 0 0 M33.7671 708.24 L14.479 708.24 L14.479 702.383 L64.0042 702.383 L64.0042 708.24 L58.657 708.24 Q61.8398 710.086 63.3994 712.918 Q64.9272 715.719 64.9272 719.666 Q64.9272 726.127 59.771 730.201 Q54.6147 734.243 46.212 734.243 Q37.8093 734.243 32.6531 730.201 Q27.4968 726.127 27.4968 719.666 Q27.4968 715.719 29.0564 712.918 Q30.5842 710.086 33.7671 708.24 M46.212 728.196 Q52.6732 728.196 56.3653 725.554 Q60.0256 722.881 60.0256 718.234 Q60.0256 713.587 56.3653 710.913 Q52.6732 708.24 46.212 708.24 Q39.7508 708.24 36.0905 710.913 Q32.3984 713.587 32.3984 718.234 Q32.3984 722.881 36.0905 725.554 Q39.7508 728.196 46.212 728.196 Z\" fill=\"#000000\" fill-rule=\"evenodd\" fill-opacity=\"1\" /><path clip-path=\"url(#clip050)\" d=\"M 0 0 M28.3562 690.32 L28.3562 684.464 L64.0042 684.464 L64.0042 690.32 L28.3562 690.32 M14.479 690.32 L14.479 684.464 L21.895 684.464 L21.895 690.32 L14.479 690.32 Z\" fill=\"#000000\" fill-rule=\"evenodd\" fill-opacity=\"1\" /><path clip-path=\"url(#clip050)\" d=\"M 0 0 M28.3562 676.411 L28.3562 670.204 L58.275 659.064 L28.3562 647.924 L28.3562 641.718 L64.0042 655.086 L64.0042 663.043 L28.3562 676.411 Z\" fill=\"#000000\" fill-rule=\"evenodd\" fill-opacity=\"1\" /><path clip-path=\"url(#clip050)\" d=\"M 0 0 M28.3562 633.633 L28.3562 627.777 L64.0042 627.777 L64.0042 633.633 L28.3562 633.633 M14.479 633.633 L14.479 627.777 L21.895 627.777 L21.895 633.633 L14.479 633.633 Z\" fill=\"#000000\" fill-rule=\"evenodd\" fill-opacity=\"1\" /><path clip-path=\"url(#clip050)\" d=\"M 0 0 M33.7671 592.065 L14.479 592.065 L14.479 586.209 L64.0042 586.209 L64.0042 592.065 L58.657 592.065 Q61.8398 593.911 63.3994 596.744 Q64.9272 599.545 64.9272 603.492 Q64.9272 609.953 59.771 614.027 Q54.6147 618.069 46.212 618.069 Q37.8093 618.069 32.6531 614.027 Q27.4968 609.953 27.4968 603.492 Q27.4968 599.545 29.0564 596.744 Q30.5842 593.911 33.7671 592.065 M46.212 612.022 Q52.6732 612.022 56.3653 609.38 Q60.0256 606.707 60.0256 602.06 Q60.0256 597.413 56.3653 594.739 Q52.6732 592.065 46.212 592.065 Q39.7508 592.065 36.0905 594.739 Q32.3984 597.413 32.3984 602.06 Q32.3984 606.707 36.0905 609.38 Q39.7508 612.022 46.212 612.022 Z\" fill=\"#000000\" fill-rule=\"evenodd\" fill-opacity=\"1\" /><path clip-path=\"url(#clip050)\" d=\"M 0 0 M49.9359 574.751 L28.3562 574.751 L28.3562 568.894 L49.7131 568.894 Q54.7739 568.894 57.3202 566.921 Q59.8346 564.947 59.8346 561.001 Q59.8346 556.258 56.8109 553.521 Q53.7872 550.752 48.5673 550.752 L28.3562 550.752 L28.3562 544.895 L64.0042 544.895 L64.0042 550.752 L58.5296 550.752 Q61.7762 552.884 63.3676 555.717 Q64.9272 558.518 64.9272 562.242 Q64.9272 568.385 61.1078 571.568 Q57.2883 574.751 49.9359 574.751 M27.4968 560.014 L27.4968 560.014 Z\" fill=\"#000000\" fill-rule=\"evenodd\" fill-opacity=\"1\" /><path clip-path=\"url(#clip050)\" d=\"M 0 0 M46.0847 516.632 Q46.0847 523.73 47.7079 526.467 Q49.3312 529.204 53.2461 529.204 Q56.3653 529.204 58.2114 527.167 Q60.0256 525.098 60.0256 521.565 Q60.0256 516.695 56.5881 513.767 Q53.1188 510.807 47.3897 510.807 L46.0847 510.807 L46.0847 516.632 M43.6657 504.951 L64.0042 504.951 L64.0042 510.807 L58.5933 510.807 Q61.8398 512.812 63.3994 515.804 Q64.9272 518.796 64.9272 523.125 Q64.9272 528.599 61.8716 531.846 Q58.7843 535.06 53.6281 535.06 Q47.6125 535.06 44.5569 531.05 Q41.5014 527.008 41.5014 519.019 L41.5014 510.807 L40.9285 510.807 Q36.8862 510.807 34.6901 513.481 Q32.4621 516.123 32.4621 520.929 Q32.4621 523.984 33.1941 526.881 Q33.9262 529.777 35.3903 532.451 L29.9795 532.451 Q28.7381 529.236 28.1334 526.212 Q27.4968 523.188 27.4968 520.324 Q27.4968 512.59 31.5072 508.77 Q35.5176 504.951 43.6657 504.951 Z\" fill=\"#000000\" fill-rule=\"evenodd\" fill-opacity=\"1\" /><path clip-path=\"url(#clip050)\" d=\"M 0 0 M14.479 492.888 L14.479 487.031 L64.0042 487.031 L64.0042 492.888 L14.479 492.888 Z\" fill=\"#000000\" fill-rule=\"evenodd\" fill-opacity=\"1\" /><path clip-path=\"url(#clip050)\" d=\"M 0 0 M29.4065 452.052 L34.9447 452.052 Q33.6716 454.534 33.035 457.208 Q32.3984 459.881 32.3984 462.746 Q32.3984 467.107 33.7352 469.303 Q35.072 471.467 37.7456 471.467 Q39.7826 471.467 40.9603 469.907 Q42.1061 468.348 43.1565 463.637 L43.6021 461.632 Q44.9389 455.394 47.3897 452.784 Q49.8086 450.142 54.1691 450.142 Q59.1344 450.142 62.0308 454.089 Q64.9272 458.004 64.9272 464.879 Q64.9272 467.743 64.3543 470.862 Q63.8132 473.95 62.6992 477.387 L56.6518 477.387 Q58.3387 474.141 59.198 470.99 Q60.0256 467.839 60.0256 464.751 Q60.0256 460.614 58.6251 458.386 Q57.1929 456.158 54.6147 456.158 Q52.2276 456.158 50.9545 457.781 Q49.6813 459.372 48.5037 464.815 L48.0262 466.852 Q46.8804 472.295 44.5251 474.714 Q42.138 477.133 38.0002 477.133 Q32.9713 477.133 30.2341 473.568 Q27.4968 470.003 27.4968 463.446 Q27.4968 460.2 27.9743 457.335 Q28.4517 454.471 29.4065 452.052 Z\" fill=\"#000000\" fill-rule=\"evenodd\" fill-opacity=\"1\" /><path clip-path=\"url(#clip050)\" d=\"M 0 0 M719.804 18.8205 L719.804 41.5461 L730.093 41.5461 Q735.805 41.5461 738.924 38.5889 Q742.043 35.6318 742.043 30.163 Q742.043 24.7348 738.924 21.7777 Q735.805 18.8205 730.093 18.8205 L719.804 18.8205 M711.621 12.096 L730.093 12.096 Q740.261 12.096 745.446 16.714 Q750.672 21.2916 750.672 30.163 Q750.672 39.1155 745.446 43.6931 Q740.261 48.2706 730.093 48.2706 L719.804 48.2706 L719.804 72.576 L711.621 72.576 L711.621 12.096 Z\" fill=\"#000000\" fill-rule=\"evenodd\" fill-opacity=\"1\" /><path clip-path=\"url(#clip050)\" d=\"M 0 0 M786.158 34.1734 Q784.902 33.4443 783.403 33.1202 Q781.945 32.7556 780.162 32.7556 Q773.843 32.7556 770.44 36.8875 Q767.078 40.9789 767.078 48.6757 L767.078 72.576 L759.584 72.576 L759.584 27.2059 L767.078 27.2059 L767.078 34.2544 Q769.427 30.1225 773.195 28.1376 Q776.962 26.1121 782.35 26.1121 Q783.119 26.1121 784.051 26.2337 Q784.983 26.3147 786.117 26.5172 L786.158 34.1734 Z\" fill=\"#000000\" fill-rule=\"evenodd\" fill-opacity=\"1\" /><path clip-path=\"url(#clip050)\" d=\"M 0 0 M809.734 32.4315 Q803.738 32.4315 800.255 37.1306 Q796.771 41.7891 796.771 49.9314 Q796.771 58.0738 800.214 62.7728 Q803.698 67.4314 809.734 67.4314 Q815.689 67.4314 819.172 62.7323 Q822.656 58.0333 822.656 49.9314 Q822.656 41.8701 819.172 37.1711 Q815.689 32.4315 809.734 32.4315 M809.734 26.1121 Q819.456 26.1121 825.006 32.4315 Q830.555 38.7509 830.555 49.9314 Q830.555 61.0714 825.006 67.4314 Q819.456 73.7508 809.734 73.7508 Q799.971 73.7508 794.421 67.4314 Q788.912 61.0714 788.912 49.9314 Q788.912 38.7509 794.421 32.4315 Q799.971 26.1121 809.734 26.1121 Z\" fill=\"#000000\" fill-rule=\"evenodd\" fill-opacity=\"1\" /><path clip-path=\"url(#clip050)\" d=\"M 0 0 M850.121 65.7705 L850.121 89.8329 L842.627 89.8329 L842.627 27.2059 L850.121 27.2059 L850.121 34.0924 Q852.471 30.0415 856.036 28.0971 Q859.641 26.1121 864.624 26.1121 Q872.887 26.1121 878.032 32.6746 Q883.217 39.2371 883.217 49.9314 Q883.217 60.6258 878.032 67.1883 Q872.887 73.7508 864.624 73.7508 Q859.641 73.7508 856.036 71.8063 Q852.471 69.8214 850.121 65.7705 M875.48 49.9314 Q875.48 41.7081 872.077 37.0496 Q868.715 32.3505 862.801 32.3505 Q856.886 32.3505 853.484 37.0496 Q850.121 41.7081 850.121 49.9314 Q850.121 58.1548 853.484 62.8538 Q856.886 67.5124 862.801 67.5124 Q868.715 67.5124 872.077 62.8538 Q875.48 58.1548 875.48 49.9314 Z\" fill=\"#000000\" fill-rule=\"evenodd\" fill-opacity=\"1\" /><path clip-path=\"url(#clip050)\" d=\"M 0 0 M913.153 32.4315 Q907.158 32.4315 903.674 37.1306 Q900.19 41.7891 900.19 49.9314 Q900.19 58.0738 903.634 62.7728 Q907.118 67.4314 913.153 67.4314 Q919.108 67.4314 922.592 62.7323 Q926.076 58.0333 926.076 49.9314 Q926.076 41.8701 922.592 37.1711 Q919.108 32.4315 913.153 32.4315 M913.153 26.1121 Q922.876 26.1121 928.425 32.4315 Q933.975 38.7509 933.975 49.9314 Q933.975 61.0714 928.425 67.4314 Q922.876 73.7508 913.153 73.7508 Q903.391 73.7508 897.841 67.4314 Q892.332 61.0714 892.332 49.9314 Q892.332 38.7509 897.841 32.4315 Q903.391 26.1121 913.153 26.1121 Z\" fill=\"#000000\" fill-rule=\"evenodd\" fill-opacity=\"1\" /><path clip-path=\"url(#clip050)\" d=\"M 0 0 M972.621 34.1734 Q971.365 33.4443 969.866 33.1202 Q968.408 32.7556 966.625 32.7556 Q960.306 32.7556 956.903 36.8875 Q953.541 40.9789 953.541 48.6757 L953.541 72.576 L946.047 72.576 L946.047 27.2059 L953.541 27.2059 L953.541 34.2544 Q955.89 30.1225 959.658 28.1376 Q963.425 26.1121 968.813 26.1121 Q969.582 26.1121 970.514 26.2337 Q971.446 26.3147 972.58 26.5172 L972.621 34.1734 Z\" fill=\"#000000\" fill-rule=\"evenodd\" fill-opacity=\"1\" /><path clip-path=\"url(#clip050)\" d=\"M 0 0 M987.812 14.324 L987.812 27.2059 L1003.16 27.2059 L1003.16 32.9987 L987.812 32.9987 L987.812 57.6282 Q987.812 63.1779 989.31 64.7578 Q990.85 66.3376 995.508 66.3376 L1003.16 66.3376 L1003.16 72.576 L995.508 72.576 Q986.88 72.576 983.599 69.3758 Q980.317 66.1351 980.317 57.6282 L980.317 32.9987 L974.849 32.9987 L974.849 27.2059 L980.317 27.2059 L980.317 14.324 L987.812 14.324 Z\" fill=\"#000000\" fill-rule=\"evenodd\" fill-opacity=\"1\" /><path clip-path=\"url(#clip050)\" d=\"M 0 0 M1012.97 27.2059 L1020.42 27.2059 L1020.42 72.576 L1012.97 72.576 L1012.97 27.2059 M1012.97 9.54393 L1020.42 9.54393 L1020.42 18.9825 L1012.97 18.9825 L1012.97 9.54393 Z\" fill=\"#000000\" fill-rule=\"evenodd\" fill-opacity=\"1\" /><path clip-path=\"url(#clip050)\" d=\"M 0 0 M1053.6 32.4315 Q1047.6 32.4315 1044.12 37.1306 Q1040.64 41.7891 1040.64 49.9314 Q1040.64 58.0738 1044.08 62.7728 Q1047.56 67.4314 1053.6 67.4314 Q1059.55 67.4314 1063.04 62.7323 Q1066.52 58.0333 1066.52 49.9314 Q1066.52 41.8701 1063.04 37.1711 Q1059.55 32.4315 1053.6 32.4315 M1053.6 26.1121 Q1063.32 26.1121 1068.87 32.4315 Q1074.42 38.7509 1074.42 49.9314 Q1074.42 61.0714 1068.87 67.4314 Q1063.32 73.7508 1053.6 73.7508 Q1043.84 73.7508 1038.29 67.4314 Q1032.78 61.0714 1032.78 49.9314 Q1032.78 38.7509 1038.29 32.4315 Q1043.84 26.1121 1053.6 26.1121 Z\" fill=\"#000000\" fill-rule=\"evenodd\" fill-opacity=\"1\" /><path clip-path=\"url(#clip050)\" d=\"M 0 0 M1124.49 45.1919 L1124.49 72.576 L1117.04 72.576 L1117.04 45.4349 Q1117.04 38.994 1114.52 35.7938 Q1112.01 32.5936 1106.99 32.5936 Q1100.95 32.5936 1097.47 36.4419 Q1093.99 40.2903 1093.99 46.9338 L1093.99 72.576 L1086.49 72.576 L1086.49 27.2059 L1093.99 27.2059 L1093.99 34.2544 Q1096.66 30.163 1100.26 28.1376 Q1103.91 26.1121 1108.65 26.1121 Q1116.47 26.1121 1120.48 30.9732 Q1124.49 35.7938 1124.49 45.1919 Z\" fill=\"#000000\" fill-rule=\"evenodd\" fill-opacity=\"1\" /><path clip-path=\"url(#clip050)\" d=\"M 0 0 M1183.31 32.4315 Q1177.31 32.4315 1173.83 37.1306 Q1170.35 41.7891 1170.35 49.9314 Q1170.35 58.0738 1173.79 62.7728 Q1177.27 67.4314 1183.31 67.4314 Q1189.26 67.4314 1192.75 62.7323 Q1196.23 58.0333 1196.23 49.9314 Q1196.23 41.8701 1192.75 37.1711 Q1189.26 32.4315 1183.31 32.4315 M1183.31 26.1121 Q1193.03 26.1121 1198.58 32.4315 Q1204.13 38.7509 1204.13 49.9314 Q1204.13 61.0714 1198.58 67.4314 Q1193.03 73.7508 1183.31 73.7508 Q1173.55 73.7508 1168 67.4314 Q1162.49 61.0714 1162.49 49.9314 Q1162.49 38.7509 1168 32.4315 Q1173.55 26.1121 1183.31 26.1121 Z\" fill=\"#000000\" fill-rule=\"evenodd\" fill-opacity=\"1\" /><path clip-path=\"url(#clip050)\" d=\"M 0 0 M1239.45 9.54393 L1239.45 15.7418 L1232.32 15.7418 Q1228.31 15.7418 1226.73 17.3622 Q1225.19 18.9825 1225.19 23.1955 L1225.19 27.2059 L1237.47 27.2059 L1237.47 32.9987 L1225.19 32.9987 L1225.19 72.576 L1217.7 72.576 L1217.7 32.9987 L1210.57 32.9987 L1210.57 27.2059 L1217.7 27.2059 L1217.7 24.0462 Q1217.7 16.471 1221.22 13.0277 Q1224.75 9.54393 1232.41 9.54393 L1239.45 9.54393 Z\" fill=\"#000000\" fill-rule=\"evenodd\" fill-opacity=\"1\" /><path clip-path=\"url(#clip050)\" d=\"M 0 0 M1279.27 65.7705 L1279.27 89.8329 L1271.78 89.8329 L1271.78 27.2059 L1279.27 27.2059 L1279.27 34.0924 Q1281.62 30.0415 1285.19 28.0971 Q1288.79 26.1121 1293.78 26.1121 Q1302.04 26.1121 1307.18 32.6746 Q1312.37 39.2371 1312.37 49.9314 Q1312.37 60.6258 1307.18 67.1883 Q1302.04 73.7508 1293.78 73.7508 Q1288.79 73.7508 1285.19 71.8063 Q1281.62 69.8214 1279.27 65.7705 M1304.63 49.9314 Q1304.63 41.7081 1301.23 37.0496 Q1297.87 32.3505 1291.95 32.3505 Q1286.04 32.3505 1282.64 37.0496 Q1279.27 41.7081 1279.27 49.9314 Q1279.27 58.1548 1282.64 62.8538 Q1286.04 67.5124 1291.95 67.5124 Q1297.87 67.5124 1301.23 62.8538 Q1304.63 58.1548 1304.63 49.9314 Z\" fill=\"#000000\" fill-rule=\"evenodd\" fill-opacity=\"1\" /><path clip-path=\"url(#clip050)\" d=\"M 0 0 M1351.02 34.1734 Q1349.76 33.4443 1348.26 33.1202 Q1346.8 32.7556 1345.02 32.7556 Q1338.7 32.7556 1335.3 36.8875 Q1331.94 40.9789 1331.94 48.6757 L1331.94 72.576 L1324.44 72.576 L1324.44 27.2059 L1331.94 27.2059 L1331.94 34.2544 Q1334.29 30.1225 1338.05 28.1376 Q1341.82 26.1121 1347.21 26.1121 Q1347.98 26.1121 1348.91 26.2337 Q1349.84 26.3147 1350.98 26.5172 L1351.02 34.1734 Z\" fill=\"#000000\" fill-rule=\"evenodd\" fill-opacity=\"1\" /><path clip-path=\"url(#clip050)\" d=\"M 0 0 M1395.82 48.0275 L1395.82 51.6733 L1361.55 51.6733 Q1362.03 59.3701 1366.17 63.421 Q1370.34 67.4314 1377.75 67.4314 Q1382.05 67.4314 1386.06 66.3781 Q1390.11 65.3249 1394.08 63.2184 L1394.08 70.267 Q1390.07 71.9684 1385.85 72.8596 Q1381.64 73.7508 1377.31 73.7508 Q1366.45 73.7508 1360.09 67.4314 Q1353.77 61.1119 1353.77 50.3365 Q1353.77 39.1965 1359.77 32.6746 Q1365.8 26.1121 1376.01 26.1121 Q1385.16 26.1121 1390.47 32.0264 Q1395.82 37.9003 1395.82 48.0275 M1388.36 45.84 Q1388.28 39.7232 1384.92 36.0774 Q1381.6 32.4315 1376.09 32.4315 Q1369.85 32.4315 1366.08 35.9558 Q1362.36 39.4801 1361.79 45.8805 L1388.36 45.84 Z\" fill=\"#000000\" fill-rule=\"evenodd\" fill-opacity=\"1\" /><path clip-path=\"url(#clip050)\" d=\"M 0 0 M1436.98 28.5427 L1436.98 35.5912 Q1433.82 33.9709 1430.41 33.1607 Q1427.01 32.3505 1423.36 32.3505 Q1417.82 32.3505 1415.02 34.0519 Q1412.27 35.7533 1412.27 39.156 Q1412.27 41.7486 1414.25 43.2475 Q1416.24 44.7058 1422.23 46.0426 L1424.78 46.6097 Q1432.72 48.3111 1436.04 51.4303 Q1439.41 54.509 1439.41 60.0587 Q1439.41 66.3781 1434.38 70.0644 Q1429.4 73.7508 1420.65 73.7508 Q1417 73.7508 1413.03 73.0216 Q1409.11 72.3329 1404.73 70.9151 L1404.73 63.2184 Q1408.86 65.3654 1412.87 66.4591 Q1416.88 67.5124 1420.81 67.5124 Q1426.08 67.5124 1428.91 65.73 Q1431.75 63.9071 1431.75 60.6258 Q1431.75 57.5877 1429.68 55.9673 Q1427.66 54.3469 1420.73 52.8481 L1418.14 52.2405 Q1411.21 50.7821 1408.13 47.7845 Q1405.05 44.7463 1405.05 39.4801 Q1405.05 33.0797 1409.59 29.5959 Q1414.13 26.1121 1422.47 26.1121 Q1426.61 26.1121 1430.25 26.7198 Q1433.9 27.3274 1436.98 28.5427 Z\" fill=\"#000000\" fill-rule=\"evenodd\" fill-opacity=\"1\" /><path clip-path=\"url(#clip050)\" d=\"M 0 0 M1490.08 48.0275 L1490.08 51.6733 L1455.81 51.6733 Q1456.3 59.3701 1460.43 63.421 Q1464.6 67.4314 1472.02 67.4314 Q1476.31 67.4314 1480.32 66.3781 Q1484.37 65.3249 1488.34 63.2184 L1488.34 70.267 Q1484.33 71.9684 1480.12 72.8596 Q1475.9 73.7508 1471.57 73.7508 Q1460.71 73.7508 1454.35 67.4314 Q1448.03 61.1119 1448.03 50.3365 Q1448.03 39.1965 1454.03 32.6746 Q1460.07 26.1121 1470.27 26.1121 Q1479.43 26.1121 1484.74 32.0264 Q1490.08 37.9003 1490.08 48.0275 M1482.63 45.84 Q1482.55 39.7232 1479.19 36.0774 Q1475.86 32.4315 1470.36 32.4315 Q1464.12 32.4315 1460.35 35.9558 Q1456.62 39.4801 1456.06 45.8805 L1482.63 45.84 Z\" fill=\"#000000\" fill-rule=\"evenodd\" fill-opacity=\"1\" /><path clip-path=\"url(#clip050)\" d=\"M 0 0 M1540.03 45.1919 L1540.03 72.576 L1532.58 72.576 L1532.58 45.4349 Q1532.58 38.994 1530.07 35.7938 Q1527.55 32.5936 1522.53 32.5936 Q1516.5 32.5936 1513.01 36.4419 Q1509.53 40.2903 1509.53 46.9338 L1509.53 72.576 L1502.03 72.576 L1502.03 27.2059 L1509.53 27.2059 L1509.53 34.2544 Q1512.2 30.163 1515.81 28.1376 Q1519.45 26.1121 1524.19 26.1121 Q1532.01 26.1121 1536.02 30.9732 Q1540.03 35.7938 1540.03 45.1919 Z\" fill=\"#000000\" fill-rule=\"evenodd\" fill-opacity=\"1\" /><path clip-path=\"url(#clip050)\" d=\"M 0 0 M1562.27 14.324 L1562.27 27.2059 L1577.62 27.2059 L1577.62 32.9987 L1562.27 32.9987 L1562.27 57.6282 Q1562.27 63.1779 1563.77 64.7578 Q1565.31 66.3376 1569.97 66.3376 L1577.62 66.3376 L1577.62 72.576 L1569.97 72.576 Q1561.34 72.576 1558.06 69.3758 Q1554.78 66.1351 1554.78 57.6282 L1554.78 32.9987 L1549.31 32.9987 L1549.31 27.2059 L1554.78 27.2059 L1554.78 14.324 L1562.27 14.324 Z\" fill=\"#000000\" fill-rule=\"evenodd\" fill-opacity=\"1\" /><path clip-path=\"url(#clip050)\" d=\"M 0 0 M1631.7 9.62495 Q1626.27 18.942 1623.64 28.0566 Q1621.01 37.1711 1621.01 46.5287 Q1621.01 55.8863 1623.64 65.0818 Q1626.32 74.2369 1631.7 83.5134 L1625.22 83.5134 Q1619.14 73.9938 1616.11 64.7983 Q1613.11 55.6027 1613.11 46.5287 Q1613.11 37.4952 1616.11 28.3401 Q1619.1 19.1851 1625.22 9.62495 L1631.7 9.62495 Z\" fill=\"#000000\" fill-rule=\"evenodd\" fill-opacity=\"1\" /><path clip-path=\"url(#clip050)\" d=\"M 0 0 M1678.73 49.9314 Q1678.73 41.7081 1675.33 37.0496 Q1671.97 32.3505 1666.05 32.3505 Q1660.14 32.3505 1656.74 37.0496 Q1653.38 41.7081 1653.38 49.9314 Q1653.38 58.1548 1656.74 62.8538 Q1660.14 67.5124 1666.05 67.5124 Q1671.97 67.5124 1675.33 62.8538 Q1678.73 58.1548 1678.73 49.9314 M1653.38 34.0924 Q1655.72 30.0415 1659.29 28.0971 Q1662.89 26.1121 1667.88 26.1121 Q1676.14 26.1121 1681.29 32.6746 Q1686.47 39.2371 1686.47 49.9314 Q1686.47 60.6258 1681.29 67.1883 Q1676.14 73.7508 1667.88 73.7508 Q1662.89 73.7508 1659.29 71.8063 Q1655.72 69.8214 1653.38 65.7705 L1653.38 72.576 L1645.88 72.576 L1645.88 9.54393 L1653.38 9.54393 L1653.38 34.0924 Z\" fill=\"#000000\" fill-rule=\"evenodd\" fill-opacity=\"1\" /><path clip-path=\"url(#clip050)\" d=\"M 0 0 M1698.83 9.54393 L1706.28 9.54393 L1706.28 72.576 L1698.83 72.576 L1698.83 9.54393 Z\" fill=\"#000000\" fill-rule=\"evenodd\" fill-opacity=\"1\" /><path clip-path=\"url(#clip050)\" d=\"M 0 0 M1721.11 54.671 L1721.11 27.2059 L1728.56 27.2059 L1728.56 54.3874 Q1728.56 60.8284 1731.07 64.0691 Q1733.58 67.2693 1738.61 67.2693 Q1744.64 67.2693 1748.13 63.421 Q1751.65 59.5726 1751.65 52.9291 L1751.65 27.2059 L1759.1 27.2059 L1759.1 72.576 L1751.65 72.576 L1751.65 65.6084 Q1748.94 69.7404 1745.33 71.7658 Q1741.77 73.7508 1737.03 73.7508 Q1729.21 73.7508 1725.16 68.8897 Q1721.11 64.0286 1721.11 54.671 M1739.86 26.1121 L1739.86 26.1121 Z\" fill=\"#000000\" fill-rule=\"evenodd\" fill-opacity=\"1\" /><path clip-path=\"url(#clip050)\" d=\"M 0 0 M1813.26 48.0275 L1813.26 51.6733 L1778.99 51.6733 Q1779.48 59.3701 1783.61 63.421 Q1787.78 67.4314 1795.2 67.4314 Q1799.49 67.4314 1803.5 66.3781 Q1807.55 65.3249 1811.52 63.2184 L1811.52 70.267 Q1807.51 71.9684 1803.3 72.8596 Q1799.09 73.7508 1794.75 73.7508 Q1783.9 73.7508 1777.54 67.4314 Q1771.22 61.1119 1771.22 50.3365 Q1771.22 39.1965 1777.21 32.6746 Q1783.25 26.1121 1793.46 26.1121 Q1802.61 26.1121 1807.92 32.0264 Q1813.26 37.9003 1813.26 48.0275 M1805.81 45.84 Q1805.73 39.7232 1802.37 36.0774 Q1799.05 32.4315 1793.54 32.4315 Q1787.3 32.4315 1783.53 35.9558 Q1779.8 39.4801 1779.24 45.8805 L1805.81 45.84 Z\" fill=\"#000000\" fill-rule=\"evenodd\" fill-opacity=\"1\" /><path clip-path=\"url(#clip050)\" d=\"M 0 0 M1824.32 9.62495 L1830.8 9.62495 Q1836.88 19.1851 1839.88 28.3401 Q1842.92 37.4952 1842.92 46.5287 Q1842.92 55.6027 1839.88 64.7983 Q1836.88 73.9938 1830.8 83.5134 L1824.32 83.5134 Q1829.71 74.2369 1832.34 65.0818 Q1835.02 55.8863 1835.02 46.5287 Q1835.02 37.1711 1832.34 28.0566 Q1829.71 18.942 1824.32 9.62495 Z\" fill=\"#000000\" fill-rule=\"evenodd\" fill-opacity=\"1\" /><path clip-path=\"url(#clip050)\" d=\"M 0 0 M507.617 140.489 Q498.584 140.489 495.1 142.555 Q491.616 144.621 491.616 149.604 Q491.616 153.574 494.209 155.923 Q496.842 158.232 501.338 158.232 Q507.536 158.232 511.263 153.857 Q515.03 149.442 515.03 142.15 L515.03 140.489 L507.617 140.489 M522.484 137.411 L522.484 163.296 L515.03 163.296 L515.03 156.409 Q512.478 160.541 508.671 162.526 Q504.863 164.471 499.353 164.471 Q492.386 164.471 488.254 160.582 Q484.163 156.653 484.163 150.09 Q484.163 142.434 489.267 138.545 Q494.411 134.656 504.579 134.656 L515.03 134.656 L515.03 133.927 Q515.03 128.782 511.628 125.987 Q508.265 123.152 502.149 123.152 Q498.26 123.152 494.573 124.083 Q490.887 125.015 487.484 126.878 L487.484 119.992 Q491.576 118.412 495.424 117.642 Q499.272 116.832 502.918 116.832 Q512.762 116.832 517.623 121.936 Q522.484 127.04 522.484 137.411 Z\" fill=\"#000000\" fill-rule=\"evenodd\" fill-opacity=\"1\" /><path clip-path=\"url(#clip050)\" d=\"M 0 0 M575.551 135.912 L575.551 163.296 L568.097 163.296 L568.097 136.155 Q568.097 129.714 565.586 126.514 Q563.074 123.314 558.051 123.314 Q552.015 123.314 548.531 127.162 Q545.048 131.01 545.048 137.654 L545.048 163.296 L537.554 163.296 L537.554 117.926 L545.048 117.926 L545.048 124.974 Q547.721 120.883 551.327 118.858 Q554.972 116.832 559.712 116.832 Q567.53 116.832 571.541 121.693 Q575.551 126.514 575.551 135.912 Z\" fill=\"#000000\" fill-rule=\"evenodd\" fill-opacity=\"1\" /><path clip-path=\"url(#clip050)\" d=\"M 0 0 M620.273 124.812 L620.273 100.264 L627.727 100.264 L627.727 163.296 L620.273 163.296 L620.273 156.49 Q617.923 160.541 614.318 162.526 Q610.753 164.471 605.73 164.471 Q597.507 164.471 592.322 157.908 Q587.177 151.346 587.177 140.651 Q587.177 129.957 592.322 123.395 Q597.507 116.832 605.73 116.832 Q610.753 116.832 614.318 118.817 Q617.923 120.762 620.273 124.812 M594.874 140.651 Q594.874 148.875 598.236 153.574 Q601.639 158.232 607.553 158.232 Q613.467 158.232 616.87 153.574 Q620.273 148.875 620.273 140.651 Q620.273 132.428 616.87 127.77 Q613.467 123.071 607.553 123.071 Q601.639 123.071 598.236 127.77 Q594.874 132.428 594.874 140.651 Z\" fill=\"#000000\" fill-rule=\"evenodd\" fill-opacity=\"1\" /><path clip-path=\"url(#clip050)\" d=\"M 0 0 M704.775 126.635 Q707.57 121.612 711.459 119.222 Q715.348 116.832 720.614 116.832 Q727.703 116.832 731.551 121.815 Q735.4 126.757 735.4 135.912 L735.4 163.296 L727.906 163.296 L727.906 136.155 Q727.906 129.633 725.596 126.473 Q723.287 123.314 718.548 123.314 Q712.755 123.314 709.393 127.162 Q706.031 131.01 706.031 137.654 L706.031 163.296 L698.536 163.296 L698.536 136.155 Q698.536 129.592 696.227 126.473 Q693.918 123.314 689.098 123.314 Q683.386 123.314 680.024 127.202 Q676.662 131.051 676.662 137.654 L676.662 163.296 L669.167 163.296 L669.167 117.926 L676.662 117.926 L676.662 124.974 Q679.214 120.802 682.778 118.817 Q686.343 116.832 691.245 116.832 Q696.187 116.832 699.63 119.344 Q703.114 121.855 704.775 126.635 Z\" fill=\"#000000\" fill-rule=\"evenodd\" fill-opacity=\"1\" /><path clip-path=\"url(#clip050)\" d=\"M 0 0 M750.267 117.926 L757.72 117.926 L757.72 163.296 L750.267 163.296 L750.267 117.926 M750.267 100.264 L757.72 100.264 L757.72 109.703 L750.267 109.703 L750.267 100.264 Z\" fill=\"#000000\" fill-rule=\"evenodd\" fill-opacity=\"1\" /><path clip-path=\"url(#clip050)\" d=\"M 0 0 M802.24 119.263 L802.24 126.311 Q799.08 124.691 795.677 123.881 Q792.274 123.071 788.629 123.071 Q783.079 123.071 780.284 124.772 Q777.529 126.473 777.529 129.876 Q777.529 132.469 779.514 133.967 Q781.499 135.426 787.494 136.763 L790.046 137.33 Q797.986 139.031 801.308 142.15 Q804.67 145.229 804.67 150.779 Q804.67 157.098 799.647 160.784 Q794.664 164.471 785.914 164.471 Q782.269 164.471 778.299 163.742 Q774.369 163.053 769.994 161.635 L769.994 153.938 Q774.126 156.085 778.137 157.179 Q782.147 158.232 786.076 158.232 Q791.343 158.232 794.178 156.45 Q797.014 154.627 797.014 151.346 Q797.014 148.308 794.948 146.687 Q792.923 145.067 785.995 143.568 L783.403 142.96 Q776.476 141.502 773.397 138.504 Q770.318 135.466 770.318 130.2 Q770.318 123.8 774.855 120.316 Q779.393 116.832 787.737 116.832 Q791.869 116.832 795.515 117.44 Q799.161 118.047 802.24 119.263 Z\" fill=\"#000000\" fill-rule=\"evenodd\" fill-opacity=\"1\" /><path clip-path=\"url(#clip050)\" d=\"M 0 0 M845.463 119.263 L845.463 126.311 Q842.303 124.691 838.9 123.881 Q835.498 123.071 831.852 123.071 Q826.302 123.071 823.507 124.772 Q820.752 126.473 820.752 129.876 Q820.752 132.469 822.737 133.967 Q824.722 135.426 830.717 136.763 L833.27 137.33 Q841.209 139.031 844.531 142.15 Q847.893 145.229 847.893 150.779 Q847.893 157.098 842.87 160.784 Q837.888 164.471 829.138 164.471 Q825.492 164.471 821.522 163.742 Q817.593 163.053 813.218 161.635 L813.218 153.938 Q817.349 156.085 821.36 157.179 Q825.37 158.232 829.3 158.232 Q834.566 158.232 837.401 156.45 Q840.237 154.627 840.237 151.346 Q840.237 148.308 838.171 146.687 Q836.146 145.067 829.219 143.568 L826.626 142.96 Q819.699 141.502 816.62 138.504 Q813.542 135.466 813.542 130.2 Q813.542 123.8 818.079 120.316 Q822.616 116.832 830.961 116.832 Q835.092 116.832 838.738 117.44 Q842.384 118.047 845.463 119.263 Z\" fill=\"#000000\" fill-rule=\"evenodd\" fill-opacity=\"1\" /><path clip-path=\"url(#clip050)\" d=\"M 0 0 M859.762 117.926 L867.216 117.926 L867.216 163.296 L859.762 163.296 L859.762 117.926 M859.762 100.264 L867.216 100.264 L867.216 109.703 L859.762 109.703 L859.762 100.264 Z\" fill=\"#000000\" fill-rule=\"evenodd\" fill-opacity=\"1\" /><path clip-path=\"url(#clip050)\" d=\"M 0 0 M920.526 135.912 L920.526 163.296 L913.072 163.296 L913.072 136.155 Q913.072 129.714 910.561 126.514 Q908.049 123.314 903.026 123.314 Q896.99 123.314 893.506 127.162 Q890.023 131.01 890.023 137.654 L890.023 163.296 L882.529 163.296 L882.529 117.926 L890.023 117.926 L890.023 124.974 Q892.696 120.883 896.302 118.858 Q899.947 116.832 904.687 116.832 Q912.505 116.832 916.516 121.693 Q920.526 126.514 920.526 135.912 Z\" fill=\"#000000\" fill-rule=\"evenodd\" fill-opacity=\"1\" /><path clip-path=\"url(#clip050)\" d=\"M 0 0 M965.248 140.084 Q965.248 131.983 961.886 127.527 Q958.564 123.071 952.528 123.071 Q946.533 123.071 943.171 127.527 Q939.849 131.983 939.849 140.084 Q939.849 148.146 943.171 152.602 Q946.533 157.058 952.528 157.058 Q958.564 157.058 961.886 152.602 Q965.248 148.146 965.248 140.084 M972.702 157.665 Q972.702 169.251 967.557 174.882 Q962.412 180.553 951.799 180.553 Q947.87 180.553 944.386 179.945 Q940.902 179.378 937.621 178.163 L937.621 170.912 Q940.902 172.694 944.102 173.545 Q947.302 174.395 950.624 174.395 Q957.956 174.395 961.602 170.547 Q965.248 166.739 965.248 159.002 L965.248 155.316 Q962.939 159.326 959.334 161.311 Q955.728 163.296 950.705 163.296 Q942.36 163.296 937.256 156.936 Q932.152 150.576 932.152 140.084 Q932.152 129.552 937.256 123.192 Q942.36 116.832 950.705 116.832 Q955.728 116.832 959.334 118.817 Q962.939 120.802 965.248 124.812 L965.248 117.926 L972.702 117.926 L972.702 157.665 Z\" fill=\"#000000\" fill-rule=\"evenodd\" fill-opacity=\"1\" /><path clip-path=\"url(#clip050)\" d=\"M 0 0 M1032.33 100.345 Q1026.9 109.662 1024.27 118.777 Q1021.64 127.891 1021.64 137.249 Q1021.64 146.606 1024.27 155.802 Q1026.94 164.957 1032.33 174.233 L1025.85 174.233 Q1019.77 164.714 1016.73 155.518 Q1013.74 146.323 1013.74 137.249 Q1013.74 128.215 1016.73 119.06 Q1019.73 109.905 1025.85 100.345 L1032.33 100.345 Z\" fill=\"#000000\" fill-rule=\"evenodd\" fill-opacity=\"1\" /><path clip-path=\"url(#clip050)\" d=\"M 0 0 M1073.08 124.893 Q1071.83 124.164 1070.33 123.84 Q1068.87 123.476 1067.09 123.476 Q1060.77 123.476 1057.37 127.608 Q1054 131.699 1054 139.396 L1054 163.296 L1046.51 163.296 L1046.51 117.926 L1054 117.926 L1054 124.974 Q1056.35 120.843 1060.12 118.858 Q1063.89 116.832 1069.28 116.832 Q1070.04 116.832 1070.98 116.954 Q1071.91 117.035 1073.04 117.237 L1073.08 124.893 Z\" fill=\"#000000\" fill-rule=\"evenodd\" fill-opacity=\"1\" /><path clip-path=\"url(#clip050)\" d=\"M 0 0 M1117.89 138.748 L1117.89 142.393 L1083.62 142.393 Q1084.1 150.09 1088.23 154.141 Q1092.41 158.151 1099.82 158.151 Q1104.11 158.151 1108.12 157.098 Q1112.17 156.045 1116.14 153.938 L1116.14 160.987 Q1112.13 162.688 1107.92 163.58 Q1103.71 164.471 1099.37 164.471 Q1088.52 164.471 1082.16 158.151 Q1075.84 151.832 1075.84 141.057 Q1075.84 129.917 1081.83 123.395 Q1087.87 116.832 1098.08 116.832 Q1107.23 116.832 1112.54 122.746 Q1117.89 128.62 1117.89 138.748 M1110.43 136.56 Q1110.35 130.443 1106.99 126.797 Q1103.67 123.152 1098.16 123.152 Q1091.92 123.152 1088.15 126.676 Q1084.43 130.2 1083.86 136.601 L1110.43 136.56 Z\" fill=\"#000000\" fill-rule=\"evenodd\" fill-opacity=\"1\" /><path clip-path=\"url(#clip050)\" d=\"M 0 0 M1159.97 124.812 L1159.97 100.264 L1167.43 100.264 L1167.43 163.296 L1159.97 163.296 L1159.97 156.49 Q1157.63 160.541 1154.02 162.526 Q1150.46 164.471 1145.43 164.471 Q1137.21 164.471 1132.02 157.908 Q1126.88 151.346 1126.88 140.651 Q1126.88 129.957 1132.02 123.395 Q1137.21 116.832 1145.43 116.832 Q1150.46 116.832 1154.02 118.817 Q1157.63 120.762 1159.97 124.812 M1134.58 140.651 Q1134.58 148.875 1137.94 153.574 Q1141.34 158.232 1147.26 158.232 Q1153.17 158.232 1156.57 153.574 Q1159.97 148.875 1159.97 140.651 Q1159.97 132.428 1156.57 127.77 Q1153.17 123.071 1147.26 123.071 Q1141.34 123.071 1137.94 127.77 Q1134.58 132.428 1134.58 140.651 Z\" fill=\"#000000\" fill-rule=\"evenodd\" fill-opacity=\"1\" /><path clip-path=\"url(#clip050)\" d=\"M 0 0 M1181.61 100.345 L1188.09 100.345 Q1194.16 109.905 1197.16 119.06 Q1200.2 128.215 1200.2 137.249 Q1200.2 146.323 1197.16 155.518 Q1194.16 164.714 1188.09 174.233 L1181.61 174.233 Q1186.99 164.957 1189.63 155.802 Q1192.3 146.606 1192.3 137.249 Q1192.3 127.891 1189.63 118.777 Q1186.99 109.662 1181.61 100.345 Z\" fill=\"#000000\" fill-rule=\"evenodd\" fill-opacity=\"1\" /><path clip-path=\"url(#clip050)\" d=\"M 0 0 M1274.17 119.668 L1274.17 126.635 Q1271.01 124.893 1267.81 124.043 Q1264.65 123.152 1261.41 123.152 Q1254.16 123.152 1250.15 127.77 Q1246.14 132.347 1246.14 140.651 Q1246.14 148.956 1250.15 153.574 Q1254.16 158.151 1261.41 158.151 Q1264.65 158.151 1267.81 157.301 Q1271.01 156.409 1274.17 154.668 L1274.17 161.554 Q1271.05 163.012 1267.69 163.742 Q1264.37 164.471 1260.6 164.471 Q1250.35 164.471 1244.31 158.03 Q1238.28 151.589 1238.28 140.651 Q1238.28 129.552 1244.36 123.192 Q1250.47 116.832 1261.09 116.832 Q1264.53 116.832 1267.81 117.561 Q1271.09 118.25 1274.17 119.668 Z\" fill=\"#000000\" fill-rule=\"evenodd\" fill-opacity=\"1\" /><path clip-path=\"url(#clip050)\" d=\"M 0 0 M1307.75 140.489 Q1298.72 140.489 1295.23 142.555 Q1291.75 144.621 1291.75 149.604 Q1291.75 153.574 1294.34 155.923 Q1296.98 158.232 1301.47 158.232 Q1307.67 158.232 1311.4 153.857 Q1315.17 149.442 1315.17 142.15 L1315.17 140.489 L1307.75 140.489 M1322.62 137.411 L1322.62 163.296 L1315.17 163.296 L1315.17 156.409 Q1312.61 160.541 1308.81 162.526 Q1305 164.471 1299.49 164.471 Q1292.52 164.471 1288.39 160.582 Q1284.3 156.653 1284.3 150.09 Q1284.3 142.434 1289.4 138.545 Q1294.55 134.656 1304.71 134.656 L1315.17 134.656 L1315.17 133.927 Q1315.17 128.782 1311.76 125.987 Q1308.4 123.152 1302.28 123.152 Q1298.39 123.152 1294.71 124.083 Q1291.02 125.015 1287.62 126.878 L1287.62 119.992 Q1291.71 118.412 1295.56 117.642 Q1299.41 116.832 1303.05 116.832 Q1312.9 116.832 1317.76 121.936 Q1322.62 127.04 1322.62 137.411 Z\" fill=\"#000000\" fill-rule=\"evenodd\" fill-opacity=\"1\" /><path clip-path=\"url(#clip050)\" d=\"M 0 0 M1370.54 140.651 Q1370.54 132.428 1367.14 127.77 Q1363.78 123.071 1357.86 123.071 Q1351.95 123.071 1348.54 127.77 Q1345.18 132.428 1345.18 140.651 Q1345.18 148.875 1348.54 153.574 Q1351.95 158.232 1357.86 158.232 Q1363.78 158.232 1367.14 153.574 Q1370.54 148.875 1370.54 140.651 M1345.18 124.812 Q1347.53 120.762 1351.1 118.817 Q1354.7 116.832 1359.68 116.832 Q1367.95 116.832 1373.09 123.395 Q1378.28 129.957 1378.28 140.651 Q1378.28 151.346 1373.09 157.908 Q1367.95 164.471 1359.68 164.471 Q1354.7 164.471 1351.1 162.526 Q1347.53 160.541 1345.18 156.49 L1345.18 163.296 L1337.69 163.296 L1337.69 100.264 L1345.18 100.264 L1345.18 124.812 Z\" fill=\"#000000\" fill-rule=\"evenodd\" fill-opacity=\"1\" /><path clip-path=\"url(#clip050)\" d=\"M 0 0 M1390.63 117.926 L1398.09 117.926 L1398.09 163.296 L1390.63 163.296 L1390.63 117.926 M1390.63 100.264 L1398.09 100.264 L1398.09 109.703 L1390.63 109.703 L1390.63 100.264 Z\" fill=\"#000000\" fill-rule=\"evenodd\" fill-opacity=\"1\" /><path clip-path=\"url(#clip050)\" d=\"M 0 0 M1451.4 135.912 L1451.4 163.296 L1443.94 163.296 L1443.94 136.155 Q1443.94 129.714 1441.43 126.514 Q1438.92 123.314 1433.9 123.314 Q1427.86 123.314 1424.38 127.162 Q1420.89 131.01 1420.89 137.654 L1420.89 163.296 L1413.4 163.296 L1413.4 117.926 L1420.89 117.926 L1420.89 124.974 Q1423.57 120.883 1427.17 118.858 Q1430.82 116.832 1435.56 116.832 Q1443.38 116.832 1447.39 121.693 Q1451.4 126.514 1451.4 135.912 Z\" fill=\"#000000\" fill-rule=\"evenodd\" fill-opacity=\"1\" /><path clip-path=\"url(#clip050)\" d=\"M 0 0 M1487.29 117.926 L1495.19 117.926 L1509.37 156.004 L1523.54 117.926 L1531.44 117.926 L1514.43 163.296 L1504.3 163.296 L1487.29 117.926 Z\" fill=\"#000000\" fill-rule=\"evenodd\" fill-opacity=\"1\" /><path clip-path=\"url(#clip050)\" d=\"M 0 0 M1562.35 140.489 Q1553.32 140.489 1549.83 142.555 Q1546.35 144.621 1546.35 149.604 Q1546.35 153.574 1548.94 155.923 Q1551.58 158.232 1556.07 158.232 Q1562.27 158.232 1566 153.857 Q1569.76 149.442 1569.76 142.15 L1569.76 140.489 L1562.35 140.489 M1577.22 137.411 L1577.22 163.296 L1569.76 163.296 L1569.76 156.409 Q1567.21 160.541 1563.4 162.526 Q1559.6 164.471 1554.09 164.471 Q1547.12 164.471 1542.99 160.582 Q1538.9 156.653 1538.9 150.09 Q1538.9 142.434 1544 138.545 Q1549.15 134.656 1559.31 134.656 L1569.76 134.656 L1569.76 133.927 Q1569.76 128.782 1566.36 125.987 Q1563 123.152 1556.88 123.152 Q1552.99 123.152 1549.31 124.083 Q1545.62 125.015 1542.22 126.878 L1542.22 119.992 Q1546.31 118.412 1550.16 117.642 Q1554.01 116.832 1557.65 116.832 Q1567.5 116.832 1572.36 121.936 Q1577.22 127.04 1577.22 137.411 Z\" fill=\"#000000\" fill-rule=\"evenodd\" fill-opacity=\"1\" /><path clip-path=\"url(#clip050)\" d=\"M 0 0 M1592.57 100.264 L1600.02 100.264 L1600.02 163.296 L1592.57 163.296 L1592.57 100.264 Z\" fill=\"#000000\" fill-rule=\"evenodd\" fill-opacity=\"1\" /><path clip-path=\"url(#clip050)\" d=\"M 0 0 M1614.85 145.391 L1614.85 117.926 L1622.3 117.926 L1622.3 145.107 Q1622.3 151.548 1624.82 154.789 Q1627.33 157.989 1632.35 157.989 Q1638.39 157.989 1641.87 154.141 Q1645.39 150.293 1645.39 143.649 L1645.39 117.926 L1652.85 117.926 L1652.85 163.296 L1645.39 163.296 L1645.39 156.328 Q1642.68 160.46 1639.08 162.486 Q1635.51 164.471 1630.77 164.471 Q1622.95 164.471 1618.9 159.61 Q1614.85 154.749 1614.85 145.391 M1633.61 116.832 L1633.61 116.832 Z\" fill=\"#000000\" fill-rule=\"evenodd\" fill-opacity=\"1\" /><path clip-path=\"url(#clip050)\" d=\"M 0 0 M1707.01 138.748 L1707.01 142.393 L1672.74 142.393 Q1673.22 150.09 1677.36 154.141 Q1681.53 158.151 1688.94 158.151 Q1693.24 158.151 1697.25 157.098 Q1701.3 156.045 1705.27 153.938 L1705.27 160.987 Q1701.26 162.688 1697.04 163.58 Q1692.83 164.471 1688.5 164.471 Q1677.64 164.471 1671.28 158.151 Q1664.96 151.832 1664.96 141.057 Q1664.96 129.917 1670.96 123.395 Q1676.99 116.832 1687.2 116.832 Q1696.36 116.832 1701.66 122.746 Q1707.01 128.62 1707.01 138.748 M1699.56 136.56 Q1699.47 130.443 1696.11 126.797 Q1692.79 123.152 1687.28 123.152 Q1681.04 123.152 1677.28 126.676 Q1673.55 130.2 1672.98 136.601 L1699.56 136.56 Z\" fill=\"#000000\" fill-rule=\"evenodd\" fill-opacity=\"1\" /><path clip-path=\"url(#clip050)\" d=\"M 0 0 M1752.82 156.49 L1752.82 180.553 L1745.33 180.553 L1745.33 117.926 L1752.82 117.926 L1752.82 124.812 Q1755.17 120.762 1758.74 118.817 Q1762.34 116.832 1767.33 116.832 Q1775.59 116.832 1780.74 123.395 Q1785.92 129.957 1785.92 140.651 Q1785.92 151.346 1780.74 157.908 Q1775.59 164.471 1767.33 164.471 Q1762.34 164.471 1758.74 162.526 Q1755.17 160.541 1752.82 156.49 M1778.18 140.651 Q1778.18 132.428 1774.78 127.77 Q1771.42 123.071 1765.5 123.071 Q1759.59 123.071 1756.19 127.77 Q1752.82 132.428 1752.82 140.651 Q1752.82 148.875 1756.19 153.574 Q1759.59 158.232 1765.5 158.232 Q1771.42 158.232 1774.78 153.574 Q1778.18 148.875 1778.18 140.651 Z\" fill=\"#000000\" fill-rule=\"evenodd\" fill-opacity=\"1\" /><path clip-path=\"url(#clip050)\" d=\"M 0 0 M1837.08 138.748 L1837.08 142.393 L1802.81 142.393 Q1803.3 150.09 1807.43 154.141 Q1811.6 158.151 1819.02 158.151 Q1823.31 158.151 1827.32 157.098 Q1831.37 156.045 1835.34 153.938 L1835.34 160.987 Q1831.33 162.688 1827.12 163.58 Q1822.91 164.471 1818.57 164.471 Q1807.71 164.471 1801.35 158.151 Q1795.04 151.832 1795.04 141.057 Q1795.04 129.917 1801.03 123.395 Q1807.07 116.832 1817.27 116.832 Q1826.43 116.832 1831.74 122.746 Q1837.08 128.62 1837.08 138.748 M1829.63 136.56 Q1829.55 130.443 1826.19 126.797 Q1822.86 123.152 1817.36 123.152 Q1811.12 123.152 1807.35 126.676 Q1803.62 130.2 1803.06 136.601 L1829.63 136.56 Z\" fill=\"#000000\" fill-rule=\"evenodd\" fill-opacity=\"1\" /><path clip-path=\"url(#clip050)\" d=\"M 0 0 M1875.61 124.893 Q1874.35 124.164 1872.85 123.84 Q1871.39 123.476 1869.61 123.476 Q1863.29 123.476 1859.89 127.608 Q1856.53 131.699 1856.53 139.396 L1856.53 163.296 L1849.03 163.296 L1849.03 117.926 L1856.53 117.926 L1856.53 124.974 Q1858.88 120.843 1862.64 118.858 Q1866.41 116.832 1871.8 116.832 Q1872.57 116.832 1873.5 116.954 Q1874.43 117.035 1875.57 117.237 L1875.61 124.893 Z\" fill=\"#000000\" fill-rule=\"evenodd\" fill-opacity=\"1\" /><path clip-path=\"url(#clip050)\" d=\"M 0 0 M1942.45 119.668 L1942.45 126.635 Q1939.29 124.893 1936.09 124.043 Q1932.93 123.152 1929.69 123.152 Q1922.44 123.152 1918.43 127.77 Q1914.42 132.347 1914.42 140.651 Q1914.42 148.956 1918.43 153.574 Q1922.44 158.151 1929.69 158.151 Q1932.93 158.151 1936.09 157.301 Q1939.29 156.409 1942.45 154.668 L1942.45 161.554 Q1939.33 163.012 1935.97 163.742 Q1932.64 164.471 1928.88 164.471 Q1918.63 164.471 1912.59 158.03 Q1906.56 151.589 1906.56 140.651 Q1906.56 129.552 1912.63 123.192 Q1918.75 116.832 1929.36 116.832 Q1932.81 116.832 1936.09 117.561 Q1939.37 118.25 1942.45 119.668 Z\" fill=\"#000000\" fill-rule=\"evenodd\" fill-opacity=\"1\" /><path clip-path=\"url(#clip050)\" d=\"M 0 0 M1955.41 100.264 L1962.86 100.264 L1962.86 163.296 L1955.41 163.296 L1955.41 100.264 Z\" fill=\"#000000\" fill-rule=\"evenodd\" fill-opacity=\"1\" /><path clip-path=\"url(#clip050)\" d=\"M 0 0 M1999.08 140.489 Q1990.05 140.489 1986.56 142.555 Q1983.08 144.621 1983.08 149.604 Q1983.08 153.574 1985.67 155.923 Q1988.3 158.232 1992.8 158.232 Q1999 158.232 2002.73 153.857 Q2006.49 149.442 2006.49 142.15 L2006.49 140.489 L1999.08 140.489 M2013.95 137.411 L2013.95 163.296 L2006.49 163.296 L2006.49 156.409 Q2003.94 160.541 2000.13 162.526 Q1996.32 164.471 1990.82 164.471 Q1983.85 164.471 1979.72 160.582 Q1975.62 156.653 1975.62 150.09 Q1975.62 142.434 1980.73 138.545 Q1985.87 134.656 1996.04 134.656 L2006.49 134.656 L2006.49 133.927 Q2006.49 128.782 2003.09 125.987 Q1999.73 123.152 1993.61 123.152 Q1989.72 123.152 1986.04 124.083 Q1982.35 125.015 1978.95 126.878 L1978.95 119.992 Q1983.04 118.412 1986.89 117.642 Q1990.73 116.832 1994.38 116.832 Q2004.22 116.832 2009.08 121.936 Q2013.95 127.04 2013.95 137.411 Z\" fill=\"#000000\" fill-rule=\"evenodd\" fill-opacity=\"1\" /><path clip-path=\"url(#clip050)\" d=\"M 0 0 M2058.22 119.263 L2058.22 126.311 Q2055.06 124.691 2051.66 123.881 Q2048.26 123.071 2044.61 123.071 Q2039.06 123.071 2036.27 124.772 Q2033.51 126.473 2033.51 129.876 Q2033.51 132.469 2035.5 133.967 Q2037.48 135.426 2043.48 136.763 L2046.03 137.33 Q2053.97 139.031 2057.29 142.15 Q2060.65 145.229 2060.65 150.779 Q2060.65 157.098 2055.63 160.784 Q2050.65 164.471 2041.9 164.471 Q2038.25 164.471 2034.28 163.742 Q2030.35 163.053 2025.98 161.635 L2025.98 153.938 Q2030.11 156.085 2034.12 157.179 Q2038.13 158.232 2042.06 158.232 Q2047.33 158.232 2050.16 156.45 Q2053 154.627 2053 151.346 Q2053 148.308 2050.93 146.687 Q2048.91 145.067 2041.98 143.568 L2039.39 142.96 Q2032.46 141.502 2029.38 138.504 Q2026.3 135.466 2026.3 130.2 Q2026.3 123.8 2030.84 120.316 Q2035.38 116.832 2043.72 116.832 Q2047.85 116.832 2051.5 117.44 Q2055.14 118.047 2058.22 119.263 Z\" fill=\"#000000\" fill-rule=\"evenodd\" fill-opacity=\"1\" /><path clip-path=\"url(#clip050)\" d=\"M 0 0 M2101.45 119.263 L2101.45 126.311 Q2098.29 124.691 2094.88 123.881 Q2091.48 123.071 2087.83 123.071 Q2082.28 123.071 2079.49 124.772 Q2076.74 126.473 2076.74 129.876 Q2076.74 132.469 2078.72 133.967 Q2080.7 135.426 2086.7 136.763 L2089.25 137.33 Q2097.19 139.031 2100.51 142.15 Q2103.88 145.229 2103.88 150.779 Q2103.88 157.098 2098.85 160.784 Q2093.87 164.471 2085.12 164.471 Q2081.47 164.471 2077.5 163.742 Q2073.58 163.053 2069.2 161.635 L2069.2 153.938 Q2073.33 156.085 2077.34 157.179 Q2081.35 158.232 2085.28 158.232 Q2090.55 158.232 2093.38 156.45 Q2096.22 154.627 2096.22 151.346 Q2096.22 148.308 2094.15 146.687 Q2092.13 145.067 2085.2 143.568 L2082.61 142.96 Q2075.68 141.502 2072.6 138.504 Q2069.52 135.466 2069.52 130.2 Q2069.52 123.8 2074.06 120.316 Q2078.6 116.832 2086.94 116.832 Q2091.08 116.832 2094.72 117.44 Q2098.37 118.047 2101.45 119.263 Z\" fill=\"#000000\" fill-rule=\"evenodd\" fill-opacity=\"1\" /><path clip-path=\"url(#clip052)\" d=\"\n",
       "M351.748 873.806 L351.748 1292.87 L890.189 1292.87 L890.189 873.806 L351.748 873.806 L351.748 873.806  Z\n",
       "  \" fill=\"#009af9\" fill-rule=\"evenodd\" fill-opacity=\"1\"/>\n",
       "<polyline clip-path=\"url(#clip052)\" style=\"stroke:#000000; stroke-width:4; stroke-opacity:1; fill:none\" points=\"\n",
       "  351.748,873.806 351.748,1292.87 890.189,1292.87 890.189,873.806 351.748,873.806 \n",
       "  \"/>\n",
       "<path clip-path=\"url(#clip052)\" d=\"\n",
       "M1024.8 949.999 L1024.8 988.095 L1563.24 988.095 L1563.24 949.999 L1024.8 949.999 L1024.8 949.999  Z\n",
       "  \" fill=\"#009af9\" fill-rule=\"evenodd\" fill-opacity=\"1\"/>\n",
       "<polyline clip-path=\"url(#clip052)\" style=\"stroke:#000000; stroke-width:4; stroke-opacity:1; fill:none\" points=\"\n",
       "  1024.8,949.999 1024.8,988.095 1563.24,988.095 1563.24,949.999 1024.8,949.999 \n",
       "  \"/>\n",
       "<path clip-path=\"url(#clip052)\" d=\"\n",
       "M1697.85 219.025 L1697.85 247.597 L2236.29 247.597 L2236.29 219.025 L1697.85 219.025 L1697.85 219.025  Z\n",
       "  \" fill=\"#009af9\" fill-rule=\"evenodd\" fill-opacity=\"1\"/>\n",
       "<polyline clip-path=\"url(#clip052)\" style=\"stroke:#000000; stroke-width:4; stroke-opacity:1; fill:none\" points=\"\n",
       "  1697.85,219.025 1697.85,247.597 2236.29,247.597 2236.29,219.025 1697.85,219.025 \n",
       "  \"/>\n",
       "<path clip-path=\"url(#clip052)\" d=\"\n",
       "M351.748 1292.87 L351.748 1388.11 L890.189 1388.11 L890.189 1292.87 L351.748 1292.87 L351.748 1292.87  Z\n",
       "  \" fill=\"#e26f46\" fill-rule=\"evenodd\" fill-opacity=\"1\"/>\n",
       "<polyline clip-path=\"url(#clip052)\" style=\"stroke:#000000; stroke-width:4; stroke-opacity:1; fill:none\" points=\"\n",
       "  351.748,1292.87 351.748,1388.11 890.189,1388.11 890.189,1292.87 351.748,1292.87 \n",
       "  \"/>\n",
       "<path clip-path=\"url(#clip052)\" d=\"\n",
       "M1024.8 988.095 L1024.8 1388.11 L1563.24 1388.11 L1563.24 988.095 L1024.8 988.095 L1024.8 988.095  Z\n",
       "  \" fill=\"#e26f46\" fill-rule=\"evenodd\" fill-opacity=\"1\"/>\n",
       "<polyline clip-path=\"url(#clip052)\" style=\"stroke:#000000; stroke-width:4; stroke-opacity:1; fill:none\" points=\"\n",
       "  1024.8,988.095 1024.8,1388.11 1563.24,1388.11 1563.24,988.095 1024.8,988.095 \n",
       "  \"/>\n",
       "<path clip-path=\"url(#clip052)\" d=\"\n",
       "M1697.85 247.597 L1697.85 1388.11 L2236.29 1388.11 L2236.29 247.597 L1697.85 247.597 L1697.85 247.597  Z\n",
       "  \" fill=\"#e26f46\" fill-rule=\"evenodd\" fill-opacity=\"1\"/>\n",
       "<polyline clip-path=\"url(#clip052)\" style=\"stroke:#000000; stroke-width:4; stroke-opacity:1; fill:none\" points=\"\n",
       "  1697.85,247.597 1697.85,1388.11 2236.29,1388.11 2236.29,247.597 1697.85,247.597 \n",
       "  \"/>\n",
       "</svg>\n"
      ]
     },
     "execution_count": 71,
     "metadata": {},
     "output_type": "execute_result"
    }
   ],
   "source": [
    "groupedbar(m, bar_position = :stack, \n",
    "    title=\"Proportion of present (blue) \\nand missing (red) cabin value per class\", \n",
    "    xlabel=\"Class\", ylabel=\"Number of individuals\", legend=false)"
   ]
  },
  {
   "cell_type": "markdown",
   "metadata": {},
   "source": [
    "### It seems that our guess is correct.\n",
    "Because there is a high correlation between the pressence of a cabin and the class of person, we can choose to discard the \"Cabin\" property."
   ]
  },
  {
   "cell_type": "code",
   "execution_count": 73,
   "metadata": {},
   "outputs": [
    {
     "data": {
      "text/html": [
       "<table class=\"data-frame\"><thead><tr><th></th><th>PassengerId</th><th>Survived</th><th>Pclass</th><th>Name</th></tr><tr><th></th><th>Int64</th><th>Int64</th><th>Int64</th><th>String</th></tr></thead><tbody><p>891 rows × 11 columns (omitted printing of 7 columns)</p><tr><th>1</th><td>1</td><td>0</td><td>3</td><td>Braund, Mr. Owen Harris</td></tr><tr><th>2</th><td>2</td><td>1</td><td>1</td><td>Cumings, Mrs. John Bradley (Florence Briggs Thayer)</td></tr><tr><th>3</th><td>3</td><td>1</td><td>3</td><td>Heikkinen, Miss. Laina</td></tr><tr><th>4</th><td>4</td><td>1</td><td>1</td><td>Futrelle, Mrs. Jacques Heath (Lily May Peel)</td></tr><tr><th>5</th><td>5</td><td>0</td><td>3</td><td>Allen, Mr. William Henry</td></tr><tr><th>6</th><td>6</td><td>0</td><td>3</td><td>Moran, Mr. James</td></tr><tr><th>7</th><td>7</td><td>0</td><td>1</td><td>McCarthy, Mr. Timothy J</td></tr><tr><th>8</th><td>8</td><td>0</td><td>3</td><td>Palsson, Master. Gosta Leonard</td></tr><tr><th>9</th><td>9</td><td>1</td><td>3</td><td>Johnson, Mrs. Oscar W (Elisabeth Vilhelmina Berg)</td></tr><tr><th>10</th><td>10</td><td>1</td><td>2</td><td>Nasser, Mrs. Nicholas (Adele Achem)</td></tr><tr><th>11</th><td>11</td><td>1</td><td>3</td><td>Sandstrom, Miss. Marguerite Rut</td></tr><tr><th>12</th><td>12</td><td>1</td><td>1</td><td>Bonnell, Miss. Elizabeth</td></tr><tr><th>13</th><td>13</td><td>0</td><td>3</td><td>Saundercock, Mr. William Henry</td></tr><tr><th>14</th><td>14</td><td>0</td><td>3</td><td>Andersson, Mr. Anders Johan</td></tr><tr><th>15</th><td>15</td><td>0</td><td>3</td><td>Vestrom, Miss. Hulda Amanda Adolfina</td></tr><tr><th>16</th><td>16</td><td>1</td><td>2</td><td>Hewlett, Mrs. (Mary D Kingcome) </td></tr><tr><th>17</th><td>17</td><td>0</td><td>3</td><td>Rice, Master. Eugene</td></tr><tr><th>18</th><td>18</td><td>1</td><td>2</td><td>Williams, Mr. Charles Eugene</td></tr><tr><th>19</th><td>19</td><td>0</td><td>3</td><td>Vander Planke, Mrs. Julius (Emelia Maria Vandemoortele)</td></tr><tr><th>20</th><td>20</td><td>1</td><td>3</td><td>Masselmani, Mrs. Fatima</td></tr><tr><th>21</th><td>21</td><td>0</td><td>2</td><td>Fynney, Mr. Joseph J</td></tr><tr><th>22</th><td>22</td><td>1</td><td>2</td><td>Beesley, Mr. Lawrence</td></tr><tr><th>23</th><td>23</td><td>1</td><td>3</td><td>McGowan, Miss. Anna \"Annie\"</td></tr><tr><th>24</th><td>24</td><td>1</td><td>1</td><td>Sloper, Mr. William Thompson</td></tr><tr><th>25</th><td>25</td><td>0</td><td>3</td><td>Palsson, Miss. Torborg Danira</td></tr><tr><th>26</th><td>26</td><td>1</td><td>3</td><td>Asplund, Mrs. Carl Oscar (Selma Augusta Emilia Johansson)</td></tr><tr><th>27</th><td>27</td><td>0</td><td>3</td><td>Emir, Mr. Farred Chehab</td></tr><tr><th>28</th><td>28</td><td>0</td><td>1</td><td>Fortune, Mr. Charles Alexander</td></tr><tr><th>29</th><td>29</td><td>1</td><td>3</td><td>O'Dwyer, Miss. Ellen \"Nellie\"</td></tr><tr><th>30</th><td>30</td><td>0</td><td>3</td><td>Todoroff, Mr. Lalio</td></tr><tr><th>&vellip;</th><td>&vellip;</td><td>&vellip;</td><td>&vellip;</td><td>&vellip;</td></tr></tbody></table>"
      ],
      "text/latex": [
       "\\begin{tabular}{r|ccccc}\n",
       "\t& PassengerId & Survived & Pclass & Name & \\\\\n",
       "\t\\hline\n",
       "\t& Int64 & Int64 & Int64 & String & \\\\\n",
       "\t\\hline\n",
       "\t1 & 1 & 0 & 3 & Braund, Mr. Owen Harris & $\\dots$ \\\\\n",
       "\t2 & 2 & 1 & 1 & Cumings, Mrs. John Bradley (Florence Briggs Thayer) & $\\dots$ \\\\\n",
       "\t3 & 3 & 1 & 3 & Heikkinen, Miss. Laina & $\\dots$ \\\\\n",
       "\t4 & 4 & 1 & 1 & Futrelle, Mrs. Jacques Heath (Lily May Peel) & $\\dots$ \\\\\n",
       "\t5 & 5 & 0 & 3 & Allen, Mr. William Henry & $\\dots$ \\\\\n",
       "\t6 & 6 & 0 & 3 & Moran, Mr. James & $\\dots$ \\\\\n",
       "\t7 & 7 & 0 & 1 & McCarthy, Mr. Timothy J & $\\dots$ \\\\\n",
       "\t8 & 8 & 0 & 3 & Palsson, Master. Gosta Leonard & $\\dots$ \\\\\n",
       "\t9 & 9 & 1 & 3 & Johnson, Mrs. Oscar W (Elisabeth Vilhelmina Berg) & $\\dots$ \\\\\n",
       "\t10 & 10 & 1 & 2 & Nasser, Mrs. Nicholas (Adele Achem) & $\\dots$ \\\\\n",
       "\t11 & 11 & 1 & 3 & Sandstrom, Miss. Marguerite Rut & $\\dots$ \\\\\n",
       "\t12 & 12 & 1 & 1 & Bonnell, Miss. Elizabeth & $\\dots$ \\\\\n",
       "\t13 & 13 & 0 & 3 & Saundercock, Mr. William Henry & $\\dots$ \\\\\n",
       "\t14 & 14 & 0 & 3 & Andersson, Mr. Anders Johan & $\\dots$ \\\\\n",
       "\t15 & 15 & 0 & 3 & Vestrom, Miss. Hulda Amanda Adolfina & $\\dots$ \\\\\n",
       "\t16 & 16 & 1 & 2 & Hewlett, Mrs. (Mary D Kingcome)  & $\\dots$ \\\\\n",
       "\t17 & 17 & 0 & 3 & Rice, Master. Eugene & $\\dots$ \\\\\n",
       "\t18 & 18 & 1 & 2 & Williams, Mr. Charles Eugene & $\\dots$ \\\\\n",
       "\t19 & 19 & 0 & 3 & Vander Planke, Mrs. Julius (Emelia Maria Vandemoortele) & $\\dots$ \\\\\n",
       "\t20 & 20 & 1 & 3 & Masselmani, Mrs. Fatima & $\\dots$ \\\\\n",
       "\t21 & 21 & 0 & 2 & Fynney, Mr. Joseph J & $\\dots$ \\\\\n",
       "\t22 & 22 & 1 & 2 & Beesley, Mr. Lawrence & $\\dots$ \\\\\n",
       "\t23 & 23 & 1 & 3 & McGowan, Miss. Anna \"Annie\" & $\\dots$ \\\\\n",
       "\t24 & 24 & 1 & 1 & Sloper, Mr. William Thompson & $\\dots$ \\\\\n",
       "\t25 & 25 & 0 & 3 & Palsson, Miss. Torborg Danira & $\\dots$ \\\\\n",
       "\t26 & 26 & 1 & 3 & Asplund, Mrs. Carl Oscar (Selma Augusta Emilia Johansson) & $\\dots$ \\\\\n",
       "\t27 & 27 & 0 & 3 & Emir, Mr. Farred Chehab & $\\dots$ \\\\\n",
       "\t28 & 28 & 0 & 1 & Fortune, Mr. Charles Alexander & $\\dots$ \\\\\n",
       "\t29 & 29 & 1 & 3 & O'Dwyer, Miss. Ellen \"Nellie\" & $\\dots$ \\\\\n",
       "\t30 & 30 & 0 & 3 & Todoroff, Mr. Lalio & $\\dots$ \\\\\n",
       "\t$\\dots$ & $\\dots$ & $\\dots$ & $\\dots$ & $\\dots$ &  \\\\\n",
       "\\end{tabular}\n"
      ],
      "text/plain": [
       "\u001b[1m891×11 DataFrame\u001b[0m\n",
       "\u001b[1m Row \u001b[0m│\u001b[1m PassengerId \u001b[0m\u001b[1m Survived \u001b[0m\u001b[1m Pclass \u001b[0m\u001b[1m Name                              \u001b[0m\u001b[1m Sex  \u001b[0m ⋯\n",
       "\u001b[1m     \u001b[0m│\u001b[90m Int64       \u001b[0m\u001b[90m Int64    \u001b[0m\u001b[90m Int64  \u001b[0m\u001b[90m String                            \u001b[0m\u001b[90m Strin\u001b[0m ⋯\n",
       "─────┼──────────────────────────────────────────────────────────────────────────\n",
       "   1 │           1         0       3  Braund, Mr. Owen Harris            male  ⋯\n",
       "   2 │           2         1       1  Cumings, Mrs. John Bradley (Flor…  femal\n",
       "   3 │           3         1       3  Heikkinen, Miss. Laina             femal\n",
       "   4 │           4         1       1  Futrelle, Mrs. Jacques Heath (Li…  femal\n",
       "   5 │           5         0       3  Allen, Mr. William Henry           male  ⋯\n",
       "   6 │           6         0       3  Moran, Mr. James                   male\n",
       "   7 │           7         0       1  McCarthy, Mr. Timothy J            male\n",
       "   8 │           8         0       3  Palsson, Master. Gosta Leonard     male\n",
       "   9 │           9         1       3  Johnson, Mrs. Oscar W (Elisabeth…  femal ⋯\n",
       "  10 │          10         1       2  Nasser, Mrs. Nicholas (Adele Ach…  femal\n",
       "  11 │          11         1       3  Sandstrom, Miss. Marguerite Rut    femal\n",
       "  ⋮  │      ⋮          ⋮        ⋮                     ⋮                    ⋮   ⋱\n",
       " 882 │         882         0       3  Markun, Mr. Johann                 male\n",
       " 883 │         883         0       3  Dahlberg, Miss. Gerda Ulrika       femal ⋯\n",
       " 884 │         884         0       2  Banfield, Mr. Frederick James      male\n",
       " 885 │         885         0       3  Sutehall, Mr. Henry Jr             male\n",
       " 886 │         886         0       3  Rice, Mrs. William (Margaret Nor…  femal\n",
       " 887 │         887         0       2  Montvila, Rev. Juozas              male  ⋯\n",
       " 888 │         888         1       1  Graham, Miss. Margaret Edith       femal\n",
       " 889 │         889         0       3  Johnston, Miss. Catherine Helen …  femal\n",
       " 890 │         890         1       1  Behr, Mr. Karl Howell              male\n",
       " 891 │         891         0       3  Dooley, Mr. Patrick                male  ⋯\n",
       "\u001b[36m                                                  7 columns and 870 rows omitted\u001b[0m"
      ]
     },
     "execution_count": 73,
     "metadata": {},
     "output_type": "execute_result"
    }
   ],
   "source": [
    "select!(data, Not(:Cabin));"
   ]
  },
  {
   "cell_type": "markdown",
   "metadata": {},
   "source": [
    "### Let's now study the \"Embarked\" field"
   ]
  },
  {
   "cell_type": "code",
   "execution_count": 72,
   "metadata": {},
   "outputs": [
    {
     "name": "stdout",
     "output_type": "stream",
     "text": [
      "2"
     ]
    }
   ],
   "source": [
    "nmissing_embarked = 0\n",
    "\n",
    "for value in eachrow(data)\n",
    "    if ismissing(value.Embarked)\n",
    "        nmissing_embarked += 1\n",
    "    end\n",
    "end\n",
    "\n",
    "print(nmissing_embarked)"
   ]
  },
  {
   "cell_type": "markdown",
   "metadata": {},
   "source": [
    "### There are only two values that are missing.\n",
    "That is great news, it means that we could replace them with the most common port of embarkation without affecting the data distribution *too much*"
   ]
  },
  {
   "cell_type": "markdown",
   "metadata": {},
   "source": [
    "### In the next steps, we will study the influence of each field on the \"Survived\" label.\n",
    "First off, we can discard the PassengerId because it doesn't gives us any insight into anything."
   ]
  },
  {
   "cell_type": "code",
   "execution_count": 74,
   "metadata": {},
   "outputs": [],
   "source": [
    "select!(data, Not(:PassengerId));"
   ]
  },
  {
   "cell_type": "markdown",
   "metadata": {},
   "source": [
    "### Pclass"
   ]
  },
  {
   "cell_type": "code",
   "execution_count": 76,
   "metadata": {},
   "outputs": [],
   "source": [
    "all_classes = data[:, 3]\n",
    "classes = unique(all_classes)\n",
    "\n",
    "first_class = filter(x -> x.Pclass == 1, data)\n",
    "first_class_survivors = filter(x -> x.Survived == 1, first_class)\n",
    "\n",
    "second_class = filter(x -> x.Pclass == 2, data)\n",
    "second_class_survivors = filter(x -> x.Survived == 1, second_class)\n",
    "\n",
    "third_class = filter(x -> x.Pclass == 3, data)\n",
    "third_class_survivors = filter(x -> x.Survived == 1, third_class);"
   ]
  },
  {
   "cell_type": "code",
   "execution_count": 77,
   "metadata": {},
   "outputs": [
    {
     "data": {
      "image/svg+xml": [
       "<?xml version=\"1.0\" encoding=\"utf-8\"?>\n",
       "<svg xmlns=\"http://www.w3.org/2000/svg\" xmlns:xlink=\"http://www.w3.org/1999/xlink\" width=\"600\" height=\"400\" viewBox=\"0 0 2400 1600\">\n",
       "<defs>\n",
       "  <clipPath id=\"clip090\">\n",
       "    <rect x=\"0\" y=\"0\" width=\"2400\" height=\"1600\"/>\n",
       "  </clipPath>\n",
       "</defs>\n",
       "<path clip-path=\"url(#clip090)\" d=\"\n",
       "M0 1600 L2400 1600 L2400 0 L0 0  Z\n",
       "  \" fill=\"#ffffff\" fill-rule=\"evenodd\" fill-opacity=\"1\"/>\n",
       "<defs>\n",
       "  <clipPath id=\"clip091\">\n",
       "    <rect x=\"480\" y=\"0\" width=\"1681\" height=\"1600\"/>\n",
       "  </clipPath>\n",
       "</defs>\n",
       "<path clip-path=\"url(#clip090)\" d=\"\n",
       "M156.598 1486.45 L2352.76 1486.45 L2352.76 123.472 L156.598 123.472  Z\n",
       "  \" fill=\"#ffffff\" fill-rule=\"evenodd\" fill-opacity=\"1\"/>\n",
       "<defs>\n",
       "  <clipPath id=\"clip092\">\n",
       "    <rect x=\"156\" y=\"123\" width=\"2197\" height=\"1364\"/>\n",
       "  </clipPath>\n",
       "</defs>\n",
       "<polyline clip-path=\"url(#clip092)\" style=\"stroke:#000000; stroke-width:2; stroke-opacity:0.1; fill:none\" points=\"\n",
       "  556.615,1486.45 556.615,123.472 \n",
       "  \"/>\n",
       "<polyline clip-path=\"url(#clip092)\" style=\"stroke:#000000; stroke-width:2; stroke-opacity:0.1; fill:none\" points=\"\n",
       "  1254.68,1486.45 1254.68,123.472 \n",
       "  \"/>\n",
       "<polyline clip-path=\"url(#clip092)\" style=\"stroke:#000000; stroke-width:2; stroke-opacity:0.1; fill:none\" points=\"\n",
       "  1952.74,1486.45 1952.74,123.472 \n",
       "  \"/>\n",
       "<polyline clip-path=\"url(#clip090)\" style=\"stroke:#000000; stroke-width:4; stroke-opacity:1; fill:none\" points=\"\n",
       "  156.598,1486.45 2352.76,1486.45 \n",
       "  \"/>\n",
       "<polyline clip-path=\"url(#clip090)\" style=\"stroke:#000000; stroke-width:4; stroke-opacity:1; fill:none\" points=\"\n",
       "  556.615,1486.45 556.615,1470.09 \n",
       "  \"/>\n",
       "<polyline clip-path=\"url(#clip090)\" style=\"stroke:#000000; stroke-width:4; stroke-opacity:1; fill:none\" points=\"\n",
       "  1254.68,1486.45 1254.68,1470.09 \n",
       "  \"/>\n",
       "<polyline clip-path=\"url(#clip090)\" style=\"stroke:#000000; stroke-width:4; stroke-opacity:1; fill:none\" points=\"\n",
       "  1952.74,1486.45 1952.74,1470.09 \n",
       "  \"/>\n",
       "<path clip-path=\"url(#clip090)\" d=\"M 0 0 M443.838 1512.56 L463.699 1512.56 L463.699 1516.5 L448.514 1516.5 L448.514 1526.68 L462.218 1526.68 L462.218 1530.62 L448.514 1530.62 L448.514 1547.12 L443.838 1547.12 L443.838 1512.56 Z\" fill=\"#000000\" fill-rule=\"evenodd\" fill-opacity=\"1\" /><path clip-path=\"url(#clip090)\" d=\"M 0 0 M467.472 1521.19 L471.732 1521.19 L471.732 1547.12 L467.472 1547.12 L467.472 1521.19 M467.472 1511.1 L471.732 1511.1 L471.732 1516.5 L467.472 1516.5 L467.472 1511.1 Z\" fill=\"#000000\" fill-rule=\"evenodd\" fill-opacity=\"1\" /><path clip-path=\"url(#clip090)\" d=\"M 0 0 M495.667 1525.18 Q494.949 1524.76 494.093 1524.57 Q493.259 1524.37 492.241 1524.37 Q488.63 1524.37 486.685 1526.73 Q484.764 1529.06 484.764 1533.46 L484.764 1547.12 L480.482 1547.12 L480.482 1521.19 L484.764 1521.19 L484.764 1525.22 Q486.107 1522.86 488.259 1521.73 Q490.412 1520.57 493.491 1520.57 Q493.931 1520.57 494.463 1520.64 Q494.995 1520.68 495.644 1520.8 L495.667 1525.18 Z\" fill=\"#000000\" fill-rule=\"evenodd\" fill-opacity=\"1\" /><path clip-path=\"url(#clip090)\" d=\"M 0 0 M516.662 1521.96 L516.662 1525.99 Q514.856 1525.06 512.912 1524.6 Q510.968 1524.13 508.884 1524.13 Q505.713 1524.13 504.116 1525.11 Q502.542 1526.08 502.542 1528.02 Q502.542 1529.5 503.676 1530.36 Q504.81 1531.19 508.236 1531.96 L509.694 1532.28 Q514.231 1533.25 516.13 1535.04 Q518.051 1536.8 518.051 1539.97 Q518.051 1543.58 515.18 1545.68 Q512.333 1547.79 507.333 1547.79 Q505.25 1547.79 502.981 1547.37 Q500.736 1546.98 498.236 1546.17 L498.236 1541.77 Q500.597 1543 502.889 1543.62 Q505.181 1544.23 507.426 1544.23 Q510.435 1544.23 512.056 1543.21 Q513.676 1542.17 513.676 1540.29 Q513.676 1538.56 512.495 1537.63 Q511.338 1536.7 507.38 1535.85 L505.898 1535.5 Q501.94 1534.67 500.181 1532.95 Q498.421 1531.22 498.421 1528.21 Q498.421 1524.55 501.014 1522.56 Q503.606 1520.57 508.375 1520.57 Q510.736 1520.57 512.819 1520.92 Q514.903 1521.26 516.662 1521.96 Z\" fill=\"#000000\" fill-rule=\"evenodd\" fill-opacity=\"1\" /><path clip-path=\"url(#clip090)\" d=\"M 0 0 M529.046 1513.83 L529.046 1521.19 L537.819 1521.19 L537.819 1524.5 L529.046 1524.5 L529.046 1538.58 Q529.046 1541.75 529.903 1542.65 Q530.782 1543.56 533.444 1543.56 L537.819 1543.56 L537.819 1547.12 L533.444 1547.12 Q528.514 1547.12 526.639 1545.29 Q524.764 1543.44 524.764 1538.58 L524.764 1524.5 L521.639 1524.5 L521.639 1521.19 L524.764 1521.19 L524.764 1513.83 L529.046 1513.83 Z\" fill=\"#000000\" fill-rule=\"evenodd\" fill-opacity=\"1\" /><path clip-path=\"url(#clip090)\" d=\"M 0 0 M577.148 1522.19 L577.148 1526.17 Q575.342 1525.18 573.514 1524.69 Q571.708 1524.18 569.856 1524.18 Q565.713 1524.18 563.421 1526.82 Q561.129 1529.43 561.129 1534.18 Q561.129 1538.93 563.421 1541.56 Q565.713 1544.18 569.856 1544.18 Q571.708 1544.18 573.514 1543.69 Q575.342 1543.18 577.148 1542.19 L577.148 1546.12 Q575.365 1546.96 573.444 1547.37 Q571.546 1547.79 569.393 1547.79 Q563.537 1547.79 560.088 1544.11 Q556.639 1540.43 556.639 1534.18 Q556.639 1527.84 560.111 1524.2 Q563.606 1520.57 569.671 1520.57 Q571.639 1520.57 573.514 1520.99 Q575.389 1521.38 577.148 1522.19 Z\" fill=\"#000000\" fill-rule=\"evenodd\" fill-opacity=\"1\" /><path clip-path=\"url(#clip090)\" d=\"M 0 0 M584.555 1511.1 L588.814 1511.1 L588.814 1547.12 L584.555 1547.12 L584.555 1511.1 Z\" fill=\"#000000\" fill-rule=\"evenodd\" fill-opacity=\"1\" /><path clip-path=\"url(#clip090)\" d=\"M 0 0 M609.509 1534.09 Q604.347 1534.09 602.356 1535.27 Q600.365 1536.45 600.365 1539.3 Q600.365 1541.56 601.847 1542.91 Q603.351 1544.23 605.921 1544.23 Q609.462 1544.23 611.592 1541.73 Q613.745 1539.2 613.745 1535.04 L613.745 1534.09 L609.509 1534.09 M618.004 1532.33 L618.004 1547.12 L613.745 1547.12 L613.745 1543.18 Q612.286 1545.55 610.111 1546.68 Q607.935 1547.79 604.786 1547.79 Q600.805 1547.79 598.444 1545.57 Q596.106 1543.32 596.106 1539.57 Q596.106 1535.2 599.023 1532.98 Q601.962 1530.75 607.773 1530.75 L613.745 1530.75 L613.745 1530.34 Q613.745 1527.4 611.8 1525.8 Q609.879 1524.18 606.384 1524.18 Q604.162 1524.18 602.055 1524.71 Q599.949 1525.24 598.004 1526.31 L598.004 1522.37 Q600.342 1521.47 602.541 1521.03 Q604.74 1520.57 606.824 1520.57 Q612.448 1520.57 615.226 1523.49 Q618.004 1526.4 618.004 1532.33 Z\" fill=\"#000000\" fill-rule=\"evenodd\" fill-opacity=\"1\" /><path clip-path=\"url(#clip090)\" d=\"M 0 0 M643.305 1521.96 L643.305 1525.99 Q641.499 1525.06 639.555 1524.6 Q637.61 1524.13 635.527 1524.13 Q632.356 1524.13 630.759 1525.11 Q629.185 1526.08 629.185 1528.02 Q629.185 1529.5 630.319 1530.36 Q631.453 1531.19 634.879 1531.96 L636.337 1532.28 Q640.874 1533.25 642.772 1535.04 Q644.694 1536.8 644.694 1539.97 Q644.694 1543.58 641.823 1545.68 Q638.976 1547.79 633.976 1547.79 Q631.893 1547.79 629.624 1547.37 Q627.379 1546.98 624.879 1546.17 L624.879 1541.77 Q627.24 1543 629.532 1543.62 Q631.823 1544.23 634.069 1544.23 Q637.078 1544.23 638.698 1543.21 Q640.319 1542.17 640.319 1540.29 Q640.319 1538.56 639.138 1537.63 Q637.981 1536.7 634.022 1535.85 L632.541 1535.5 Q628.583 1534.67 626.823 1532.95 Q625.064 1531.22 625.064 1528.21 Q625.064 1524.55 627.657 1522.56 Q630.249 1520.57 635.018 1520.57 Q637.379 1520.57 639.462 1520.92 Q641.546 1521.26 643.305 1521.96 Z\" fill=\"#000000\" fill-rule=\"evenodd\" fill-opacity=\"1\" /><path clip-path=\"url(#clip090)\" d=\"M 0 0 M668.004 1521.96 L668.004 1525.99 Q666.198 1525.06 664.254 1524.6 Q662.309 1524.13 660.226 1524.13 Q657.055 1524.13 655.458 1525.11 Q653.883 1526.08 653.883 1528.02 Q653.883 1529.5 655.018 1530.36 Q656.152 1531.19 659.578 1531.96 L661.036 1532.28 Q665.573 1533.25 667.471 1535.04 Q669.393 1536.8 669.393 1539.97 Q669.393 1543.58 666.522 1545.68 Q663.675 1547.79 658.675 1547.79 Q656.592 1547.79 654.323 1547.37 Q652.078 1546.98 649.578 1546.17 L649.578 1541.77 Q651.939 1543 654.231 1543.62 Q656.522 1544.23 658.768 1544.23 Q661.777 1544.23 663.397 1543.21 Q665.018 1542.17 665.018 1540.29 Q665.018 1538.56 663.837 1537.63 Q662.68 1536.7 658.721 1535.85 L657.24 1535.5 Q653.282 1534.67 651.522 1532.95 Q649.763 1531.22 649.763 1528.21 Q649.763 1524.55 652.356 1522.56 Q654.948 1520.57 659.717 1520.57 Q662.078 1520.57 664.161 1520.92 Q666.245 1521.26 668.004 1521.96 Z\" fill=\"#000000\" fill-rule=\"evenodd\" fill-opacity=\"1\" /><path clip-path=\"url(#clip090)\" d=\"M 0 0 M1126.03 1513.69 L1126.03 1518.25 Q1123.37 1516.98 1121.01 1516.36 Q1118.65 1515.73 1116.45 1515.73 Q1112.63 1515.73 1110.55 1517.21 Q1108.49 1518.69 1108.49 1521.43 Q1108.49 1523.72 1109.85 1524.9 Q1111.24 1526.06 1115.08 1526.77 L1117.91 1527.35 Q1123.14 1528.35 1125.62 1530.87 Q1128.12 1533.37 1128.12 1537.58 Q1128.12 1542.61 1124.74 1545.2 Q1121.38 1547.79 1114.87 1547.79 Q1112.42 1547.79 1109.64 1547.24 Q1106.89 1546.68 1103.93 1545.59 L1103.93 1540.78 Q1106.77 1542.37 1109.5 1543.18 Q1112.24 1543.99 1114.87 1543.99 Q1118.88 1543.99 1121.06 1542.42 Q1123.23 1540.85 1123.23 1537.93 Q1123.23 1535.38 1121.66 1533.95 Q1120.11 1532.51 1116.54 1531.8 L1113.69 1531.24 Q1108.46 1530.2 1106.12 1527.98 Q1103.79 1525.75 1103.79 1521.8 Q1103.79 1517.21 1107 1514.57 Q1110.24 1511.93 1115.92 1511.93 Q1118.35 1511.93 1120.87 1512.37 Q1123.39 1512.81 1126.03 1513.69 Z\" fill=\"#000000\" fill-rule=\"evenodd\" fill-opacity=\"1\" /><path clip-path=\"url(#clip090)\" d=\"M 0 0 M1157.4 1533.09 L1157.4 1535.18 L1137.81 1535.18 Q1138.09 1539.57 1140.45 1541.89 Q1142.84 1544.18 1147.07 1544.18 Q1149.53 1544.18 1151.82 1543.58 Q1154.13 1542.98 1156.4 1541.77 L1156.4 1545.8 Q1154.11 1546.77 1151.7 1547.28 Q1149.3 1547.79 1146.82 1547.79 Q1140.62 1547.79 1136.98 1544.18 Q1133.37 1540.57 1133.37 1534.41 Q1133.37 1528.05 1136.8 1524.32 Q1140.24 1520.57 1146.08 1520.57 Q1151.31 1520.57 1154.34 1523.95 Q1157.4 1527.31 1157.4 1533.09 M1153.14 1531.84 Q1153.09 1528.35 1151.17 1526.26 Q1149.27 1524.18 1146.12 1524.18 Q1142.56 1524.18 1140.41 1526.19 Q1138.28 1528.21 1137.95 1531.87 L1153.14 1531.84 Z\" fill=\"#000000\" fill-rule=\"evenodd\" fill-opacity=\"1\" /><path clip-path=\"url(#clip090)\" d=\"M 0 0 M1183.05 1522.19 L1183.05 1526.17 Q1181.24 1525.18 1179.41 1524.69 Q1177.61 1524.18 1175.75 1524.18 Q1171.61 1524.18 1169.32 1526.82 Q1167.03 1529.43 1167.03 1534.18 Q1167.03 1538.93 1169.32 1541.56 Q1171.61 1544.18 1175.75 1544.18 Q1177.61 1544.18 1179.41 1543.69 Q1181.24 1543.18 1183.05 1542.19 L1183.05 1546.12 Q1181.26 1546.96 1179.34 1547.37 Q1177.44 1547.79 1175.29 1547.79 Q1169.43 1547.79 1165.99 1544.11 Q1162.54 1540.43 1162.54 1534.18 Q1162.54 1527.84 1166.01 1524.2 Q1169.5 1520.57 1175.57 1520.57 Q1177.54 1520.57 1179.41 1520.99 Q1181.29 1521.38 1183.05 1522.19 Z\" fill=\"#000000\" fill-rule=\"evenodd\" fill-opacity=\"1\" /><path clip-path=\"url(#clip090)\" d=\"M 0 0 M1200.5 1524.18 Q1197.07 1524.18 1195.08 1526.87 Q1193.09 1529.53 1193.09 1534.18 Q1193.09 1538.83 1195.06 1541.52 Q1197.05 1544.18 1200.5 1544.18 Q1203.9 1544.18 1205.89 1541.49 Q1207.88 1538.81 1207.88 1534.18 Q1207.88 1529.57 1205.89 1526.89 Q1203.9 1524.18 1200.5 1524.18 M1200.5 1520.57 Q1206.05 1520.57 1209.23 1524.18 Q1212.4 1527.79 1212.4 1534.18 Q1212.4 1540.55 1209.23 1544.18 Q1206.05 1547.79 1200.5 1547.79 Q1194.92 1547.79 1191.75 1544.18 Q1188.6 1540.55 1188.6 1534.18 Q1188.6 1527.79 1191.75 1524.18 Q1194.92 1520.57 1200.5 1520.57 Z\" fill=\"#000000\" fill-rule=\"evenodd\" fill-opacity=\"1\" /><path clip-path=\"url(#clip090)\" d=\"M 0 0 M1241.01 1531.47 L1241.01 1547.12 L1236.75 1547.12 L1236.75 1531.61 Q1236.75 1527.93 1235.31 1526.1 Q1233.88 1524.27 1231.01 1524.27 Q1227.56 1524.27 1225.57 1526.47 Q1223.58 1528.67 1223.58 1532.47 L1223.58 1547.12 L1219.3 1547.12 L1219.3 1521.19 L1223.58 1521.19 L1223.58 1525.22 Q1225.11 1522.88 1227.17 1521.73 Q1229.25 1520.57 1231.96 1520.57 Q1236.42 1520.57 1238.72 1523.35 Q1241.01 1526.1 1241.01 1531.47 Z\" fill=\"#000000\" fill-rule=\"evenodd\" fill-opacity=\"1\" /><path clip-path=\"url(#clip090)\" d=\"M 0 0 M1266.56 1525.13 L1266.56 1511.1 L1270.82 1511.1 L1270.82 1547.12 L1266.56 1547.12 L1266.56 1543.23 Q1265.22 1545.55 1263.16 1546.68 Q1261.12 1547.79 1258.25 1547.79 Q1253.55 1547.79 1250.59 1544.04 Q1247.65 1540.29 1247.65 1534.18 Q1247.65 1528.07 1250.59 1524.32 Q1253.55 1520.57 1258.25 1520.57 Q1261.12 1520.57 1263.16 1521.7 Q1265.22 1522.81 1266.56 1525.13 M1252.05 1534.18 Q1252.05 1538.88 1253.97 1541.56 Q1255.92 1544.23 1259.3 1544.23 Q1262.67 1544.23 1264.62 1541.56 Q1266.56 1538.88 1266.56 1534.18 Q1266.56 1529.48 1264.62 1526.82 Q1262.67 1524.13 1259.3 1524.13 Q1255.92 1524.13 1253.97 1526.82 Q1252.05 1529.48 1252.05 1534.18 Z\" fill=\"#000000\" fill-rule=\"evenodd\" fill-opacity=\"1\" /><path clip-path=\"url(#clip090)\" d=\"M 0 0 M1313.32 1522.19 L1313.32 1526.17 Q1311.52 1525.18 1309.69 1524.69 Q1307.88 1524.18 1306.03 1524.18 Q1301.89 1524.18 1299.6 1526.82 Q1297.3 1529.43 1297.3 1534.18 Q1297.3 1538.93 1299.6 1541.56 Q1301.89 1544.18 1306.03 1544.18 Q1307.88 1544.18 1309.69 1543.69 Q1311.52 1543.18 1313.32 1542.19 L1313.32 1546.12 Q1311.54 1546.96 1309.62 1547.37 Q1307.72 1547.79 1305.57 1547.79 Q1299.71 1547.79 1296.26 1544.11 Q1292.81 1540.43 1292.81 1534.18 Q1292.81 1527.84 1296.29 1524.2 Q1299.78 1520.57 1305.85 1520.57 Q1307.81 1520.57 1309.69 1520.99 Q1311.56 1521.38 1313.32 1522.19 Z\" fill=\"#000000\" fill-rule=\"evenodd\" fill-opacity=\"1\" /><path clip-path=\"url(#clip090)\" d=\"M 0 0 M1320.73 1511.1 L1324.99 1511.1 L1324.99 1547.12 L1320.73 1547.12 L1320.73 1511.1 Z\" fill=\"#000000\" fill-rule=\"evenodd\" fill-opacity=\"1\" /><path clip-path=\"url(#clip090)\" d=\"M 0 0 M1345.68 1534.09 Q1340.52 1534.09 1338.53 1535.27 Q1336.54 1536.45 1336.54 1539.3 Q1336.54 1541.56 1338.02 1542.91 Q1339.53 1544.23 1342.1 1544.23 Q1345.64 1544.23 1347.77 1541.73 Q1349.92 1539.2 1349.92 1535.04 L1349.92 1534.09 L1345.68 1534.09 M1354.18 1532.33 L1354.18 1547.12 L1349.92 1547.12 L1349.92 1543.18 Q1348.46 1545.55 1346.29 1546.68 Q1344.11 1547.79 1340.96 1547.79 Q1336.98 1547.79 1334.62 1545.57 Q1332.28 1543.32 1332.28 1539.57 Q1332.28 1535.2 1335.2 1532.98 Q1338.14 1530.75 1343.95 1530.75 L1349.92 1530.75 L1349.92 1530.34 Q1349.92 1527.4 1347.98 1525.8 Q1346.05 1524.18 1342.56 1524.18 Q1340.34 1524.18 1338.23 1524.71 Q1336.12 1525.24 1334.18 1526.31 L1334.18 1522.37 Q1336.52 1521.47 1338.72 1521.03 Q1340.92 1520.57 1343 1520.57 Q1348.62 1520.57 1351.4 1523.49 Q1354.18 1526.4 1354.18 1532.33 Z\" fill=\"#000000\" fill-rule=\"evenodd\" fill-opacity=\"1\" /><path clip-path=\"url(#clip090)\" d=\"M 0 0 M1379.48 1521.96 L1379.48 1525.99 Q1377.67 1525.06 1375.73 1524.6 Q1373.79 1524.13 1371.7 1524.13 Q1368.53 1524.13 1366.93 1525.11 Q1365.36 1526.08 1365.36 1528.02 Q1365.36 1529.5 1366.49 1530.36 Q1367.63 1531.19 1371.05 1531.96 L1372.51 1532.28 Q1377.05 1533.25 1378.95 1535.04 Q1380.87 1536.8 1380.87 1539.97 Q1380.87 1543.58 1378 1545.68 Q1375.15 1547.79 1370.15 1547.79 Q1368.07 1547.79 1365.8 1547.37 Q1363.55 1546.98 1361.05 1546.17 L1361.05 1541.77 Q1363.41 1543 1365.71 1543.62 Q1368 1544.23 1370.24 1544.23 Q1373.25 1544.23 1374.87 1543.21 Q1376.49 1542.17 1376.49 1540.29 Q1376.49 1538.56 1375.31 1537.63 Q1374.16 1536.7 1370.2 1535.85 L1368.72 1535.5 Q1364.76 1534.67 1363 1532.95 Q1361.24 1531.22 1361.24 1528.21 Q1361.24 1524.55 1363.83 1522.56 Q1366.42 1520.57 1371.19 1520.57 Q1373.55 1520.57 1375.64 1520.92 Q1377.72 1521.26 1379.48 1521.96 Z\" fill=\"#000000\" fill-rule=\"evenodd\" fill-opacity=\"1\" /><path clip-path=\"url(#clip090)\" d=\"M 0 0 M1404.18 1521.96 L1404.18 1525.99 Q1402.37 1525.06 1400.43 1524.6 Q1398.48 1524.13 1396.4 1524.13 Q1393.23 1524.13 1391.63 1525.11 Q1390.06 1526.08 1390.06 1528.02 Q1390.06 1529.5 1391.19 1530.36 Q1392.33 1531.19 1395.75 1531.96 L1397.21 1532.28 Q1401.75 1533.25 1403.65 1535.04 Q1405.57 1536.8 1405.57 1539.97 Q1405.57 1543.58 1402.7 1545.68 Q1399.85 1547.79 1394.85 1547.79 Q1392.77 1547.79 1390.5 1547.37 Q1388.25 1546.98 1385.75 1546.17 L1385.75 1541.77 Q1388.11 1543 1390.41 1543.62 Q1392.7 1544.23 1394.94 1544.23 Q1397.95 1544.23 1399.57 1543.21 Q1401.19 1542.17 1401.19 1540.29 Q1401.19 1538.56 1400.01 1537.63 Q1398.85 1536.7 1394.9 1535.85 L1393.41 1535.5 Q1389.46 1534.67 1387.7 1532.95 Q1385.94 1531.22 1385.94 1528.21 Q1385.94 1524.55 1388.53 1522.56 Q1391.12 1520.57 1395.89 1520.57 Q1398.25 1520.57 1400.34 1520.92 Q1402.42 1521.26 1404.18 1521.96 Z\" fill=\"#000000\" fill-rule=\"evenodd\" fill-opacity=\"1\" /><path clip-path=\"url(#clip090)\" d=\"M 0 0 M1826.99 1512.56 L1856.22 1512.56 L1856.22 1516.5 L1843.95 1516.5 L1843.95 1547.12 L1839.26 1547.12 L1839.26 1516.5 L1826.99 1516.5 L1826.99 1512.56 Z\" fill=\"#000000\" fill-rule=\"evenodd\" fill-opacity=\"1\" /><path clip-path=\"url(#clip090)\" d=\"M 0 0 M1882.1 1531.47 L1882.1 1547.12 L1877.84 1547.12 L1877.84 1531.61 Q1877.84 1527.93 1876.41 1526.1 Q1874.97 1524.27 1872.1 1524.27 Q1868.65 1524.27 1866.66 1526.47 Q1864.67 1528.67 1864.67 1532.47 L1864.67 1547.12 L1860.39 1547.12 L1860.39 1511.1 L1864.67 1511.1 L1864.67 1525.22 Q1866.2 1522.88 1868.26 1521.73 Q1870.34 1520.57 1873.05 1520.57 Q1877.52 1520.57 1879.81 1523.35 Q1882.1 1526.1 1882.1 1531.47 Z\" fill=\"#000000\" fill-rule=\"evenodd\" fill-opacity=\"1\" /><path clip-path=\"url(#clip090)\" d=\"M 0 0 M1890.6 1521.19 L1894.86 1521.19 L1894.86 1547.12 L1890.6 1547.12 L1890.6 1521.19 M1890.6 1511.1 L1894.86 1511.1 L1894.86 1516.5 L1890.6 1516.5 L1890.6 1511.1 Z\" fill=\"#000000\" fill-rule=\"evenodd\" fill-opacity=\"1\" /><path clip-path=\"url(#clip090)\" d=\"M 0 0 M1918.79 1525.18 Q1918.07 1524.76 1917.22 1524.57 Q1916.38 1524.37 1915.37 1524.37 Q1911.76 1524.37 1909.81 1526.73 Q1907.89 1529.06 1907.89 1533.46 L1907.89 1547.12 L1903.61 1547.12 L1903.61 1521.19 L1907.89 1521.19 L1907.89 1525.22 Q1909.23 1522.86 1911.38 1521.73 Q1913.54 1520.57 1916.62 1520.57 Q1917.06 1520.57 1917.59 1520.64 Q1918.12 1520.68 1918.77 1520.8 L1918.79 1525.18 Z\" fill=\"#000000\" fill-rule=\"evenodd\" fill-opacity=\"1\" /><path clip-path=\"url(#clip090)\" d=\"M 0 0 M1939.49 1525.13 L1939.49 1511.1 L1943.75 1511.1 L1943.75 1547.12 L1939.49 1547.12 L1939.49 1543.23 Q1938.14 1545.55 1936.08 1546.68 Q1934.05 1547.79 1931.18 1547.79 Q1926.48 1547.79 1923.51 1544.04 Q1920.57 1540.29 1920.57 1534.18 Q1920.57 1528.07 1923.51 1524.32 Q1926.48 1520.57 1931.18 1520.57 Q1934.05 1520.57 1936.08 1521.7 Q1938.14 1522.81 1939.49 1525.13 M1924.97 1534.18 Q1924.97 1538.88 1926.89 1541.56 Q1928.84 1544.23 1932.22 1544.23 Q1935.6 1544.23 1937.54 1541.56 Q1939.49 1538.88 1939.49 1534.18 Q1939.49 1529.48 1937.54 1526.82 Q1935.6 1524.13 1932.22 1524.13 Q1928.84 1524.13 1926.89 1526.82 Q1924.97 1529.48 1924.97 1534.18 Z\" fill=\"#000000\" fill-rule=\"evenodd\" fill-opacity=\"1\" /><path clip-path=\"url(#clip090)\" d=\"M 0 0 M1986.25 1522.19 L1986.25 1526.17 Q1984.44 1525.18 1982.61 1524.69 Q1980.81 1524.18 1978.95 1524.18 Q1974.81 1524.18 1972.52 1526.82 Q1970.23 1529.43 1970.23 1534.18 Q1970.23 1538.93 1972.52 1541.56 Q1974.81 1544.18 1978.95 1544.18 Q1980.81 1544.18 1982.61 1543.69 Q1984.44 1543.18 1986.25 1542.19 L1986.25 1546.12 Q1984.46 1546.96 1982.54 1547.37 Q1980.64 1547.79 1978.49 1547.79 Q1972.63 1547.79 1969.19 1544.11 Q1965.74 1540.43 1965.74 1534.18 Q1965.74 1527.84 1969.21 1524.2 Q1972.7 1520.57 1978.77 1520.57 Q1980.74 1520.57 1982.61 1520.99 Q1984.49 1521.38 1986.25 1522.19 Z\" fill=\"#000000\" fill-rule=\"evenodd\" fill-opacity=\"1\" /><path clip-path=\"url(#clip090)\" d=\"M 0 0 M1993.65 1511.1 L1997.91 1511.1 L1997.91 1547.12 L1993.65 1547.12 L1993.65 1511.1 Z\" fill=\"#000000\" fill-rule=\"evenodd\" fill-opacity=\"1\" /><path clip-path=\"url(#clip090)\" d=\"M 0 0 M2018.61 1534.09 Q2013.44 1534.09 2011.45 1535.27 Q2009.46 1536.45 2009.46 1539.3 Q2009.46 1541.56 2010.94 1542.91 Q2012.45 1544.23 2015.02 1544.23 Q2018.56 1544.23 2020.69 1541.73 Q2022.84 1539.2 2022.84 1535.04 L2022.84 1534.09 L2018.61 1534.09 M2027.1 1532.33 L2027.1 1547.12 L2022.84 1547.12 L2022.84 1543.18 Q2021.38 1545.55 2019.21 1546.68 Q2017.03 1547.79 2013.88 1547.79 Q2009.9 1547.79 2007.54 1545.57 Q2005.2 1543.32 2005.2 1539.57 Q2005.2 1535.2 2008.12 1532.98 Q2011.06 1530.75 2016.87 1530.75 L2022.84 1530.75 L2022.84 1530.34 Q2022.84 1527.4 2020.9 1525.8 Q2018.98 1524.18 2015.48 1524.18 Q2013.26 1524.18 2011.15 1524.71 Q2009.05 1525.24 2007.1 1526.31 L2007.1 1522.37 Q2009.44 1521.47 2011.64 1521.03 Q2013.84 1520.57 2015.92 1520.57 Q2021.55 1520.57 2024.32 1523.49 Q2027.1 1526.4 2027.1 1532.33 Z\" fill=\"#000000\" fill-rule=\"evenodd\" fill-opacity=\"1\" /><path clip-path=\"url(#clip090)\" d=\"M 0 0 M2052.4 1521.96 L2052.4 1525.99 Q2050.6 1525.06 2048.65 1524.6 Q2046.71 1524.13 2044.62 1524.13 Q2041.45 1524.13 2039.86 1525.11 Q2038.28 1526.08 2038.28 1528.02 Q2038.28 1529.5 2039.42 1530.36 Q2040.55 1531.19 2043.98 1531.96 L2045.43 1532.28 Q2049.97 1533.25 2051.87 1535.04 Q2053.79 1536.8 2053.79 1539.97 Q2053.79 1543.58 2050.92 1545.68 Q2048.07 1547.79 2043.07 1547.79 Q2040.99 1547.79 2038.72 1547.37 Q2036.48 1546.98 2033.98 1546.17 L2033.98 1541.77 Q2036.34 1543 2038.63 1543.62 Q2040.92 1544.23 2043.17 1544.23 Q2046.18 1544.23 2047.8 1543.21 Q2049.42 1542.17 2049.42 1540.29 Q2049.42 1538.56 2048.24 1537.63 Q2047.08 1536.7 2043.12 1535.85 L2041.64 1535.5 Q2037.68 1534.67 2035.92 1532.95 Q2034.16 1531.22 2034.16 1528.21 Q2034.16 1524.55 2036.75 1522.56 Q2039.35 1520.57 2044.12 1520.57 Q2046.48 1520.57 2048.56 1520.92 Q2050.64 1521.26 2052.4 1521.96 Z\" fill=\"#000000\" fill-rule=\"evenodd\" fill-opacity=\"1\" /><path clip-path=\"url(#clip090)\" d=\"M 0 0 M2077.1 1521.96 L2077.1 1525.99 Q2075.3 1525.06 2073.35 1524.6 Q2071.41 1524.13 2069.32 1524.13 Q2066.15 1524.13 2064.56 1525.11 Q2062.98 1526.08 2062.98 1528.02 Q2062.98 1529.5 2064.12 1530.36 Q2065.25 1531.19 2068.68 1531.96 L2070.13 1532.28 Q2074.67 1533.25 2076.57 1535.04 Q2078.49 1536.8 2078.49 1539.97 Q2078.49 1543.58 2075.62 1545.68 Q2072.77 1547.79 2067.77 1547.79 Q2065.69 1547.79 2063.42 1547.37 Q2061.18 1546.98 2058.68 1546.17 L2058.68 1541.77 Q2061.04 1543 2063.33 1543.62 Q2065.62 1544.23 2067.87 1544.23 Q2070.87 1544.23 2072.49 1543.21 Q2074.12 1542.17 2074.12 1540.29 Q2074.12 1538.56 2072.93 1537.63 Q2071.78 1536.7 2067.82 1535.85 L2066.34 1535.5 Q2062.38 1534.67 2060.62 1532.95 Q2058.86 1531.22 2058.86 1528.21 Q2058.86 1524.55 2061.45 1522.56 Q2064.05 1520.57 2068.81 1520.57 Q2071.18 1520.57 2073.26 1520.92 Q2075.34 1521.26 2077.1 1521.96 Z\" fill=\"#000000\" fill-rule=\"evenodd\" fill-opacity=\"1\" /><polyline clip-path=\"url(#clip092)\" style=\"stroke:#000000; stroke-width:2; stroke-opacity:0.1; fill:none\" points=\"\n",
       "  156.598,1447.87 2352.76,1447.87 \n",
       "  \"/>\n",
       "<polyline clip-path=\"url(#clip092)\" style=\"stroke:#000000; stroke-width:2; stroke-opacity:0.1; fill:none\" points=\"\n",
       "  156.598,1243.65 2352.76,1243.65 \n",
       "  \"/>\n",
       "<polyline clip-path=\"url(#clip092)\" style=\"stroke:#000000; stroke-width:2; stroke-opacity:0.1; fill:none\" points=\"\n",
       "  156.598,1039.43 2352.76,1039.43 \n",
       "  \"/>\n",
       "<polyline clip-path=\"url(#clip092)\" style=\"stroke:#000000; stroke-width:2; stroke-opacity:0.1; fill:none\" points=\"\n",
       "  156.598,835.215 2352.76,835.215 \n",
       "  \"/>\n",
       "<polyline clip-path=\"url(#clip092)\" style=\"stroke:#000000; stroke-width:2; stroke-opacity:0.1; fill:none\" points=\"\n",
       "  156.598,630.995 2352.76,630.995 \n",
       "  \"/>\n",
       "<polyline clip-path=\"url(#clip092)\" style=\"stroke:#000000; stroke-width:2; stroke-opacity:0.1; fill:none\" points=\"\n",
       "  156.598,426.776 2352.76,426.776 \n",
       "  \"/>\n",
       "<polyline clip-path=\"url(#clip092)\" style=\"stroke:#000000; stroke-width:2; stroke-opacity:0.1; fill:none\" points=\"\n",
       "  156.598,222.556 2352.76,222.556 \n",
       "  \"/>\n",
       "<polyline clip-path=\"url(#clip090)\" style=\"stroke:#000000; stroke-width:4; stroke-opacity:1; fill:none\" points=\"\n",
       "  156.598,1486.45 156.598,123.472 \n",
       "  \"/>\n",
       "<polyline clip-path=\"url(#clip090)\" style=\"stroke:#000000; stroke-width:4; stroke-opacity:1; fill:none\" points=\"\n",
       "  156.598,1447.87 182.952,1447.87 \n",
       "  \"/>\n",
       "<polyline clip-path=\"url(#clip090)\" style=\"stroke:#000000; stroke-width:4; stroke-opacity:1; fill:none\" points=\"\n",
       "  156.598,1243.65 182.952,1243.65 \n",
       "  \"/>\n",
       "<polyline clip-path=\"url(#clip090)\" style=\"stroke:#000000; stroke-width:4; stroke-opacity:1; fill:none\" points=\"\n",
       "  156.598,1039.43 182.952,1039.43 \n",
       "  \"/>\n",
       "<polyline clip-path=\"url(#clip090)\" style=\"stroke:#000000; stroke-width:4; stroke-opacity:1; fill:none\" points=\"\n",
       "  156.598,835.215 182.952,835.215 \n",
       "  \"/>\n",
       "<polyline clip-path=\"url(#clip090)\" style=\"stroke:#000000; stroke-width:4; stroke-opacity:1; fill:none\" points=\"\n",
       "  156.598,630.995 182.952,630.995 \n",
       "  \"/>\n",
       "<polyline clip-path=\"url(#clip090)\" style=\"stroke:#000000; stroke-width:4; stroke-opacity:1; fill:none\" points=\"\n",
       "  156.598,426.776 182.952,426.776 \n",
       "  \"/>\n",
       "<polyline clip-path=\"url(#clip090)\" style=\"stroke:#000000; stroke-width:4; stroke-opacity:1; fill:none\" points=\"\n",
       "  156.598,222.556 182.952,222.556 \n",
       "  \"/>\n",
       "<path clip-path=\"url(#clip090)\" d=\"M 0 0 M63.4226 1433.67 Q59.8115 1433.67 57.9828 1437.24 Q56.1773 1440.78 56.1773 1447.91 Q56.1773 1455.01 57.9828 1458.58 Q59.8115 1462.12 63.4226 1462.12 Q67.0569 1462.12 68.8624 1458.58 Q70.6911 1455.01 70.6911 1447.91 Q70.6911 1440.78 68.8624 1437.24 Q67.0569 1433.67 63.4226 1433.67 M63.4226 1429.97 Q69.2328 1429.97 72.2883 1434.57 Q75.367 1439.16 75.367 1447.91 Q75.367 1456.63 72.2883 1461.24 Q69.2328 1465.82 63.4226 1465.82 Q57.6125 1465.82 54.5338 1461.24 Q51.4782 1456.63 51.4782 1447.91 Q51.4782 1439.16 54.5338 1434.57 Q57.6125 1429.97 63.4226 1429.97 Z\" fill=\"#000000\" fill-rule=\"evenodd\" fill-opacity=\"1\" /><path clip-path=\"url(#clip090)\" d=\"M 0 0 M83.5845 1459.27 L88.4688 1459.27 L88.4688 1465.15 L83.5845 1465.15 L83.5845 1459.27 Z\" fill=\"#000000\" fill-rule=\"evenodd\" fill-opacity=\"1\" /><path clip-path=\"url(#clip090)\" d=\"M 0 0 M108.654 1433.67 Q105.043 1433.67 103.214 1437.24 Q101.409 1440.78 101.409 1447.91 Q101.409 1455.01 103.214 1458.58 Q105.043 1462.12 108.654 1462.12 Q112.288 1462.12 114.094 1458.58 Q115.922 1455.01 115.922 1447.91 Q115.922 1440.78 114.094 1437.24 Q112.288 1433.67 108.654 1433.67 M108.654 1429.97 Q114.464 1429.97 117.52 1434.57 Q120.598 1439.16 120.598 1447.91 Q120.598 1456.63 117.52 1461.24 Q114.464 1465.82 108.654 1465.82 Q102.844 1465.82 99.765 1461.24 Q96.7095 1456.63 96.7095 1447.91 Q96.7095 1439.16 99.765 1434.57 Q102.844 1429.97 108.654 1429.97 Z\" fill=\"#000000\" fill-rule=\"evenodd\" fill-opacity=\"1\" /><path clip-path=\"url(#clip090)\" d=\"M 0 0 M64.6495 1229.45 Q61.0384 1229.45 59.2097 1233.02 Q57.4041 1236.56 57.4041 1243.69 Q57.4041 1250.79 59.2097 1254.36 Q61.0384 1257.9 64.6495 1257.9 Q68.2837 1257.9 70.0892 1254.36 Q71.9179 1250.79 71.9179 1243.69 Q71.9179 1236.56 70.0892 1233.02 Q68.2837 1229.45 64.6495 1229.45 M64.6495 1225.75 Q70.4596 1225.75 73.5152 1230.36 Q76.5938 1234.94 76.5938 1243.69 Q76.5938 1252.42 73.5152 1257.02 Q70.4596 1261.6 64.6495 1261.6 Q58.8393 1261.6 55.7606 1257.02 Q52.7051 1252.42 52.7051 1243.69 Q52.7051 1234.94 55.7606 1230.36 Q58.8393 1225.75 64.6495 1225.75 Z\" fill=\"#000000\" fill-rule=\"evenodd\" fill-opacity=\"1\" /><path clip-path=\"url(#clip090)\" d=\"M 0 0 M84.8114 1255.05 L89.6956 1255.05 L89.6956 1260.93 L84.8114 1260.93 L84.8114 1255.05 Z\" fill=\"#000000\" fill-rule=\"evenodd\" fill-opacity=\"1\" /><path clip-path=\"url(#clip090)\" d=\"M 0 0 M100.691 1257 L108.33 1257 L108.33 1230.63 L100.02 1232.3 L100.02 1228.04 L108.283 1226.37 L112.959 1226.37 L112.959 1257 L120.598 1257 L120.598 1260.93 L100.691 1260.93 L100.691 1257 Z\" fill=\"#000000\" fill-rule=\"evenodd\" fill-opacity=\"1\" /><path clip-path=\"url(#clip090)\" d=\"M 0 0 M65.0198 1025.23 Q61.4087 1025.23 59.58 1028.8 Q57.7745 1032.34 57.7745 1039.47 Q57.7745 1046.58 59.58 1050.14 Q61.4087 1053.68 65.0198 1053.68 Q68.6541 1053.68 70.4596 1050.14 Q72.2883 1046.58 72.2883 1039.47 Q72.2883 1032.34 70.4596 1028.8 Q68.6541 1025.23 65.0198 1025.23 M65.0198 1021.53 Q70.83 1021.53 73.8855 1026.14 Q76.9642 1030.72 76.9642 1039.47 Q76.9642 1048.2 73.8855 1052.8 Q70.83 1057.39 65.0198 1057.39 Q59.2097 1057.39 56.131 1052.8 Q53.0754 1048.2 53.0754 1039.47 Q53.0754 1030.72 56.131 1026.14 Q59.2097 1021.53 65.0198 1021.53 Z\" fill=\"#000000\" fill-rule=\"evenodd\" fill-opacity=\"1\" /><path clip-path=\"url(#clip090)\" d=\"M 0 0 M85.1818 1050.83 L90.066 1050.83 L90.066 1056.71 L85.1818 1056.71 L85.1818 1050.83 Z\" fill=\"#000000\" fill-rule=\"evenodd\" fill-opacity=\"1\" /><path clip-path=\"url(#clip090)\" d=\"M 0 0 M104.279 1052.78 L120.598 1052.78 L120.598 1056.71 L98.6539 1056.71 L98.6539 1052.78 Q101.316 1050.02 105.899 1045.39 Q110.506 1040.74 111.686 1039.4 Q113.932 1036.88 114.811 1035.14 Q115.714 1033.38 115.714 1031.69 Q115.714 1028.94 113.77 1027.2 Q111.848 1025.46 108.746 1025.46 Q106.547 1025.46 104.094 1026.23 Q101.663 1026.99 98.8854 1028.54 L98.8854 1023.82 Q101.709 1022.69 104.163 1022.11 Q106.617 1021.53 108.654 1021.53 Q114.024 1021.53 117.219 1024.21 Q120.413 1026.9 120.413 1031.39 Q120.413 1033.52 119.603 1035.44 Q118.816 1037.34 116.709 1039.93 Q116.131 1040.6 113.029 1043.82 Q109.927 1047.02 104.279 1052.78 Z\" fill=\"#000000\" fill-rule=\"evenodd\" fill-opacity=\"1\" /><path clip-path=\"url(#clip090)\" d=\"M 0 0 M64.0708 821.013 Q60.4597 821.013 58.631 824.578 Q56.8254 828.12 56.8254 835.249 Q56.8254 842.356 58.631 845.921 Q60.4597 849.462 64.0708 849.462 Q67.705 849.462 69.5105 845.921 Q71.3392 842.356 71.3392 835.249 Q71.3392 828.12 69.5105 824.578 Q67.705 821.013 64.0708 821.013 M64.0708 817.31 Q69.8809 817.31 72.9365 821.916 Q76.0151 826.5 76.0151 835.249 Q76.0151 843.976 72.9365 848.583 Q69.8809 853.166 64.0708 853.166 Q58.2606 853.166 55.1819 848.583 Q52.1264 843.976 52.1264 835.249 Q52.1264 826.5 55.1819 821.916 Q58.2606 817.31 64.0708 817.31 Z\" fill=\"#000000\" fill-rule=\"evenodd\" fill-opacity=\"1\" /><path clip-path=\"url(#clip090)\" d=\"M 0 0 M84.2327 846.615 L89.1169 846.615 L89.1169 852.495 L84.2327 852.495 L84.2327 846.615 Z\" fill=\"#000000\" fill-rule=\"evenodd\" fill-opacity=\"1\" /><path clip-path=\"url(#clip090)\" d=\"M 0 0 M113.469 833.861 Q116.825 834.578 118.7 836.847 Q120.598 839.115 120.598 842.448 Q120.598 847.564 117.08 850.365 Q113.561 853.166 107.08 853.166 Q104.904 853.166 102.589 852.726 Q100.297 852.31 97.8437 851.453 L97.8437 846.939 Q99.7882 848.073 102.103 848.652 Q104.418 849.231 106.941 849.231 Q111.339 849.231 113.631 847.495 Q115.945 845.759 115.945 842.448 Q115.945 839.393 113.793 837.68 Q111.663 835.944 107.844 835.944 L103.816 835.944 L103.816 832.101 L108.029 832.101 Q111.478 832.101 113.307 830.736 Q115.135 829.347 115.135 826.754 Q115.135 824.092 113.237 822.68 Q111.362 821.245 107.844 821.245 Q105.922 821.245 103.723 821.662 Q101.524 822.078 98.8854 822.958 L98.8854 818.791 Q101.547 818.05 103.862 817.68 Q106.2 817.31 108.26 817.31 Q113.584 817.31 116.686 819.74 Q119.788 822.148 119.788 826.268 Q119.788 829.138 118.145 831.129 Q116.501 833.097 113.469 833.861 Z\" fill=\"#000000\" fill-rule=\"evenodd\" fill-opacity=\"1\" /><path clip-path=\"url(#clip090)\" d=\"M 0 0 M62.9365 616.794 Q59.3254 616.794 57.4967 620.359 Q55.6912 623.9 55.6912 631.03 Q55.6912 638.136 57.4967 641.701 Q59.3254 645.243 62.9365 645.243 Q66.5707 645.243 68.3763 641.701 Q70.205 638.136 70.205 631.03 Q70.205 623.9 68.3763 620.359 Q66.5707 616.794 62.9365 616.794 M62.9365 613.09 Q68.7467 613.09 71.8022 617.697 Q74.8809 622.28 74.8809 631.03 Q74.8809 639.757 71.8022 644.363 Q68.7467 648.947 62.9365 648.947 Q57.1264 648.947 54.0477 644.363 Q50.9921 639.757 50.9921 631.03 Q50.9921 622.28 54.0477 617.697 Q57.1264 613.09 62.9365 613.09 Z\" fill=\"#000000\" fill-rule=\"evenodd\" fill-opacity=\"1\" /><path clip-path=\"url(#clip090)\" d=\"M 0 0 M83.0984 642.396 L87.9827 642.396 L87.9827 648.275 L83.0984 648.275 L83.0984 642.396 Z\" fill=\"#000000\" fill-rule=\"evenodd\" fill-opacity=\"1\" /><path clip-path=\"url(#clip090)\" d=\"M 0 0 M111.015 617.789 L99.2095 636.238 L111.015 636.238 L111.015 617.789 M109.788 613.715 L115.668 613.715 L115.668 636.238 L120.598 636.238 L120.598 640.127 L115.668 640.127 L115.668 648.275 L111.015 648.275 L111.015 640.127 L95.4132 640.127 L95.4132 635.613 L109.788 613.715 Z\" fill=\"#000000\" fill-rule=\"evenodd\" fill-opacity=\"1\" /><path clip-path=\"url(#clip090)\" d=\"M 0 0 M64.418 412.575 Q60.8069 412.575 58.9782 416.139 Q57.1726 419.681 57.1726 426.811 Q57.1726 433.917 58.9782 437.482 Q60.8069 441.023 64.418 441.023 Q68.0522 441.023 69.8578 437.482 Q71.6865 433.917 71.6865 426.811 Q71.6865 419.681 69.8578 416.139 Q68.0522 412.575 64.418 412.575 M64.418 408.871 Q70.2281 408.871 73.2837 413.477 Q76.3624 418.061 76.3624 426.811 Q76.3624 435.537 73.2837 440.144 Q70.2281 444.727 64.418 444.727 Q58.6078 444.727 55.5291 440.144 Q52.4736 435.537 52.4736 426.811 Q52.4736 418.061 55.5291 413.477 Q58.6078 408.871 64.418 408.871 Z\" fill=\"#000000\" fill-rule=\"evenodd\" fill-opacity=\"1\" /><path clip-path=\"url(#clip090)\" d=\"M 0 0 M84.5799 438.176 L89.4641 438.176 L89.4641 444.056 L84.5799 444.056 L84.5799 438.176 Z\" fill=\"#000000\" fill-rule=\"evenodd\" fill-opacity=\"1\" /><path clip-path=\"url(#clip090)\" d=\"M 0 0 M99.6956 409.496 L118.052 409.496 L118.052 413.431 L103.978 413.431 L103.978 421.903 Q104.996 421.556 106.015 421.394 Q107.033 421.209 108.052 421.209 Q113.839 421.209 117.219 424.38 Q120.598 427.551 120.598 432.968 Q120.598 438.547 117.126 441.648 Q113.654 444.727 107.334 444.727 Q105.159 444.727 102.89 444.357 Q100.645 443.986 98.2372 443.246 L98.2372 438.547 Q100.321 439.681 102.543 440.236 Q104.765 440.792 107.242 440.792 Q111.246 440.792 113.584 438.685 Q115.922 436.579 115.922 432.968 Q115.922 429.357 113.584 427.25 Q111.246 425.144 107.242 425.144 Q105.367 425.144 103.492 425.561 Q101.64 425.977 99.6956 426.857 L99.6956 409.496 Z\" fill=\"#000000\" fill-rule=\"evenodd\" fill-opacity=\"1\" /><path clip-path=\"url(#clip090)\" d=\"M 0 0 M63.2606 208.355 Q59.6495 208.355 57.8208 211.92 Q56.0152 215.462 56.0152 222.591 Q56.0152 229.698 57.8208 233.262 Q59.6495 236.804 63.2606 236.804 Q66.8948 236.804 68.7004 233.262 Q70.5291 229.698 70.5291 222.591 Q70.5291 215.462 68.7004 211.92 Q66.8948 208.355 63.2606 208.355 M63.2606 204.651 Q69.0707 204.651 72.1263 209.258 Q75.205 213.841 75.205 222.591 Q75.205 231.318 72.1263 235.924 Q69.0707 240.508 63.2606 240.508 Q57.4504 240.508 54.3717 235.924 Q51.3162 231.318 51.3162 222.591 Q51.3162 213.841 54.3717 209.258 Q57.4504 204.651 63.2606 204.651 Z\" fill=\"#000000\" fill-rule=\"evenodd\" fill-opacity=\"1\" /><path clip-path=\"url(#clip090)\" d=\"M 0 0 M83.4225 233.957 L88.3067 233.957 L88.3067 239.836 L83.4225 239.836 L83.4225 233.957 Z\" fill=\"#000000\" fill-rule=\"evenodd\" fill-opacity=\"1\" /><path clip-path=\"url(#clip090)\" d=\"M 0 0 M109.071 220.693 Q105.922 220.693 104.071 222.846 Q102.242 224.998 102.242 228.748 Q102.242 232.475 104.071 234.651 Q105.922 236.804 109.071 236.804 Q112.219 236.804 114.047 234.651 Q115.899 232.475 115.899 228.748 Q115.899 224.998 114.047 222.846 Q112.219 220.693 109.071 220.693 M118.353 206.04 L118.353 210.299 Q116.594 209.466 114.788 209.026 Q113.006 208.587 111.246 208.587 Q106.617 208.587 104.163 211.712 Q101.733 214.837 101.385 221.156 Q102.751 219.142 104.811 218.077 Q106.871 216.989 109.348 216.989 Q114.557 216.989 117.566 220.161 Q120.598 223.309 120.598 228.748 Q120.598 234.073 117.45 237.29 Q114.302 240.508 109.071 240.508 Q103.075 240.508 99.9039 235.924 Q96.7326 231.318 96.7326 222.591 Q96.7326 214.397 100.621 209.536 Q104.51 204.651 111.061 204.651 Q112.82 204.651 114.603 204.999 Q116.408 205.346 118.353 206.04 Z\" fill=\"#000000\" fill-rule=\"evenodd\" fill-opacity=\"1\" /><path clip-path=\"url(#clip090)\" d=\"M 0 0 M835.429 14.0809 L835.429 22.0612 Q830.77 19.8332 826.638 18.7395 Q822.506 17.6457 818.658 17.6457 Q811.974 17.6457 808.328 20.2383 Q804.723 22.8309 804.723 27.611 Q804.723 31.6214 807.113 33.6873 Q809.543 35.7128 816.268 36.9686 L821.21 37.9813 Q830.365 39.7232 834.7 44.1387 Q839.075 48.5136 839.075 55.8863 Q839.075 64.6767 833.16 69.2137 Q827.286 73.7508 815.903 73.7508 Q811.609 73.7508 806.748 72.7785 Q801.928 71.8063 796.743 69.9024 L796.743 61.4765 Q801.725 64.2716 806.505 65.6895 Q811.285 67.1073 815.903 67.1073 Q822.911 67.1073 826.719 64.3527 Q830.527 61.598 830.527 56.4939 Q830.527 52.0379 827.773 49.5264 Q825.058 47.0148 818.82 45.759 L813.837 44.7868 Q804.682 42.9639 800.591 39.075 Q796.5 35.1862 796.5 28.2591 Q796.5 20.2383 802.13 15.6203 Q807.802 11.0023 817.726 11.0023 Q821.98 11.0023 826.395 11.7719 Q830.811 12.5416 835.429 14.0809 Z\" fill=\"#000000\" fill-rule=\"evenodd\" fill-opacity=\"1\" /><path clip-path=\"url(#clip090)\" d=\"M 0 0 M850.741 54.671 L850.741 27.2059 L858.195 27.2059 L858.195 54.3874 Q858.195 60.8284 860.706 64.0691 Q863.218 67.2693 868.241 67.2693 Q874.277 67.2693 877.761 63.421 Q881.285 59.5726 881.285 52.9291 L881.285 27.2059 L888.739 27.2059 L888.739 72.576 L881.285 72.576 L881.285 65.6084 Q878.571 69.7404 874.966 71.7658 Q871.401 73.7508 866.661 73.7508 Q858.843 73.7508 854.792 68.8897 Q850.741 64.0286 850.741 54.671 M869.497 26.1121 L869.497 26.1121 Z\" fill=\"#000000\" fill-rule=\"evenodd\" fill-opacity=\"1\" /><path clip-path=\"url(#clip090)\" d=\"M 0 0 M930.382 34.1734 Q929.126 33.4443 927.627 33.1202 Q926.169 32.7556 924.387 32.7556 Q918.067 32.7556 914.664 36.8875 Q911.302 40.9789 911.302 48.6757 L911.302 72.576 L903.808 72.576 L903.808 27.2059 L911.302 27.2059 L911.302 34.2544 Q913.652 30.1225 917.419 28.1376 Q921.186 26.1121 926.574 26.1121 Q927.344 26.1121 928.275 26.2337 Q929.207 26.3147 930.341 26.5172 L930.382 34.1734 Z\" fill=\"#000000\" fill-rule=\"evenodd\" fill-opacity=\"1\" /><path clip-path=\"url(#clip090)\" d=\"M 0 0 M932.853 27.2059 L940.752 27.2059 L954.93 65.2844 L969.109 27.2059 L977.008 27.2059 L959.994 72.576 L949.867 72.576 L932.853 27.2059 Z\" fill=\"#000000\" fill-rule=\"evenodd\" fill-opacity=\"1\" /><path clip-path=\"url(#clip090)\" d=\"M 0 0 M987.297 27.2059 L994.751 27.2059 L994.751 72.576 L987.297 72.576 L987.297 27.2059 M987.297 9.54393 L994.751 9.54393 L994.751 18.9825 L987.297 18.9825 L987.297 9.54393 Z\" fill=\"#000000\" fill-rule=\"evenodd\" fill-opacity=\"1\" /><path clip-path=\"url(#clip090)\" d=\"M 0 0 M1005 27.2059 L1012.9 27.2059 L1027.08 65.2844 L1041.26 27.2059 L1049.15 27.2059 L1032.14 72.576 L1022.01 72.576 L1005 27.2059 Z\" fill=\"#000000\" fill-rule=\"evenodd\" fill-opacity=\"1\" /><path clip-path=\"url(#clip090)\" d=\"M 0 0 M1080.06 49.7694 Q1071.03 49.7694 1067.55 51.8354 Q1064.06 53.9013 1064.06 58.8839 Q1064.06 62.8538 1066.65 65.2034 Q1069.29 67.5124 1073.78 67.5124 Q1079.98 67.5124 1083.71 63.1374 Q1087.48 58.7219 1087.48 51.4303 L1087.48 49.7694 L1080.06 49.7694 M1094.93 46.6907 L1094.93 72.576 L1087.48 72.576 L1087.48 65.6895 Q1084.92 69.8214 1081.12 71.8063 Q1077.31 73.7508 1071.8 73.7508 Q1064.83 73.7508 1060.7 69.8619 Q1056.61 65.9325 1056.61 59.3701 Q1056.61 51.7138 1061.71 47.825 Q1066.86 43.9361 1077.02 43.9361 L1087.48 43.9361 L1087.48 43.2069 Q1087.48 38.0623 1084.07 35.2672 Q1080.71 32.4315 1074.59 32.4315 Q1070.71 32.4315 1067.02 33.3632 Q1063.33 34.295 1059.93 36.1584 L1059.93 29.2718 Q1064.02 27.692 1067.87 26.9223 Q1071.72 26.1121 1075.36 26.1121 Q1085.21 26.1121 1090.07 31.2163 Q1094.93 36.3204 1094.93 46.6907 Z\" fill=\"#000000\" fill-rule=\"evenodd\" fill-opacity=\"1\" /><path clip-path=\"url(#clip090)\" d=\"M 0 0 M1110.28 9.54393 L1117.74 9.54393 L1117.74 72.576 L1110.28 72.576 L1110.28 9.54393 Z\" fill=\"#000000\" fill-rule=\"evenodd\" fill-opacity=\"1\" /><path clip-path=\"url(#clip090)\" d=\"M 0 0 M1185.99 34.1734 Q1184.74 33.4443 1183.24 33.1202 Q1181.78 32.7556 1180 32.7556 Q1173.68 32.7556 1170.28 36.8875 Q1166.91 40.9789 1166.91 48.6757 L1166.91 72.576 L1159.42 72.576 L1159.42 27.2059 L1166.91 27.2059 L1166.91 34.2544 Q1169.26 30.1225 1173.03 28.1376 Q1176.8 26.1121 1182.19 26.1121 Q1182.96 26.1121 1183.89 26.2337 Q1184.82 26.3147 1185.95 26.5172 L1185.99 34.1734 Z\" fill=\"#000000\" fill-rule=\"evenodd\" fill-opacity=\"1\" /><path clip-path=\"url(#clip090)\" d=\"M 0 0 M1214.43 49.7694 Q1205.4 49.7694 1201.91 51.8354 Q1198.43 53.9013 1198.43 58.8839 Q1198.43 62.8538 1201.02 65.2034 Q1203.66 67.5124 1208.15 67.5124 Q1214.35 67.5124 1218.08 63.1374 Q1221.84 58.7219 1221.84 51.4303 L1221.84 49.7694 L1214.43 49.7694 M1229.3 46.6907 L1229.3 72.576 L1221.84 72.576 L1221.84 65.6895 Q1219.29 69.8214 1215.48 71.8063 Q1211.68 73.7508 1206.17 73.7508 Q1199.2 73.7508 1195.07 69.8619 Q1190.98 65.9325 1190.98 59.3701 Q1190.98 51.7138 1196.08 47.825 Q1201.23 43.9361 1211.39 43.9361 L1221.84 43.9361 L1221.84 43.2069 Q1221.84 38.0623 1218.44 35.2672 Q1215.08 32.4315 1208.96 32.4315 Q1205.07 32.4315 1201.39 33.3632 Q1197.7 34.295 1194.3 36.1584 L1194.3 29.2718 Q1198.39 27.692 1202.24 26.9223 Q1206.09 26.1121 1209.73 26.1121 Q1219.58 26.1121 1224.44 31.2163 Q1229.3 36.3204 1229.3 46.6907 Z\" fill=\"#000000\" fill-rule=\"evenodd\" fill-opacity=\"1\" /><path clip-path=\"url(#clip090)\" d=\"M 0 0 M1252.02 14.324 L1252.02 27.2059 L1267.38 27.2059 L1267.38 32.9987 L1252.02 32.9987 L1252.02 57.6282 Q1252.02 63.1779 1253.52 64.7578 Q1255.06 66.3376 1259.72 66.3376 L1267.38 66.3376 L1267.38 72.576 L1259.72 72.576 Q1251.09 72.576 1247.81 69.3758 Q1244.53 66.1351 1244.53 57.6282 L1244.53 32.9987 L1239.06 32.9987 L1239.06 27.2059 L1244.53 27.2059 L1244.53 14.324 L1252.02 14.324 Z\" fill=\"#000000\" fill-rule=\"evenodd\" fill-opacity=\"1\" /><path clip-path=\"url(#clip090)\" d=\"M 0 0 M1315.99 48.0275 L1315.99 51.6733 L1281.72 51.6733 Q1282.2 59.3701 1286.33 63.421 Q1290.51 67.4314 1297.92 67.4314 Q1302.21 67.4314 1306.22 66.3781 Q1310.28 65.3249 1314.25 63.2184 L1314.25 70.267 Q1310.24 71.9684 1306.02 72.8596 Q1301.81 73.7508 1297.47 73.7508 Q1286.62 73.7508 1280.26 67.4314 Q1273.94 61.1119 1273.94 50.3365 Q1273.94 39.1965 1279.93 32.6746 Q1285.97 26.1121 1296.18 26.1121 Q1305.33 26.1121 1310.64 32.0264 Q1315.99 37.9003 1315.99 48.0275 M1308.53 45.84 Q1308.45 39.7232 1305.09 36.0774 Q1301.77 32.4315 1296.26 32.4315 Q1290.02 32.4315 1286.25 35.9558 Q1282.53 39.4801 1281.96 45.8805 L1308.53 45.84 Z\" fill=\"#000000\" fill-rule=\"evenodd\" fill-opacity=\"1\" /><path clip-path=\"url(#clip090)\" d=\"M 0 0 M1361.8 65.7705 L1361.8 89.8329 L1354.31 89.8329 L1354.31 27.2059 L1361.8 27.2059 L1361.8 34.0924 Q1364.15 30.0415 1367.72 28.0971 Q1371.32 26.1121 1376.31 26.1121 Q1384.57 26.1121 1389.71 32.6746 Q1394.9 39.2371 1394.9 49.9314 Q1394.9 60.6258 1389.71 67.1883 Q1384.57 73.7508 1376.31 73.7508 Q1371.32 73.7508 1367.72 71.8063 Q1364.15 69.8214 1361.8 65.7705 M1387.16 49.9314 Q1387.16 41.7081 1383.76 37.0496 Q1380.4 32.3505 1374.48 32.3505 Q1368.57 32.3505 1365.17 37.0496 Q1361.8 41.7081 1361.8 49.9314 Q1361.8 58.1548 1365.17 62.8538 Q1368.57 67.5124 1374.48 67.5124 Q1380.4 67.5124 1383.76 62.8538 Q1387.16 58.1548 1387.16 49.9314 Z\" fill=\"#000000\" fill-rule=\"evenodd\" fill-opacity=\"1\" /><path clip-path=\"url(#clip090)\" d=\"M 0 0 M1446.06 48.0275 L1446.06 51.6733 L1411.79 51.6733 Q1412.28 59.3701 1416.41 63.421 Q1420.58 67.4314 1428 67.4314 Q1432.29 67.4314 1436.3 66.3781 Q1440.35 65.3249 1444.32 63.2184 L1444.32 70.267 Q1440.31 71.9684 1436.1 72.8596 Q1431.88 73.7508 1427.55 73.7508 Q1416.69 73.7508 1410.33 67.4314 Q1404.01 61.1119 1404.01 50.3365 Q1404.01 39.1965 1410.01 32.6746 Q1416.04 26.1121 1426.25 26.1121 Q1435.41 26.1121 1440.71 32.0264 Q1446.06 37.9003 1446.06 48.0275 M1438.61 45.84 Q1438.53 39.7232 1435.17 36.0774 Q1431.84 32.4315 1426.33 32.4315 Q1420.1 32.4315 1416.33 35.9558 Q1412.6 39.4801 1412.03 45.8805 L1438.61 45.84 Z\" fill=\"#000000\" fill-rule=\"evenodd\" fill-opacity=\"1\" /><path clip-path=\"url(#clip090)\" d=\"M 0 0 M1484.59 34.1734 Q1483.33 33.4443 1481.83 33.1202 Q1480.37 32.7556 1478.59 32.7556 Q1472.27 32.7556 1468.87 36.8875 Q1465.51 40.9789 1465.51 48.6757 L1465.51 72.576 L1458.01 72.576 L1458.01 27.2059 L1465.51 27.2059 L1465.51 34.2544 Q1467.86 30.1225 1471.62 28.1376 Q1475.39 26.1121 1480.78 26.1121 Q1481.55 26.1121 1482.48 26.2337 Q1483.41 26.3147 1484.55 26.5172 L1484.59 34.1734 Z\" fill=\"#000000\" fill-rule=\"evenodd\" fill-opacity=\"1\" /><path clip-path=\"url(#clip090)\" d=\"M 0 0 M1551.43 28.9478 L1551.43 35.9153 Q1548.27 34.1734 1545.07 33.3227 Q1541.91 32.4315 1538.67 32.4315 Q1531.41 32.4315 1527.4 37.0496 Q1523.39 41.6271 1523.39 49.9314 Q1523.39 58.2358 1527.4 62.8538 Q1531.41 67.4314 1538.67 67.4314 Q1541.91 67.4314 1545.07 66.5807 Q1548.27 65.6895 1551.43 63.9476 L1551.43 70.8341 Q1548.31 72.2924 1544.94 73.0216 Q1541.62 73.7508 1537.86 73.7508 Q1527.61 73.7508 1521.57 67.3098 Q1515.54 60.8689 1515.54 49.9314 Q1515.54 38.832 1521.61 32.472 Q1527.73 26.1121 1538.34 26.1121 Q1541.78 26.1121 1545.07 26.8413 Q1548.35 27.5299 1551.43 28.9478 Z\" fill=\"#000000\" fill-rule=\"evenodd\" fill-opacity=\"1\" /><path clip-path=\"url(#clip090)\" d=\"M 0 0 M1564.39 9.54393 L1571.84 9.54393 L1571.84 72.576 L1564.39 72.576 L1564.39 9.54393 Z\" fill=\"#000000\" fill-rule=\"evenodd\" fill-opacity=\"1\" /><path clip-path=\"url(#clip090)\" d=\"M 0 0 M1608.06 49.7694 Q1599.02 49.7694 1595.54 51.8354 Q1592.06 53.9013 1592.06 58.8839 Q1592.06 62.8538 1594.65 65.2034 Q1597.28 67.5124 1601.78 67.5124 Q1607.98 67.5124 1611.7 63.1374 Q1615.47 58.7219 1615.47 51.4303 L1615.47 49.7694 L1608.06 49.7694 M1622.92 46.6907 L1622.92 72.576 L1615.47 72.576 L1615.47 65.6895 Q1612.92 69.8214 1609.11 71.8063 Q1605.3 73.7508 1599.79 73.7508 Q1592.83 73.7508 1588.69 69.8619 Q1584.6 65.9325 1584.6 59.3701 Q1584.6 51.7138 1589.71 47.825 Q1594.85 43.9361 1605.02 43.9361 L1615.47 43.9361 L1615.47 43.2069 Q1615.47 38.0623 1612.07 35.2672 Q1608.71 32.4315 1602.59 32.4315 Q1598.7 32.4315 1595.01 33.3632 Q1591.33 34.295 1587.92 36.1584 L1587.92 29.2718 Q1592.02 27.692 1595.86 26.9223 Q1599.71 26.1121 1603.36 26.1121 Q1613.2 26.1121 1618.06 31.2163 Q1622.92 36.3204 1622.92 46.6907 Z\" fill=\"#000000\" fill-rule=\"evenodd\" fill-opacity=\"1\" /><path clip-path=\"url(#clip090)\" d=\"M 0 0 M1667.2 28.5427 L1667.2 35.5912 Q1664.04 33.9709 1660.64 33.1607 Q1657.24 32.3505 1653.59 32.3505 Q1648.04 32.3505 1645.25 34.0519 Q1642.49 35.7533 1642.49 39.156 Q1642.49 41.7486 1644.48 43.2475 Q1646.46 44.7058 1652.46 46.0426 L1655.01 46.6097 Q1662.95 48.3111 1666.27 51.4303 Q1669.63 54.509 1669.63 60.0587 Q1669.63 66.3781 1664.61 70.0644 Q1659.63 73.7508 1650.88 73.7508 Q1647.23 73.7508 1643.26 73.0216 Q1639.33 72.3329 1634.96 70.9151 L1634.96 63.2184 Q1639.09 65.3654 1643.1 66.4591 Q1647.11 67.5124 1651.04 67.5124 Q1656.3 67.5124 1659.14 65.73 Q1661.98 63.9071 1661.98 60.6258 Q1661.98 57.5877 1659.91 55.9673 Q1657.88 54.3469 1650.96 52.8481 L1648.36 52.2405 Q1641.44 50.7821 1638.36 47.7845 Q1635.28 44.7463 1635.28 39.4801 Q1635.28 33.0797 1639.82 29.5959 Q1644.35 26.1121 1652.7 26.1121 Q1656.83 26.1121 1660.48 26.7198 Q1664.12 27.3274 1667.2 28.5427 Z\" fill=\"#000000\" fill-rule=\"evenodd\" fill-opacity=\"1\" /><path clip-path=\"url(#clip090)\" d=\"M 0 0 M1710.42 28.5427 L1710.42 35.5912 Q1707.26 33.9709 1703.86 33.1607 Q1700.46 32.3505 1696.81 32.3505 Q1691.26 32.3505 1688.47 34.0519 Q1685.71 35.7533 1685.71 39.156 Q1685.71 41.7486 1687.7 43.2475 Q1689.68 44.7058 1695.68 46.0426 L1698.23 46.6097 Q1706.17 48.3111 1709.49 51.4303 Q1712.85 54.509 1712.85 60.0587 Q1712.85 66.3781 1707.83 70.0644 Q1702.85 73.7508 1694.1 73.7508 Q1690.45 73.7508 1686.48 73.0216 Q1682.55 72.3329 1678.18 70.9151 L1678.18 63.2184 Q1682.31 65.3654 1686.32 66.4591 Q1690.33 67.5124 1694.26 67.5124 Q1699.53 67.5124 1702.36 65.73 Q1705.2 63.9071 1705.2 60.6258 Q1705.2 57.5877 1703.13 55.9673 Q1701.11 54.3469 1694.18 52.8481 L1691.59 52.2405 Q1684.66 50.7821 1681.58 47.7845 Q1678.5 44.7463 1678.5 39.4801 Q1678.5 33.0797 1683.04 29.5959 Q1687.58 26.1121 1695.92 26.1121 Q1700.05 26.1121 1703.7 26.7198 Q1707.35 27.3274 1710.42 28.5427 Z\" fill=\"#000000\" fill-rule=\"evenodd\" fill-opacity=\"1\" /><path clip-path=\"url(#clip092)\" d=\"\n",
       "M277.391 162.047 L277.391 1447.87 L835.84 1447.87 L835.84 162.047 L277.391 162.047 L277.391 162.047  Z\n",
       "  \" fill=\"#009af9\" fill-rule=\"evenodd\" fill-opacity=\"1\"/>\n",
       "<polyline clip-path=\"url(#clip092)\" style=\"stroke:#000000; stroke-width:4; stroke-opacity:1; fill:none\" points=\"\n",
       "  277.391,162.047 277.391,1447.87 835.84,1447.87 835.84,162.047 277.391,162.047 \n",
       "  \"/>\n",
       "<path clip-path=\"url(#clip092)\" d=\"\n",
       "M975.452 482.27 L975.452 1447.87 L1533.9 1447.87 L1533.9 482.27 L975.452 482.27 L975.452 482.27  Z\n",
       "  \" fill=\"#009af9\" fill-rule=\"evenodd\" fill-opacity=\"1\"/>\n",
       "<polyline clip-path=\"url(#clip092)\" style=\"stroke:#000000; stroke-width:4; stroke-opacity:1; fill:none\" points=\"\n",
       "  975.452,482.27 975.452,1447.87 1533.9,1447.87 1533.9,482.27 975.452,482.27 \n",
       "  \"/>\n",
       "<path clip-path=\"url(#clip092)\" d=\"\n",
       "M1673.51 952.922 L1673.51 1447.87 L2231.96 1447.87 L2231.96 952.922 L1673.51 952.922 L1673.51 952.922  Z\n",
       "  \" fill=\"#009af9\" fill-rule=\"evenodd\" fill-opacity=\"1\"/>\n",
       "<polyline clip-path=\"url(#clip092)\" style=\"stroke:#000000; stroke-width:4; stroke-opacity:1; fill:none\" points=\"\n",
       "  1673.51,952.922 1673.51,1447.87 2231.96,1447.87 2231.96,952.922 1673.51,952.922 \n",
       "  \"/>\n",
       "</svg>\n"
      ]
     },
     "execution_count": 77,
     "metadata": {},
     "output_type": "execute_result"
    }
   ],
   "source": [
    "a1 = [nrow(first_class_survivors) / nrow(first_class),\n",
    "        nrow(second_class_survivors) / nrow(second_class),\n",
    "        nrow(third_class_survivors) / nrow(third_class)]\n",
    "\n",
    "bar([\"First class\", \"Second class\", \"Third class\"], a1,\n",
    "        title=\"Survival rate per class\", legend=false)"
   ]
  },
  {
   "cell_type": "code",
   "execution_count": 81,
   "metadata": {},
   "outputs": [
    {
     "data": {
      "text/plain": [
       "-0.33848103596101586"
      ]
     },
     "execution_count": 81,
     "metadata": {},
     "output_type": "execute_result"
    }
   ],
   "source": [
    "cor(data.Survived, data.Pclass)"
   ]
  },
  {
   "cell_type": "markdown",
   "metadata": {},
   "source": [
    "Great news, we found our first influencial value. Just by being in the first class, a person has a 60% chance of survival. We can hopefully combine this property with others to more accurately estimate our chances of survival. "
   ]
  },
  {
   "cell_type": "code",
   "execution_count": null,
   "metadata": {},
   "outputs": [],
   "source": []
  },
  {
   "cell_type": "code",
   "execution_count": 43,
   "metadata": {},
   "outputs": [
    {
     "data": {
      "text/latex": [
       "No documentation found.\n",
       "\n",
       "Binding \\texttt{Integer8} does not exist.\n",
       "\n"
      ],
      "text/markdown": [
       "No documentation found.\n",
       "\n",
       "Binding `Integer8` does not exist.\n"
      ],
      "text/plain": [
       "  No documentation found.\n",
       "\n",
       "  Binding \u001b[36mInteger8\u001b[39m does not exist."
      ]
     },
     "execution_count": 43,
     "metadata": {},
     "output_type": "execute_result"
    }
   ],
   "source": [
    "@doc Integer8"
   ]
  },
  {
   "cell_type": "code",
   "execution_count": null,
   "metadata": {},
   "outputs": [],
   "source": []
  },
  {
   "cell_type": "code",
   "execution_count": null,
   "metadata": {},
   "outputs": [],
   "source": []
  },
  {
   "cell_type": "code",
   "execution_count": null,
   "metadata": {},
   "outputs": [],
   "source": []
  },
  {
   "cell_type": "code",
   "execution_count": null,
   "metadata": {},
   "outputs": [],
   "source": []
  },
  {
   "cell_type": "code",
   "execution_count": 6,
   "metadata": {},
   "outputs": [
    {
     "data": {
      "text/plain": [
       "891-element Vector{Int64}:\n",
       " 0\n",
       " 1\n",
       " 1\n",
       " 1\n",
       " 0\n",
       " 0\n",
       " 0\n",
       " 0\n",
       " 1\n",
       " 1\n",
       " 1\n",
       " 1\n",
       " 0\n",
       " ⋮\n",
       " 1\n",
       " 1\n",
       " 0\n",
       " 0\n",
       " 0\n",
       " 0\n",
       " 0\n",
       " 0\n",
       " 1\n",
       " 0\n",
       " 1\n",
       " 0"
      ]
     },
     "execution_count": 6,
     "metadata": {},
     "output_type": "execute_result"
    }
   ],
   "source": [
    "y = data.Survived"
   ]
  },
  {
   "cell_type": "markdown",
   "metadata": {},
   "source": []
  }
 ],
 "metadata": {
  "kernelspec": {
   "display_name": "Julia 1.6.0",
   "language": "julia",
   "name": "julia-1.6"
  },
  "language_info": {
   "file_extension": ".jl",
   "mimetype": "application/julia",
   "name": "julia",
   "version": "1.6.0"
  }
 },
 "nbformat": 4,
 "nbformat_minor": 4
}
